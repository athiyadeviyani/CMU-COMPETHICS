{
 "cells": [
  {
   "cell_type": "markdown",
   "id": "7f7e88c5",
   "metadata": {},
   "source": [
    "# 11-830 Computational Ethics for NLP\n",
    "## Homework 1"
   ]
  },
  {
   "cell_type": "code",
   "execution_count": 103,
   "id": "cea83001",
   "metadata": {},
   "outputs": [
    {
     "name": "stderr",
     "output_type": "stream",
     "text": [
      "[nltk_data] Downloading package stopwords to\n",
      "[nltk_data]     /Users/athiyadeviyani/nltk_data...\n",
      "[nltk_data]   Package stopwords is already up-to-date!\n",
      "[nltk_data] Downloading package vader_lexicon to\n",
      "[nltk_data]     /Users/athiyadeviyani/nltk_data...\n",
      "[nltk_data]   Package vader_lexicon is already up-to-date!\n"
     ]
    }
   ],
   "source": [
    "import numpy as np # linear algebra\n",
    "import pandas as pd # data processing, CSV file I/O (e.g. pd.read_csv)\n",
    "from matplotlib import pyplot as plt\n",
    "plt.style.use('ggplot')\n",
    "\n",
    "import os\n",
    "from tqdm import tqdm\n",
    "\n",
    "import os\n",
    "import numpy as np\n",
    "import pandas as pd\n",
    "from matplotlib import pyplot as plt\n",
    "\n",
    "import nltk\n",
    "from nltk import RegexpTokenizer\n",
    "from nltk.corpus import stopwords\n",
    "nltk.download('stopwords')\n",
    "stop_words = stopwords.words('english')\n",
    "\n",
    "import nltk\n",
    "nltk.download('vader_lexicon')\n",
    "from nltk.sentiment.vader import SentimentIntensityAnalyzer\n",
    "sid = SentimentIntensityAnalyzer()"
   ]
  },
  {
   "cell_type": "markdown",
   "id": "7c6c1597",
   "metadata": {},
   "source": [
    "# Preprocessing"
   ]
  },
  {
   "cell_type": "markdown",
   "id": "537b865a",
   "metadata": {},
   "source": [
    "## Load the data"
   ]
  },
  {
   "cell_type": "code",
   "execution_count": 104,
   "id": "d0ee3683",
   "metadata": {},
   "outputs": [],
   "source": [
    "train = pd.read_table('snli/snli_1.0_train.txt', delimiter = '\\t')"
   ]
  },
  {
   "cell_type": "code",
   "execution_count": 3,
   "id": "a1d6c11c",
   "metadata": {},
   "outputs": [
    {
     "data": {
      "text/html": [
       "<div>\n",
       "<style scoped>\n",
       "    .dataframe tbody tr th:only-of-type {\n",
       "        vertical-align: middle;\n",
       "    }\n",
       "\n",
       "    .dataframe tbody tr th {\n",
       "        vertical-align: top;\n",
       "    }\n",
       "\n",
       "    .dataframe thead th {\n",
       "        text-align: right;\n",
       "    }\n",
       "</style>\n",
       "<table border=\"1\" class=\"dataframe\">\n",
       "  <thead>\n",
       "    <tr style=\"text-align: right;\">\n",
       "      <th></th>\n",
       "      <th>gold_label</th>\n",
       "      <th>sentence1_binary_parse</th>\n",
       "      <th>sentence2_binary_parse</th>\n",
       "      <th>sentence1_parse</th>\n",
       "      <th>sentence2_parse</th>\n",
       "      <th>sentence1</th>\n",
       "      <th>sentence2</th>\n",
       "      <th>captionID</th>\n",
       "      <th>pairID</th>\n",
       "      <th>label1</th>\n",
       "      <th>label2</th>\n",
       "      <th>label3</th>\n",
       "      <th>label4</th>\n",
       "      <th>label5</th>\n",
       "    </tr>\n",
       "  </thead>\n",
       "  <tbody>\n",
       "    <tr>\n",
       "      <th>0</th>\n",
       "      <td>neutral</td>\n",
       "      <td>( ( ( A person ) ( on ( a horse ) ) ) ( ( jump...</td>\n",
       "      <td>( ( A person ) ( ( is ( ( training ( his horse...</td>\n",
       "      <td>(ROOT (S (NP (NP (DT A) (NN person)) (PP (IN o...</td>\n",
       "      <td>(ROOT (S (NP (DT A) (NN person)) (VP (VBZ is) ...</td>\n",
       "      <td>A person on a horse jumps over a broken down a...</td>\n",
       "      <td>A person is training his horse for a competition.</td>\n",
       "      <td>3416050480.jpg#4</td>\n",
       "      <td>3416050480.jpg#4r1n</td>\n",
       "      <td>neutral</td>\n",
       "      <td>NaN</td>\n",
       "      <td>NaN</td>\n",
       "      <td>NaN</td>\n",
       "      <td>NaN</td>\n",
       "    </tr>\n",
       "    <tr>\n",
       "      <th>1</th>\n",
       "      <td>contradiction</td>\n",
       "      <td>( ( ( A person ) ( on ( a horse ) ) ) ( ( jump...</td>\n",
       "      <td>( ( A person ) ( ( ( ( is ( at ( a diner ) ) )...</td>\n",
       "      <td>(ROOT (S (NP (NP (DT A) (NN person)) (PP (IN o...</td>\n",
       "      <td>(ROOT (S (NP (DT A) (NN person)) (VP (VBZ is) ...</td>\n",
       "      <td>A person on a horse jumps over a broken down a...</td>\n",
       "      <td>A person is at a diner, ordering an omelette.</td>\n",
       "      <td>3416050480.jpg#4</td>\n",
       "      <td>3416050480.jpg#4r1c</td>\n",
       "      <td>contradiction</td>\n",
       "      <td>NaN</td>\n",
       "      <td>NaN</td>\n",
       "      <td>NaN</td>\n",
       "      <td>NaN</td>\n",
       "    </tr>\n",
       "    <tr>\n",
       "      <th>2</th>\n",
       "      <td>entailment</td>\n",
       "      <td>( ( ( A person ) ( on ( a horse ) ) ) ( ( jump...</td>\n",
       "      <td>( ( A person ) ( ( ( ( is outdoors ) , ) ( on ...</td>\n",
       "      <td>(ROOT (S (NP (NP (DT A) (NN person)) (PP (IN o...</td>\n",
       "      <td>(ROOT (S (NP (DT A) (NN person)) (VP (VBZ is) ...</td>\n",
       "      <td>A person on a horse jumps over a broken down a...</td>\n",
       "      <td>A person is outdoors, on a horse.</td>\n",
       "      <td>3416050480.jpg#4</td>\n",
       "      <td>3416050480.jpg#4r1e</td>\n",
       "      <td>entailment</td>\n",
       "      <td>NaN</td>\n",
       "      <td>NaN</td>\n",
       "      <td>NaN</td>\n",
       "      <td>NaN</td>\n",
       "    </tr>\n",
       "    <tr>\n",
       "      <th>3</th>\n",
       "      <td>neutral</td>\n",
       "      <td>( Children ( ( ( smiling and ) waving ) ( at c...</td>\n",
       "      <td>( They ( are ( smiling ( at ( their parents ) ...</td>\n",
       "      <td>(ROOT (NP (S (NP (NNP Children)) (VP (VBG smil...</td>\n",
       "      <td>(ROOT (S (NP (PRP They)) (VP (VBP are) (VP (VB...</td>\n",
       "      <td>Children smiling and waving at camera</td>\n",
       "      <td>They are smiling at their parents</td>\n",
       "      <td>2267923837.jpg#2</td>\n",
       "      <td>2267923837.jpg#2r1n</td>\n",
       "      <td>neutral</td>\n",
       "      <td>NaN</td>\n",
       "      <td>NaN</td>\n",
       "      <td>NaN</td>\n",
       "      <td>NaN</td>\n",
       "    </tr>\n",
       "    <tr>\n",
       "      <th>4</th>\n",
       "      <td>entailment</td>\n",
       "      <td>( Children ( ( ( smiling and ) waving ) ( at c...</td>\n",
       "      <td>( There ( ( are children ) present ) )</td>\n",
       "      <td>(ROOT (NP (S (NP (NNP Children)) (VP (VBG smil...</td>\n",
       "      <td>(ROOT (S (NP (EX There)) (VP (VBP are) (NP (NN...</td>\n",
       "      <td>Children smiling and waving at camera</td>\n",
       "      <td>There are children present</td>\n",
       "      <td>2267923837.jpg#2</td>\n",
       "      <td>2267923837.jpg#2r1e</td>\n",
       "      <td>entailment</td>\n",
       "      <td>NaN</td>\n",
       "      <td>NaN</td>\n",
       "      <td>NaN</td>\n",
       "      <td>NaN</td>\n",
       "    </tr>\n",
       "  </tbody>\n",
       "</table>\n",
       "</div>"
      ],
      "text/plain": [
       "      gold_label                             sentence1_binary_parse  \\\n",
       "0        neutral  ( ( ( A person ) ( on ( a horse ) ) ) ( ( jump...   \n",
       "1  contradiction  ( ( ( A person ) ( on ( a horse ) ) ) ( ( jump...   \n",
       "2     entailment  ( ( ( A person ) ( on ( a horse ) ) ) ( ( jump...   \n",
       "3        neutral  ( Children ( ( ( smiling and ) waving ) ( at c...   \n",
       "4     entailment  ( Children ( ( ( smiling and ) waving ) ( at c...   \n",
       "\n",
       "                              sentence2_binary_parse  \\\n",
       "0  ( ( A person ) ( ( is ( ( training ( his horse...   \n",
       "1  ( ( A person ) ( ( ( ( is ( at ( a diner ) ) )...   \n",
       "2  ( ( A person ) ( ( ( ( is outdoors ) , ) ( on ...   \n",
       "3  ( They ( are ( smiling ( at ( their parents ) ...   \n",
       "4             ( There ( ( are children ) present ) )   \n",
       "\n",
       "                                     sentence1_parse  \\\n",
       "0  (ROOT (S (NP (NP (DT A) (NN person)) (PP (IN o...   \n",
       "1  (ROOT (S (NP (NP (DT A) (NN person)) (PP (IN o...   \n",
       "2  (ROOT (S (NP (NP (DT A) (NN person)) (PP (IN o...   \n",
       "3  (ROOT (NP (S (NP (NNP Children)) (VP (VBG smil...   \n",
       "4  (ROOT (NP (S (NP (NNP Children)) (VP (VBG smil...   \n",
       "\n",
       "                                     sentence2_parse  \\\n",
       "0  (ROOT (S (NP (DT A) (NN person)) (VP (VBZ is) ...   \n",
       "1  (ROOT (S (NP (DT A) (NN person)) (VP (VBZ is) ...   \n",
       "2  (ROOT (S (NP (DT A) (NN person)) (VP (VBZ is) ...   \n",
       "3  (ROOT (S (NP (PRP They)) (VP (VBP are) (VP (VB...   \n",
       "4  (ROOT (S (NP (EX There)) (VP (VBP are) (NP (NN...   \n",
       "\n",
       "                                           sentence1  \\\n",
       "0  A person on a horse jumps over a broken down a...   \n",
       "1  A person on a horse jumps over a broken down a...   \n",
       "2  A person on a horse jumps over a broken down a...   \n",
       "3              Children smiling and waving at camera   \n",
       "4              Children smiling and waving at camera   \n",
       "\n",
       "                                           sentence2         captionID  \\\n",
       "0  A person is training his horse for a competition.  3416050480.jpg#4   \n",
       "1      A person is at a diner, ordering an omelette.  3416050480.jpg#4   \n",
       "2                  A person is outdoors, on a horse.  3416050480.jpg#4   \n",
       "3                  They are smiling at their parents  2267923837.jpg#2   \n",
       "4                         There are children present  2267923837.jpg#2   \n",
       "\n",
       "                pairID         label1 label2 label3 label4 label5  \n",
       "0  3416050480.jpg#4r1n        neutral    NaN    NaN    NaN    NaN  \n",
       "1  3416050480.jpg#4r1c  contradiction    NaN    NaN    NaN    NaN  \n",
       "2  3416050480.jpg#4r1e     entailment    NaN    NaN    NaN    NaN  \n",
       "3  2267923837.jpg#2r1n        neutral    NaN    NaN    NaN    NaN  \n",
       "4  2267923837.jpg#2r1e     entailment    NaN    NaN    NaN    NaN  "
      ]
     },
     "execution_count": 3,
     "metadata": {},
     "output_type": "execute_result"
    }
   ],
   "source": [
    "train.head()"
   ]
  },
  {
   "cell_type": "code",
   "execution_count": 4,
   "id": "597f5aeb",
   "metadata": {},
   "outputs": [],
   "source": [
    "premises = pd.DataFrame()\n",
    "premises[\"sentence\"] = train[\"sentence1\"]\n",
    "\n",
    "hypotheses = pd.DataFrame()\n",
    "hypotheses[\"sentence\"] = train[\"sentence2\"]"
   ]
  },
  {
   "cell_type": "code",
   "execution_count": 5,
   "id": "85fa079a",
   "metadata": {},
   "outputs": [
    {
     "data": {
      "text/html": [
       "<div>\n",
       "<style scoped>\n",
       "    .dataframe tbody tr th:only-of-type {\n",
       "        vertical-align: middle;\n",
       "    }\n",
       "\n",
       "    .dataframe tbody tr th {\n",
       "        vertical-align: top;\n",
       "    }\n",
       "\n",
       "    .dataframe thead th {\n",
       "        text-align: right;\n",
       "    }\n",
       "</style>\n",
       "<table border=\"1\" class=\"dataframe\">\n",
       "  <thead>\n",
       "    <tr style=\"text-align: right;\">\n",
       "      <th></th>\n",
       "      <th>sentence</th>\n",
       "    </tr>\n",
       "  </thead>\n",
       "  <tbody>\n",
       "    <tr>\n",
       "      <th>0</th>\n",
       "      <td>A person on a horse jumps over a broken down a...</td>\n",
       "    </tr>\n",
       "    <tr>\n",
       "      <th>1</th>\n",
       "      <td>A person on a horse jumps over a broken down a...</td>\n",
       "    </tr>\n",
       "    <tr>\n",
       "      <th>2</th>\n",
       "      <td>A person on a horse jumps over a broken down a...</td>\n",
       "    </tr>\n",
       "    <tr>\n",
       "      <th>3</th>\n",
       "      <td>Children smiling and waving at camera</td>\n",
       "    </tr>\n",
       "    <tr>\n",
       "      <th>4</th>\n",
       "      <td>Children smiling and waving at camera</td>\n",
       "    </tr>\n",
       "  </tbody>\n",
       "</table>\n",
       "</div>"
      ],
      "text/plain": [
       "                                            sentence\n",
       "0  A person on a horse jumps over a broken down a...\n",
       "1  A person on a horse jumps over a broken down a...\n",
       "2  A person on a horse jumps over a broken down a...\n",
       "3              Children smiling and waving at camera\n",
       "4              Children smiling and waving at camera"
      ]
     },
     "execution_count": 5,
     "metadata": {},
     "output_type": "execute_result"
    }
   ],
   "source": [
    "premises.head()"
   ]
  },
  {
   "cell_type": "code",
   "execution_count": 6,
   "id": "322e3262",
   "metadata": {},
   "outputs": [
    {
     "data": {
      "text/html": [
       "<div>\n",
       "<style scoped>\n",
       "    .dataframe tbody tr th:only-of-type {\n",
       "        vertical-align: middle;\n",
       "    }\n",
       "\n",
       "    .dataframe tbody tr th {\n",
       "        vertical-align: top;\n",
       "    }\n",
       "\n",
       "    .dataframe thead th {\n",
       "        text-align: right;\n",
       "    }\n",
       "</style>\n",
       "<table border=\"1\" class=\"dataframe\">\n",
       "  <thead>\n",
       "    <tr style=\"text-align: right;\">\n",
       "      <th></th>\n",
       "      <th>sentence</th>\n",
       "    </tr>\n",
       "  </thead>\n",
       "  <tbody>\n",
       "    <tr>\n",
       "      <th>0</th>\n",
       "      <td>A person is training his horse for a competition.</td>\n",
       "    </tr>\n",
       "    <tr>\n",
       "      <th>1</th>\n",
       "      <td>A person is at a diner, ordering an omelette.</td>\n",
       "    </tr>\n",
       "    <tr>\n",
       "      <th>2</th>\n",
       "      <td>A person is outdoors, on a horse.</td>\n",
       "    </tr>\n",
       "    <tr>\n",
       "      <th>3</th>\n",
       "      <td>They are smiling at their parents</td>\n",
       "    </tr>\n",
       "    <tr>\n",
       "      <th>4</th>\n",
       "      <td>There are children present</td>\n",
       "    </tr>\n",
       "  </tbody>\n",
       "</table>\n",
       "</div>"
      ],
      "text/plain": [
       "                                            sentence\n",
       "0  A person is training his horse for a competition.\n",
       "1      A person is at a diner, ordering an omelette.\n",
       "2                  A person is outdoors, on a horse.\n",
       "3                  They are smiling at their parents\n",
       "4                         There are children present"
      ]
     },
     "execution_count": 6,
     "metadata": {},
     "output_type": "execute_result"
    }
   ],
   "source": [
    "hypotheses.head()"
   ]
  },
  {
   "cell_type": "code",
   "execution_count": 14,
   "id": "0a4ba0a7",
   "metadata": {},
   "outputs": [
    {
     "data": {
      "text/plain": [
       "['woman', 'women', 'man', 'men', 'girl', 'girls', 'boy', 'boys', 'she', 'he']"
      ]
     },
     "execution_count": 14,
     "metadata": {},
     "output_type": "execute_result"
    }
   ],
   "source": [
    "my_file = open('identity_labels.txt', \"r\")\n",
    "content = my_file.read()\n",
    "identities = content.split('\\n')\n",
    "identities[:10]"
   ]
  },
  {
   "cell_type": "markdown",
   "id": "1793da96",
   "metadata": {},
   "source": [
    "## Preprocess the data\n",
    "\n",
    "Lowercase, remove stopwords and tokenize the data. Remove duplicates."
   ]
  },
  {
   "cell_type": "code",
   "execution_count": 7,
   "id": "fb0a19aa",
   "metadata": {},
   "outputs": [],
   "source": [
    "premises.drop_duplicates(inplace=True)\n",
    "hypotheses.drop_duplicates(inplace=True)"
   ]
  },
  {
   "cell_type": "code",
   "execution_count": 8,
   "id": "c6583e05",
   "metadata": {},
   "outputs": [
    {
     "data": {
      "text/html": [
       "<div>\n",
       "<style scoped>\n",
       "    .dataframe tbody tr th:only-of-type {\n",
       "        vertical-align: middle;\n",
       "    }\n",
       "\n",
       "    .dataframe tbody tr th {\n",
       "        vertical-align: top;\n",
       "    }\n",
       "\n",
       "    .dataframe thead th {\n",
       "        text-align: right;\n",
       "    }\n",
       "</style>\n",
       "<table border=\"1\" class=\"dataframe\">\n",
       "  <thead>\n",
       "    <tr style=\"text-align: right;\">\n",
       "      <th></th>\n",
       "      <th>sentence</th>\n",
       "    </tr>\n",
       "  </thead>\n",
       "  <tbody>\n",
       "    <tr>\n",
       "      <th>count</th>\n",
       "      <td>150736</td>\n",
       "    </tr>\n",
       "    <tr>\n",
       "      <th>unique</th>\n",
       "      <td>150736</td>\n",
       "    </tr>\n",
       "    <tr>\n",
       "      <th>top</th>\n",
       "      <td>A person on a horse jumps over a broken down a...</td>\n",
       "    </tr>\n",
       "    <tr>\n",
       "      <th>freq</th>\n",
       "      <td>1</td>\n",
       "    </tr>\n",
       "  </tbody>\n",
       "</table>\n",
       "</div>"
      ],
      "text/plain": [
       "                                                 sentence\n",
       "count                                              150736\n",
       "unique                                             150736\n",
       "top     A person on a horse jumps over a broken down a...\n",
       "freq                                                    1"
      ]
     },
     "execution_count": 8,
     "metadata": {},
     "output_type": "execute_result"
    }
   ],
   "source": [
    "premises.describe()"
   ]
  },
  {
   "cell_type": "code",
   "execution_count": 9,
   "id": "4c859436",
   "metadata": {},
   "outputs": [
    {
     "data": {
      "text/html": [
       "<div>\n",
       "<style scoped>\n",
       "    .dataframe tbody tr th:only-of-type {\n",
       "        vertical-align: middle;\n",
       "    }\n",
       "\n",
       "    .dataframe tbody tr th {\n",
       "        vertical-align: top;\n",
       "    }\n",
       "\n",
       "    .dataframe thead th {\n",
       "        text-align: right;\n",
       "    }\n",
       "</style>\n",
       "<table border=\"1\" class=\"dataframe\">\n",
       "  <thead>\n",
       "    <tr style=\"text-align: right;\">\n",
       "      <th></th>\n",
       "      <th>sentence</th>\n",
       "    </tr>\n",
       "  </thead>\n",
       "  <tbody>\n",
       "    <tr>\n",
       "      <th>count</th>\n",
       "      <td>480040</td>\n",
       "    </tr>\n",
       "    <tr>\n",
       "      <th>unique</th>\n",
       "      <td>480040</td>\n",
       "    </tr>\n",
       "    <tr>\n",
       "      <th>top</th>\n",
       "      <td>A person is training his horse for a competition.</td>\n",
       "    </tr>\n",
       "    <tr>\n",
       "      <th>freq</th>\n",
       "      <td>1</td>\n",
       "    </tr>\n",
       "  </tbody>\n",
       "</table>\n",
       "</div>"
      ],
      "text/plain": [
       "                                                 sentence\n",
       "count                                              480040\n",
       "unique                                             480040\n",
       "top     A person is training his horse for a competition.\n",
       "freq                                                    1"
      ]
     },
     "execution_count": 9,
     "metadata": {},
     "output_type": "execute_result"
    }
   ],
   "source": [
    "hypotheses.describe()"
   ]
  },
  {
   "cell_type": "code",
   "execution_count": 29,
   "id": "982ad464",
   "metadata": {},
   "outputs": [
    {
     "data": {
      "text/plain": [
       "['jumps', 'broken', 'airplane', 'horse', 'person']"
      ]
     },
     "execution_count": 29,
     "metadata": {},
     "output_type": "execute_result"
    }
   ],
   "source": [
    "tokenizer = RegexpTokenizer('[a-z]\\w+')\n",
    "\n",
    "def preprocess(sentence):\n",
    "    if isinstance(sentence, float):\n",
    "        return []\n",
    "    else:\n",
    "        sentence = sentence.lower()\n",
    "        tokenized = tokenizer.tokenize(sentence)\n",
    "        return list(set([word for word in tokenized if word not in stop_words]))\n",
    "    \n",
    "preprocess('Person on a horse jumps over a broken down airplane.')"
   ]
  },
  {
   "cell_type": "code",
   "execution_count": 11,
   "id": "7b21c2f4",
   "metadata": {},
   "outputs": [],
   "source": [
    "# This cell takes a while to run (~2 mins)\n",
    "\n",
    "premises[\"sentence\"] = premises[\"sentence\"].map(preprocess)\n",
    "hypotheses[\"sentence\"] = hypotheses[\"sentence\"].map(preprocess)"
   ]
  },
  {
   "cell_type": "code",
   "execution_count": 13,
   "id": "9451eeb7",
   "metadata": {},
   "outputs": [
    {
     "data": {
      "text/plain": [
       "(                                 sentence\n",
       " 0  [horse, training, competition, person],\n",
       "                                    sentence\n",
       " 0  [jumps, broken, airplane, horse, person])"
      ]
     },
     "execution_count": 13,
     "metadata": {},
     "output_type": "execute_result"
    }
   ],
   "source": [
    "hypotheses.head(1), premises.head(1)"
   ]
  },
  {
   "cell_type": "markdown",
   "id": "5d64d2a9",
   "metadata": {},
   "source": [
    "## Get the word occurence dictionary for premise and hypothesis"
   ]
  },
  {
   "cell_type": "code",
   "execution_count": 16,
   "id": "9025c189",
   "metadata": {},
   "outputs": [
    {
     "name": "stderr",
     "output_type": "stream",
     "text": [
      "100%|████████████████████████████████████████████████████████████████████████████████████| 150736/150736 [00:00<00:00, 401842.59it/s]\n",
      "100%|████████████████████████████████████████████████████████████████████████████████████| 480041/480041 [00:00<00:00, 585438.03it/s]\n"
     ]
    }
   ],
   "source": [
    "premise_dict = {}\n",
    "hyp_dict = {}\n",
    "\n",
    "def fill_dict(source, target_dict):\n",
    "    for sentence in tqdm(source.values):\n",
    "        sentence = sentence[0]\n",
    "        for word in sentence:\n",
    "            target_dict[word] = target_dict.get(word, 0) + 1\n",
    "            \n",
    "fill_dict(premises, premise_dict)\n",
    "fill_dict(hypotheses, hyp_dict)"
   ]
  },
  {
   "cell_type": "code",
   "execution_count": 18,
   "id": "617b614c",
   "metadata": {},
   "outputs": [
    {
     "name": "stderr",
     "output_type": "stream",
     "text": [
      "100%|█████████████████████████████████████████████████████████████████████████████████████| 150736/150736 [00:03<00:00, 43797.27it/s]\n",
      "100%|█████████████████████████████████████████████████████████████████████████████████████| 480041/480041 [00:07<00:00, 67428.21it/s]\n"
     ]
    }
   ],
   "source": [
    "co_premise_dict = {}\n",
    "co_hyp_dict = {}\n",
    "\n",
    "def fill_co_dict(source, target_dict):\n",
    "    for sentence in tqdm(source.values):\n",
    "        sentence = sentence[0]\n",
    "        for identity in identities:\n",
    "            if identity in sentence:\n",
    "                for word in sentence:\n",
    "                    key = (identity, word)\n",
    "                    target_dict[key] = target_dict.get(key, 0) + 1\n",
    "                    \n",
    "fill_co_dict(premises, co_premise_dict)\n",
    "fill_co_dict(hypotheses, co_hyp_dict)"
   ]
  },
  {
   "cell_type": "code",
   "execution_count": 40,
   "id": "2b854fdf",
   "metadata": {},
   "outputs": [
    {
     "data": {
      "text/plain": [
       "4289"
      ]
     },
     "execution_count": 40,
     "metadata": {},
     "output_type": "execute_result"
    }
   ],
   "source": [
    "key = ('woman', 'man')\n",
    "co_premise_dict[key]"
   ]
  },
  {
   "cell_type": "code",
   "execution_count": 38,
   "id": "186ca299",
   "metadata": {},
   "outputs": [
    {
     "data": {
      "text/plain": [
       "[(('man', 'shirt'), 6610),\n",
       " (('man', 'wearing'), 4781),\n",
       " (('men', 'two'), 4756),\n",
       " (('woman', 'man'), 4289),\n",
       " (('man', 'woman'), 4289),\n",
       " (('man', 'black'), 3718),\n",
       " (('black', 'man'), 3718),\n",
       " (('man', 'white'), 3524),\n",
       " (('white', 'man'), 3524),\n",
       " (('man', 'blue'), 3508)]"
      ]
     },
     "execution_count": 38,
     "metadata": {},
     "output_type": "execute_result"
    }
   ],
   "source": [
    "sorted_coprem = sorted(co_premise_dict.items(), key=lambda x: x[1], reverse=True)\n",
    "[((x,y), z) for ((x,y),z) in sorted_coprem if x != y][:10]"
   ]
  },
  {
   "cell_type": "code",
   "execution_count": 39,
   "id": "44a26012",
   "metadata": {},
   "outputs": [
    {
     "data": {
      "text/plain": [
       "[(('men', 'two'), 9304),\n",
       " (('woman', 'man'), 5924),\n",
       " (('man', 'woman'), 5924),\n",
       " (('man', 'wearing'), 4779),\n",
       " (('women', 'two'), 4681),\n",
       " (('man', 'sitting'), 3456),\n",
       " (('man', 'playing'), 3356),\n",
       " (('man', 'shirt'), 3185),\n",
       " (('man', 'young'), 2933),\n",
       " (('young', 'man'), 2933)]"
      ]
     },
     "execution_count": 39,
     "metadata": {},
     "output_type": "execute_result"
    }
   ],
   "source": [
    "sorted_cohyp = sorted(co_hyp_dict.items(), key=lambda x: x[1], reverse=True)\n",
    "[((x,y), z) for ((x,y),z) in sorted_cohyp if x != y][:10]"
   ]
  },
  {
   "cell_type": "code",
   "execution_count": 80,
   "id": "c367de77",
   "metadata": {},
   "outputs": [],
   "source": [
    "co_premise_dict = {k:v for k,v in co_premise_dict.items() if v >= 10}\n",
    "co_hyp_dict = {k:v for k,v in co_hyp_dict.items() if v >= 10}"
   ]
  },
  {
   "cell_type": "markdown",
   "id": "c0900653",
   "metadata": {},
   "source": [
    "## Calculte PMI"
   ]
  },
  {
   "cell_type": "code",
   "execution_count": 85,
   "id": "846c107b",
   "metadata": {},
   "outputs": [],
   "source": [
    "def get_pmi(wi, wj, source=\"premise\"):\n",
    "    if source == \"premise\":\n",
    "        word_count_dic = premise_dict\n",
    "        co_dict = co_premise_dict\n",
    "        N = len(premises.values)\n",
    "    else:\n",
    "        word_count_dic = hyp_dict\n",
    "        co_dict = co_hyp_dict\n",
    "        N = len(hypotheses.values)\n",
    "    \n",
    "    c_wi = word_count_dic[wi]\n",
    "    c_wj = word_count_dic[wj]\n",
    "    c_wi_wj = co_dict[(wi, wj)]\n",
    "    # print(c_wi, c_wj, c_wi_wj)\n",
    "    \n",
    "    pmi = np.log2( (N * c_wi_wj) / (c_wi * c_wj) )\n",
    "    \n",
    "    return pmi"
   ]
  },
  {
   "cell_type": "code",
   "execution_count": 86,
   "id": "1ece0387",
   "metadata": {},
   "outputs": [
    {
     "data": {
      "text/plain": [
       "-0.2797887539473858"
      ]
     },
     "execution_count": 86,
     "metadata": {},
     "output_type": "execute_result"
    }
   ],
   "source": [
    "get_pmi('woman', 'man', source=\"premise\")"
   ]
  },
  {
   "cell_type": "code",
   "execution_count": 87,
   "id": "4c7e20bf",
   "metadata": {},
   "outputs": [],
   "source": [
    "def get_pmi_all(source=\"premise\"):\n",
    "    if source == \"premise\":\n",
    "        co_dict = co_premise_dict\n",
    "    else:\n",
    "        co_dict = co_hyp_dict\n",
    "    \n",
    "    pmi_dict = {}\n",
    "    for (identity, word) in co_dict:\n",
    "        key = (identity, word)\n",
    "        pmi_dict[key] = get_pmi(identity, word, source)\n",
    "        \n",
    "    return pmi_dict"
   ]
  },
  {
   "cell_type": "code",
   "execution_count": 88,
   "id": "d73402df",
   "metadata": {},
   "outputs": [],
   "source": [
    "pmi_premise = get_pmi_all(\"premise\")"
   ]
  },
  {
   "cell_type": "code",
   "execution_count": 89,
   "id": "b584fad0",
   "metadata": {},
   "outputs": [],
   "source": [
    "pmi_hyp = get_pmi_all(\"hyp\")"
   ]
  },
  {
   "cell_type": "code",
   "execution_count": 90,
   "id": "6bf13e3b",
   "metadata": {},
   "outputs": [
    {
     "data": {
      "text/plain": [
       "[(('senior', 'citizen'), 11.839094409326705),\n",
       " (('polish', 'nail'), 11.294773893102894),\n",
       " (('senior', 'citizens'), 10.536974795519523),\n",
       " (('german', 'shepherd'), 10.363160868083144),\n",
       " (('french', 'horn'), 9.430175019210814),\n",
       " (('father', 'son'), 7.974449683918122),\n",
       " (('son', 'father'), 7.974449683918122),\n",
       " (('straight', 'ahead'), 7.945365061793425),\n",
       " (('american', 'footballer'), 7.394309566653809),\n",
       " (('mother', 'daughter'), 7.252713288269991)]"
      ]
     },
     "execution_count": 90,
     "metadata": {},
     "output_type": "execute_result"
    }
   ],
   "source": [
    "sorted_pmiprem = sorted(pmi_premise.items(), key=lambda x: x[1], reverse=True)\n",
    "[((x,y), z) for ((x,y),z) in sorted_pmiprem if x != y][:10]"
   ]
  },
  {
   "cell_type": "code",
   "execution_count": 91,
   "id": "7976c2dd",
   "metadata": {},
   "outputs": [
    {
     "data": {
      "text/plain": [
       "[(('german', 'shepherd'), 11.736773510385337),\n",
       " (('senior', 'citizen'), 11.73381530258773),\n",
       " (('german', 'shepard'), 11.68050529073859),\n",
       " (('polish', 'nail'), 11.517006558455712),\n",
       " (('buddhist', 'temple'), 11.099109405037627),\n",
       " (('senior', 'citizens'), 11.06815756784879),\n",
       " (('french', 'fries'), 11.065443183151753),\n",
       " (('gay', 'pride'), 10.717979996157254),\n",
       " (('gay', 'rights'), 9.70789117853367),\n",
       " (('french', 'horn'), 9.65040568387291)]"
      ]
     },
     "execution_count": 91,
     "metadata": {},
     "output_type": "execute_result"
    }
   ],
   "source": [
    "sorted_pmihyp = sorted(pmi_hyp.items(), key=lambda x: x[1], reverse=True)\n",
    "[((x,y), z) for ((x,y),z) in sorted_pmihyp if x != y][:10]"
   ]
  },
  {
   "cell_type": "code",
   "execution_count": 105,
   "id": "fc3a8943",
   "metadata": {},
   "outputs": [],
   "source": [
    "def get_n_highest(id_word, pmi_dict, n=10):\n",
    "    id_list = [((x,y),z) for ((x,y),z) in pmi_dict.items() if x==id_word]\n",
    "    sorted_list = sorted(id_list, key=lambda x: x[1], reverse=True)[:n]\n",
    "    return sorted_list"
   ]
  },
  {
   "cell_type": "code",
   "execution_count": 106,
   "id": "17f8de22",
   "metadata": {},
   "outputs": [
    {
     "data": {
      "text/plain": [
       "[(('woman', 'woman'), 2.89069675686166),\n",
       " (('woman', 'mascara'), 2.89069675686166),\n",
       " (('woman', 'lipstick'), 2.5911364750027523),\n",
       " (('woman', 'veil'), 2.528126677476952),\n",
       " (('woman', 'sari'), 2.4545976420549867),\n",
       " (('woman', 'clothesline'), 2.443237779890439),\n",
       " (('woman', 'headscarf'), 2.440035347852095),\n",
       " (('woman', 'blouse'), 2.414668627693668),\n",
       " (('woman', 'purse'), 2.3848058271317027),\n",
       " (('woman', 'handbag'), 2.3236561641377667)]"
      ]
     },
     "execution_count": 106,
     "metadata": {},
     "output_type": "execute_result"
    }
   ],
   "source": [
    "get_n_highest('woman', pmi_premise)"
   ]
  },
  {
   "cell_type": "code",
   "execution_count": 107,
   "id": "4724757d",
   "metadata": {},
   "outputs": [
    {
     "data": {
      "text/plain": [
       "[(('woman', 'woman'), 3.2569960723468223),\n",
       " (('woman', 'weaves'), 2.93506797745946),\n",
       " (('woman', 'chevrolet'), 2.8419585730679784),\n",
       " (('woman', 'veil'), 2.7715692451765803),\n",
       " (('woman', 'bra'), 2.7264813556480423),\n",
       " (('woman', 'applies'), 2.702407220669185),\n",
       " (('woman', 'headscarf'), 2.6469425906628357),\n",
       " (('woman', 'shawl'), 2.6469425906628357),\n",
       " (('woman', 'handbag'), 2.5980329901818893),\n",
       " (('woman', 'lipstick'), 2.5741862482275213)]"
      ]
     },
     "execution_count": 107,
     "metadata": {},
     "output_type": "execute_result"
    }
   ],
   "source": [
    "get_n_highest('woman', pmi_hyp)"
   ]
  },
  {
   "cell_type": "code",
   "execution_count": 108,
   "id": "98733335",
   "metadata": {},
   "outputs": [
    {
     "data": {
      "text/plain": [
       "[(('man', 'man'), 1.9647533772668104),\n",
       " (('man', 'girlfriend'), 1.8867508652655374),\n",
       " (('man', 'mustached'), 1.8578381733502984),\n",
       " (('man', 'shaves'), 1.8578381733502984),\n",
       " (('man', 'breakdances'), 1.8492761598468743),\n",
       " (('man', 'necktie'), 1.8272498535168755),\n",
       " (('man', 'rearing'), 1.8272498535168755),\n",
       " (('man', 'balding'), 1.8162308525567223),\n",
       " (('man', 'beard'), 1.8093990743221224),\n",
       " (('man', 'bearded'), 1.7935667272605869)]"
      ]
     },
     "execution_count": 108,
     "metadata": {},
     "output_type": "execute_result"
    }
   ],
   "source": [
    "get_n_highest('man', pmi_premise)"
   ]
  },
  {
   "cell_type": "code",
   "execution_count": 109,
   "id": "54a0d686",
   "metadata": {},
   "outputs": [
    {
     "data": {
      "text/plain": [
       "[(('man', 'man'), 2.339316274915878),\n",
       " (('man', 'beared'), 2.339316274915878),\n",
       " (('man', 'mustache'), 2.12358758386044),\n",
       " (('man', 'shaven'), 2.1079907288094217),\n",
       " (('man', 'afro'), 2.1048510212788543),\n",
       " (('man', 'accepts'), 2.0983081754120825),\n",
       " (('man', 'propose'), 2.0983081754120825),\n",
       " (('man', 'bearded'), 2.057903339767229),\n",
       " (('man', 'hardhat'), 2.0344616933874566),\n",
       " (('man', 'balding'), 1.9673474975289196)]"
      ]
     },
     "execution_count": 109,
     "metadata": {},
     "output_type": "execute_result"
    }
   ],
   "source": [
    "get_n_highest('man', pmi_hyp)"
   ]
  },
  {
   "cell_type": "markdown",
   "id": "5e02ec1c",
   "metadata": {},
   "source": [
    "# Analysis"
   ]
  },
  {
   "cell_type": "code",
   "execution_count": 111,
   "id": "987e2b4c",
   "metadata": {},
   "outputs": [
    {
     "data": {
      "text/plain": [
       "['woman',\n",
       " 'women',\n",
       " 'man',\n",
       " 'men',\n",
       " 'girl',\n",
       " 'girls',\n",
       " 'boy',\n",
       " 'boys',\n",
       " 'she',\n",
       " 'he',\n",
       " 'her',\n",
       " 'him',\n",
       " 'his',\n",
       " 'female',\n",
       " 'male',\n",
       " 'mother',\n",
       " 'father',\n",
       " 'sister',\n",
       " 'brother',\n",
       " 'daughter',\n",
       " 'son',\n",
       " 'feminine',\n",
       " 'masculine',\n",
       " 'androgynous',\n",
       " 'trans',\n",
       " 'transgender',\n",
       " 'transsexual',\n",
       " 'nonbinary',\n",
       " 'non-binary',\n",
       " 'two-spirit',\n",
       " 'hijra',\n",
       " 'genderqueer',\n",
       " 'black',\n",
       " 'asian',\n",
       " 'hispanic',\n",
       " 'white',\n",
       " 'african',\n",
       " 'american',\n",
       " 'latino',\n",
       " 'latina',\n",
       " 'caucasian',\n",
       " 'africans',\n",
       " 'middle-eastern',\n",
       " 'australian',\n",
       " 'australians',\n",
       " 'asians',\n",
       " 'european',\n",
       " 'europeans',\n",
       " 'chinese',\n",
       " 'indian',\n",
       " 'indonesian',\n",
       " 'brazilian',\n",
       " 'pakistani',\n",
       " 'bangladeshi',\n",
       " 'russian',\n",
       " 'nigerian',\n",
       " 'japanese',\n",
       " 'mexican',\n",
       " 'filipino ',\n",
       " 'vietnamese ',\n",
       " 'german',\n",
       " 'egyptian',\n",
       " 'ethiopian',\n",
       " 'turkish',\n",
       " 'iranian',\n",
       " 'thai',\n",
       " 'congolese',\n",
       " 'french',\n",
       " 'british ',\n",
       " 'italian',\n",
       " 'korean',\n",
       " 'burmese',\n",
       " 'canadian ',\n",
       " 'australian ',\n",
       " 'spanish',\n",
       " 'dutch',\n",
       " 'swiss',\n",
       " 'saudi',\n",
       " 'argentinian ',\n",
       " 'taiwanese ',\n",
       " 'swedish ',\n",
       " 'belgian',\n",
       " 'polish',\n",
       " 'israeli',\n",
       " 'irish',\n",
       " 'greek',\n",
       " 'ukrainian ',\n",
       " 'jamaican ',\n",
       " 'mongolian',\n",
       " 'armenian',\n",
       " 'disability',\n",
       " 'disabled',\n",
       " 'handicap',\n",
       " 'handicapped',\n",
       " 'mentally',\n",
       " 'mental',\n",
       " 'autistic',\n",
       " 'autism',\n",
       " 'lesbian',\n",
       " 'lesbians',\n",
       " 'gay',\n",
       " 'bisexual',\n",
       " 'pansexual',\n",
       " 'asexual',\n",
       " 'queer',\n",
       " 'straight',\n",
       " 'muslim',\n",
       " 'christian',\n",
       " 'jew',\n",
       " 'jewish',\n",
       " 'sikh',\n",
       " 'buddhist',\n",
       " 'hindu',\n",
       " 'atheist',\n",
       " 'muslims',\n",
       " 'christians',\n",
       " 'jews',\n",
       " 'sikhs',\n",
       " 'buddhists',\n",
       " 'hindus',\n",
       " 'atheists',\n",
       " 'old',\n",
       " 'elderly',\n",
       " 'retired',\n",
       " 'teenage',\n",
       " 'young',\n",
       " 'senior',\n",
       " 'seniors',\n",
       " 'teenager',\n",
       " 'teenagers']"
      ]
     },
     "execution_count": 111,
     "metadata": {},
     "output_type": "execute_result"
    }
   ],
   "source": [
    "identities"
   ]
  },
  {
   "cell_type": "code",
   "execution_count": 112,
   "id": "95c71bfa",
   "metadata": {},
   "outputs": [],
   "source": [
    "# TODO: get 'womanly' and 'manly' words"
   ]
  },
  {
   "cell_type": "code",
   "execution_count": null,
   "id": "8b6b396a",
   "metadata": {},
   "outputs": [],
   "source": []
  }
 ],
 "metadata": {
  "kernelspec": {
   "display_name": "Python 3 (ipykernel)",
   "language": "python",
   "name": "python3"
  },
  "language_info": {
   "codemirror_mode": {
    "name": "ipython",
    "version": 3
   },
   "file_extension": ".py",
   "mimetype": "text/x-python",
   "name": "python",
   "nbconvert_exporter": "python",
   "pygments_lexer": "ipython3",
   "version": "3.9.7"
  }
 },
 "nbformat": 4,
 "nbformat_minor": 5
}
