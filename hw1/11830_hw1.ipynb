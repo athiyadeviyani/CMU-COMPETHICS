{
 "cells": [
  {
   "cell_type": "code",
   "execution_count": 2,
   "metadata": {
    "_cell_guid": "b1076dfc-b9ad-4769-8c92-a6c4dae69d19",
    "_uuid": "8f2839f25d086af736a60e9eeb907d3b93b6e0e5",
    "execution": {
     "iopub.execute_input": "2022-02-12T04:33:02.234384Z",
     "iopub.status.busy": "2022-02-12T04:33:02.233817Z",
     "iopub.status.idle": "2022-02-12T04:33:02.277759Z",
     "shell.execute_reply": "2022-02-12T04:33:02.277028Z",
     "shell.execute_reply.started": "2022-02-12T04:33:02.234275Z"
    }
   },
   "outputs": [],
   "source": [
    "import numpy as np # linear algebra\n",
    "import pandas as pd # data processing, CSV file I/O (e.g. pd.read_csv)\n",
    "from matplotlib import pyplot as plt\n",
    "plt.style.use('ggplot')\n",
    "\n",
    "import os"
   ]
  },
  {
   "cell_type": "code",
   "execution_count": 3,
   "metadata": {
    "execution": {
     "iopub.execute_input": "2022-02-12T04:33:02.279799Z",
     "iopub.status.busy": "2022-02-12T04:33:02.279566Z",
     "iopub.status.idle": "2022-02-12T04:33:02.284022Z",
     "shell.execute_reply": "2022-02-12T04:33:02.282907Z",
     "shell.execute_reply.started": "2022-02-12T04:33:02.279771Z"
    }
   },
   "outputs": [],
   "source": [
    "from tqdm import tqdm"
   ]
  },
  {
   "cell_type": "code",
   "execution_count": 6,
   "metadata": {
    "execution": {
     "iopub.execute_input": "2022-02-12T04:33:02.286483Z",
     "iopub.status.busy": "2022-02-12T04:33:02.285905Z",
     "iopub.status.idle": "2022-02-12T04:33:10.467004Z",
     "shell.execute_reply": "2022-02-12T04:33:10.466290Z",
     "shell.execute_reply.started": "2022-02-12T04:33:02.286439Z"
    }
   },
   "outputs": [],
   "source": [
    "train = pd.read_table('snli/snli_1.0_train.txt', delimiter = '\\t')"
   ]
  },
  {
   "cell_type": "code",
   "execution_count": 7,
   "metadata": {
    "execution": {
     "iopub.execute_input": "2022-02-12T04:33:10.468943Z",
     "iopub.status.busy": "2022-02-12T04:33:10.468475Z",
     "iopub.status.idle": "2022-02-12T04:33:10.504895Z",
     "shell.execute_reply": "2022-02-12T04:33:10.504160Z",
     "shell.execute_reply.started": "2022-02-12T04:33:10.468900Z"
    }
   },
   "outputs": [
    {
     "data": {
      "text/html": [
       "<div>\n",
       "<style scoped>\n",
       "    .dataframe tbody tr th:only-of-type {\n",
       "        vertical-align: middle;\n",
       "    }\n",
       "\n",
       "    .dataframe tbody tr th {\n",
       "        vertical-align: top;\n",
       "    }\n",
       "\n",
       "    .dataframe thead th {\n",
       "        text-align: right;\n",
       "    }\n",
       "</style>\n",
       "<table border=\"1\" class=\"dataframe\">\n",
       "  <thead>\n",
       "    <tr style=\"text-align: right;\">\n",
       "      <th></th>\n",
       "      <th>gold_label</th>\n",
       "      <th>sentence1_binary_parse</th>\n",
       "      <th>sentence2_binary_parse</th>\n",
       "      <th>sentence1_parse</th>\n",
       "      <th>sentence2_parse</th>\n",
       "      <th>sentence1</th>\n",
       "      <th>sentence2</th>\n",
       "      <th>captionID</th>\n",
       "      <th>pairID</th>\n",
       "      <th>label1</th>\n",
       "      <th>label2</th>\n",
       "      <th>label3</th>\n",
       "      <th>label4</th>\n",
       "      <th>label5</th>\n",
       "    </tr>\n",
       "  </thead>\n",
       "  <tbody>\n",
       "    <tr>\n",
       "      <th>0</th>\n",
       "      <td>neutral</td>\n",
       "      <td>( ( ( A person ) ( on ( a horse ) ) ) ( ( jump...</td>\n",
       "      <td>( ( A person ) ( ( is ( ( training ( his horse...</td>\n",
       "      <td>(ROOT (S (NP (NP (DT A) (NN person)) (PP (IN o...</td>\n",
       "      <td>(ROOT (S (NP (DT A) (NN person)) (VP (VBZ is) ...</td>\n",
       "      <td>A person on a horse jumps over a broken down a...</td>\n",
       "      <td>A person is training his horse for a competition.</td>\n",
       "      <td>3416050480.jpg#4</td>\n",
       "      <td>3416050480.jpg#4r1n</td>\n",
       "      <td>neutral</td>\n",
       "      <td>NaN</td>\n",
       "      <td>NaN</td>\n",
       "      <td>NaN</td>\n",
       "      <td>NaN</td>\n",
       "    </tr>\n",
       "    <tr>\n",
       "      <th>1</th>\n",
       "      <td>contradiction</td>\n",
       "      <td>( ( ( A person ) ( on ( a horse ) ) ) ( ( jump...</td>\n",
       "      <td>( ( A person ) ( ( ( ( is ( at ( a diner ) ) )...</td>\n",
       "      <td>(ROOT (S (NP (NP (DT A) (NN person)) (PP (IN o...</td>\n",
       "      <td>(ROOT (S (NP (DT A) (NN person)) (VP (VBZ is) ...</td>\n",
       "      <td>A person on a horse jumps over a broken down a...</td>\n",
       "      <td>A person is at a diner, ordering an omelette.</td>\n",
       "      <td>3416050480.jpg#4</td>\n",
       "      <td>3416050480.jpg#4r1c</td>\n",
       "      <td>contradiction</td>\n",
       "      <td>NaN</td>\n",
       "      <td>NaN</td>\n",
       "      <td>NaN</td>\n",
       "      <td>NaN</td>\n",
       "    </tr>\n",
       "    <tr>\n",
       "      <th>2</th>\n",
       "      <td>entailment</td>\n",
       "      <td>( ( ( A person ) ( on ( a horse ) ) ) ( ( jump...</td>\n",
       "      <td>( ( A person ) ( ( ( ( is outdoors ) , ) ( on ...</td>\n",
       "      <td>(ROOT (S (NP (NP (DT A) (NN person)) (PP (IN o...</td>\n",
       "      <td>(ROOT (S (NP (DT A) (NN person)) (VP (VBZ is) ...</td>\n",
       "      <td>A person on a horse jumps over a broken down a...</td>\n",
       "      <td>A person is outdoors, on a horse.</td>\n",
       "      <td>3416050480.jpg#4</td>\n",
       "      <td>3416050480.jpg#4r1e</td>\n",
       "      <td>entailment</td>\n",
       "      <td>NaN</td>\n",
       "      <td>NaN</td>\n",
       "      <td>NaN</td>\n",
       "      <td>NaN</td>\n",
       "    </tr>\n",
       "    <tr>\n",
       "      <th>3</th>\n",
       "      <td>neutral</td>\n",
       "      <td>( Children ( ( ( smiling and ) waving ) ( at c...</td>\n",
       "      <td>( They ( are ( smiling ( at ( their parents ) ...</td>\n",
       "      <td>(ROOT (NP (S (NP (NNP Children)) (VP (VBG smil...</td>\n",
       "      <td>(ROOT (S (NP (PRP They)) (VP (VBP are) (VP (VB...</td>\n",
       "      <td>Children smiling and waving at camera</td>\n",
       "      <td>They are smiling at their parents</td>\n",
       "      <td>2267923837.jpg#2</td>\n",
       "      <td>2267923837.jpg#2r1n</td>\n",
       "      <td>neutral</td>\n",
       "      <td>NaN</td>\n",
       "      <td>NaN</td>\n",
       "      <td>NaN</td>\n",
       "      <td>NaN</td>\n",
       "    </tr>\n",
       "    <tr>\n",
       "      <th>4</th>\n",
       "      <td>entailment</td>\n",
       "      <td>( Children ( ( ( smiling and ) waving ) ( at c...</td>\n",
       "      <td>( There ( ( are children ) present ) )</td>\n",
       "      <td>(ROOT (NP (S (NP (NNP Children)) (VP (VBG smil...</td>\n",
       "      <td>(ROOT (S (NP (EX There)) (VP (VBP are) (NP (NN...</td>\n",
       "      <td>Children smiling and waving at camera</td>\n",
       "      <td>There are children present</td>\n",
       "      <td>2267923837.jpg#2</td>\n",
       "      <td>2267923837.jpg#2r1e</td>\n",
       "      <td>entailment</td>\n",
       "      <td>NaN</td>\n",
       "      <td>NaN</td>\n",
       "      <td>NaN</td>\n",
       "      <td>NaN</td>\n",
       "    </tr>\n",
       "  </tbody>\n",
       "</table>\n",
       "</div>"
      ],
      "text/plain": [
       "      gold_label                             sentence1_binary_parse  \\\n",
       "0        neutral  ( ( ( A person ) ( on ( a horse ) ) ) ( ( jump...   \n",
       "1  contradiction  ( ( ( A person ) ( on ( a horse ) ) ) ( ( jump...   \n",
       "2     entailment  ( ( ( A person ) ( on ( a horse ) ) ) ( ( jump...   \n",
       "3        neutral  ( Children ( ( ( smiling and ) waving ) ( at c...   \n",
       "4     entailment  ( Children ( ( ( smiling and ) waving ) ( at c...   \n",
       "\n",
       "                              sentence2_binary_parse  \\\n",
       "0  ( ( A person ) ( ( is ( ( training ( his horse...   \n",
       "1  ( ( A person ) ( ( ( ( is ( at ( a diner ) ) )...   \n",
       "2  ( ( A person ) ( ( ( ( is outdoors ) , ) ( on ...   \n",
       "3  ( They ( are ( smiling ( at ( their parents ) ...   \n",
       "4             ( There ( ( are children ) present ) )   \n",
       "\n",
       "                                     sentence1_parse  \\\n",
       "0  (ROOT (S (NP (NP (DT A) (NN person)) (PP (IN o...   \n",
       "1  (ROOT (S (NP (NP (DT A) (NN person)) (PP (IN o...   \n",
       "2  (ROOT (S (NP (NP (DT A) (NN person)) (PP (IN o...   \n",
       "3  (ROOT (NP (S (NP (NNP Children)) (VP (VBG smil...   \n",
       "4  (ROOT (NP (S (NP (NNP Children)) (VP (VBG smil...   \n",
       "\n",
       "                                     sentence2_parse  \\\n",
       "0  (ROOT (S (NP (DT A) (NN person)) (VP (VBZ is) ...   \n",
       "1  (ROOT (S (NP (DT A) (NN person)) (VP (VBZ is) ...   \n",
       "2  (ROOT (S (NP (DT A) (NN person)) (VP (VBZ is) ...   \n",
       "3  (ROOT (S (NP (PRP They)) (VP (VBP are) (VP (VB...   \n",
       "4  (ROOT (S (NP (EX There)) (VP (VBP are) (NP (NN...   \n",
       "\n",
       "                                           sentence1  \\\n",
       "0  A person on a horse jumps over a broken down a...   \n",
       "1  A person on a horse jumps over a broken down a...   \n",
       "2  A person on a horse jumps over a broken down a...   \n",
       "3              Children smiling and waving at camera   \n",
       "4              Children smiling and waving at camera   \n",
       "\n",
       "                                           sentence2         captionID  \\\n",
       "0  A person is training his horse for a competition.  3416050480.jpg#4   \n",
       "1      A person is at a diner, ordering an omelette.  3416050480.jpg#4   \n",
       "2                  A person is outdoors, on a horse.  3416050480.jpg#4   \n",
       "3                  They are smiling at their parents  2267923837.jpg#2   \n",
       "4                         There are children present  2267923837.jpg#2   \n",
       "\n",
       "                pairID         label1 label2 label3 label4 label5  \n",
       "0  3416050480.jpg#4r1n        neutral    NaN    NaN    NaN    NaN  \n",
       "1  3416050480.jpg#4r1c  contradiction    NaN    NaN    NaN    NaN  \n",
       "2  3416050480.jpg#4r1e     entailment    NaN    NaN    NaN    NaN  \n",
       "3  2267923837.jpg#2r1n        neutral    NaN    NaN    NaN    NaN  \n",
       "4  2267923837.jpg#2r1e     entailment    NaN    NaN    NaN    NaN  "
      ]
     },
     "execution_count": 7,
     "metadata": {},
     "output_type": "execute_result"
    }
   ],
   "source": [
    "train.head()"
   ]
  },
  {
   "cell_type": "code",
   "execution_count": 8,
   "metadata": {
    "execution": {
     "iopub.execute_input": "2022-02-12T04:33:10.507147Z",
     "iopub.status.busy": "2022-02-12T04:33:10.506800Z",
     "iopub.status.idle": "2022-02-12T04:33:10.677697Z",
     "shell.execute_reply": "2022-02-12T04:33:10.677046Z",
     "shell.execute_reply.started": "2022-02-12T04:33:10.507119Z"
    }
   },
   "outputs": [],
   "source": [
    "premises = pd.DataFrame()\n",
    "premises[\"sentence\"] = train[\"sentence1\"]\n",
    "\n",
    "hypotheses = pd.DataFrame()\n",
    "hypotheses[\"sentence\"] = train[\"sentence2\"]"
   ]
  },
  {
   "cell_type": "code",
   "execution_count": 9,
   "metadata": {
    "execution": {
     "iopub.execute_input": "2022-02-12T04:33:10.679082Z",
     "iopub.status.busy": "2022-02-12T04:33:10.678839Z",
     "iopub.status.idle": "2022-02-12T04:33:10.688234Z",
     "shell.execute_reply": "2022-02-12T04:33:10.687159Z",
     "shell.execute_reply.started": "2022-02-12T04:33:10.679052Z"
    }
   },
   "outputs": [
    {
     "data": {
      "text/html": [
       "<div>\n",
       "<style scoped>\n",
       "    .dataframe tbody tr th:only-of-type {\n",
       "        vertical-align: middle;\n",
       "    }\n",
       "\n",
       "    .dataframe tbody tr th {\n",
       "        vertical-align: top;\n",
       "    }\n",
       "\n",
       "    .dataframe thead th {\n",
       "        text-align: right;\n",
       "    }\n",
       "</style>\n",
       "<table border=\"1\" class=\"dataframe\">\n",
       "  <thead>\n",
       "    <tr style=\"text-align: right;\">\n",
       "      <th></th>\n",
       "      <th>sentence</th>\n",
       "    </tr>\n",
       "  </thead>\n",
       "  <tbody>\n",
       "    <tr>\n",
       "      <th>0</th>\n",
       "      <td>A person on a horse jumps over a broken down a...</td>\n",
       "    </tr>\n",
       "    <tr>\n",
       "      <th>1</th>\n",
       "      <td>A person on a horse jumps over a broken down a...</td>\n",
       "    </tr>\n",
       "    <tr>\n",
       "      <th>2</th>\n",
       "      <td>A person on a horse jumps over a broken down a...</td>\n",
       "    </tr>\n",
       "    <tr>\n",
       "      <th>3</th>\n",
       "      <td>Children smiling and waving at camera</td>\n",
       "    </tr>\n",
       "    <tr>\n",
       "      <th>4</th>\n",
       "      <td>Children smiling and waving at camera</td>\n",
       "    </tr>\n",
       "  </tbody>\n",
       "</table>\n",
       "</div>"
      ],
      "text/plain": [
       "                                            sentence\n",
       "0  A person on a horse jumps over a broken down a...\n",
       "1  A person on a horse jumps over a broken down a...\n",
       "2  A person on a horse jumps over a broken down a...\n",
       "3              Children smiling and waving at camera\n",
       "4              Children smiling and waving at camera"
      ]
     },
     "execution_count": 9,
     "metadata": {},
     "output_type": "execute_result"
    }
   ],
   "source": [
    "premises.head()"
   ]
  },
  {
   "cell_type": "code",
   "execution_count": 10,
   "metadata": {
    "execution": {
     "iopub.execute_input": "2022-02-12T04:33:10.690827Z",
     "iopub.status.busy": "2022-02-12T04:33:10.689730Z",
     "iopub.status.idle": "2022-02-12T04:33:10.704652Z",
     "shell.execute_reply": "2022-02-12T04:33:10.703678Z",
     "shell.execute_reply.started": "2022-02-12T04:33:10.690777Z"
    }
   },
   "outputs": [
    {
     "data": {
      "text/html": [
       "<div>\n",
       "<style scoped>\n",
       "    .dataframe tbody tr th:only-of-type {\n",
       "        vertical-align: middle;\n",
       "    }\n",
       "\n",
       "    .dataframe tbody tr th {\n",
       "        vertical-align: top;\n",
       "    }\n",
       "\n",
       "    .dataframe thead th {\n",
       "        text-align: right;\n",
       "    }\n",
       "</style>\n",
       "<table border=\"1\" class=\"dataframe\">\n",
       "  <thead>\n",
       "    <tr style=\"text-align: right;\">\n",
       "      <th></th>\n",
       "      <th>sentence</th>\n",
       "    </tr>\n",
       "  </thead>\n",
       "  <tbody>\n",
       "    <tr>\n",
       "      <th>0</th>\n",
       "      <td>A person is training his horse for a competition.</td>\n",
       "    </tr>\n",
       "    <tr>\n",
       "      <th>1</th>\n",
       "      <td>A person is at a diner, ordering an omelette.</td>\n",
       "    </tr>\n",
       "    <tr>\n",
       "      <th>2</th>\n",
       "      <td>A person is outdoors, on a horse.</td>\n",
       "    </tr>\n",
       "    <tr>\n",
       "      <th>3</th>\n",
       "      <td>They are smiling at their parents</td>\n",
       "    </tr>\n",
       "    <tr>\n",
       "      <th>4</th>\n",
       "      <td>There are children present</td>\n",
       "    </tr>\n",
       "  </tbody>\n",
       "</table>\n",
       "</div>"
      ],
      "text/plain": [
       "                                            sentence\n",
       "0  A person is training his horse for a competition.\n",
       "1      A person is at a diner, ordering an omelette.\n",
       "2                  A person is outdoors, on a horse.\n",
       "3                  They are smiling at their parents\n",
       "4                         There are children present"
      ]
     },
     "execution_count": 10,
     "metadata": {},
     "output_type": "execute_result"
    }
   ],
   "source": [
    "hypotheses.head()"
   ]
  },
  {
   "cell_type": "code",
   "execution_count": 11,
   "metadata": {
    "execution": {
     "iopub.execute_input": "2022-02-12T04:33:10.706586Z",
     "iopub.status.busy": "2022-02-12T04:33:10.706340Z",
     "iopub.status.idle": "2022-02-12T04:33:10.973603Z",
     "shell.execute_reply": "2022-02-12T04:33:10.972718Z",
     "shell.execute_reply.started": "2022-02-12T04:33:10.706557Z"
    }
   },
   "outputs": [
    {
     "data": {
      "text/html": [
       "<div>\n",
       "<style scoped>\n",
       "    .dataframe tbody tr th:only-of-type {\n",
       "        vertical-align: middle;\n",
       "    }\n",
       "\n",
       "    .dataframe tbody tr th {\n",
       "        vertical-align: top;\n",
       "    }\n",
       "\n",
       "    .dataframe thead th {\n",
       "        text-align: right;\n",
       "    }\n",
       "</style>\n",
       "<table border=\"1\" class=\"dataframe\">\n",
       "  <thead>\n",
       "    <tr style=\"text-align: right;\">\n",
       "      <th></th>\n",
       "      <th>sentence</th>\n",
       "    </tr>\n",
       "  </thead>\n",
       "  <tbody>\n",
       "    <tr>\n",
       "      <th>count</th>\n",
       "      <td>550152</td>\n",
       "    </tr>\n",
       "    <tr>\n",
       "      <th>unique</th>\n",
       "      <td>150736</td>\n",
       "    </tr>\n",
       "    <tr>\n",
       "      <th>top</th>\n",
       "      <td>A dog in a field.</td>\n",
       "    </tr>\n",
       "    <tr>\n",
       "      <th>freq</th>\n",
       "      <td>33</td>\n",
       "    </tr>\n",
       "  </tbody>\n",
       "</table>\n",
       "</div>"
      ],
      "text/plain": [
       "                 sentence\n",
       "count              550152\n",
       "unique             150736\n",
       "top     A dog in a field.\n",
       "freq                   33"
      ]
     },
     "execution_count": 11,
     "metadata": {},
     "output_type": "execute_result"
    }
   ],
   "source": [
    "premises.describe()"
   ]
  },
  {
   "cell_type": "code",
   "execution_count": 12,
   "metadata": {
    "execution": {
     "iopub.execute_input": "2022-02-12T04:33:10.975349Z",
     "iopub.status.busy": "2022-02-12T04:33:10.975075Z",
     "iopub.status.idle": "2022-02-12T04:33:11.626236Z",
     "shell.execute_reply": "2022-02-12T04:33:11.625310Z",
     "shell.execute_reply.started": "2022-02-12T04:33:10.975317Z"
    }
   },
   "outputs": [
    {
     "data": {
      "text/html": [
       "<div>\n",
       "<style scoped>\n",
       "    .dataframe tbody tr th:only-of-type {\n",
       "        vertical-align: middle;\n",
       "    }\n",
       "\n",
       "    .dataframe tbody tr th {\n",
       "        vertical-align: top;\n",
       "    }\n",
       "\n",
       "    .dataframe thead th {\n",
       "        text-align: right;\n",
       "    }\n",
       "</style>\n",
       "<table border=\"1\" class=\"dataframe\">\n",
       "  <thead>\n",
       "    <tr style=\"text-align: right;\">\n",
       "      <th></th>\n",
       "      <th>sentence</th>\n",
       "    </tr>\n",
       "  </thead>\n",
       "  <tbody>\n",
       "    <tr>\n",
       "      <th>count</th>\n",
       "      <td>550146</td>\n",
       "    </tr>\n",
       "    <tr>\n",
       "      <th>unique</th>\n",
       "      <td>480040</td>\n",
       "    </tr>\n",
       "    <tr>\n",
       "      <th>top</th>\n",
       "      <td>A man is sleeping.</td>\n",
       "    </tr>\n",
       "    <tr>\n",
       "      <th>freq</th>\n",
       "      <td>335</td>\n",
       "    </tr>\n",
       "  </tbody>\n",
       "</table>\n",
       "</div>"
      ],
      "text/plain": [
       "                  sentence\n",
       "count               550146\n",
       "unique              480040\n",
       "top     A man is sleeping.\n",
       "freq                   335"
      ]
     },
     "execution_count": 12,
     "metadata": {},
     "output_type": "execute_result"
    }
   ],
   "source": [
    "hypotheses.describe()"
   ]
  },
  {
   "cell_type": "code",
   "execution_count": 13,
   "metadata": {
    "execution": {
     "iopub.execute_input": "2022-02-12T04:33:11.627888Z",
     "iopub.status.busy": "2022-02-12T04:33:11.627639Z",
     "iopub.status.idle": "2022-02-12T04:33:12.021811Z",
     "shell.execute_reply": "2022-02-12T04:33:12.020778Z",
     "shell.execute_reply.started": "2022-02-12T04:33:11.627858Z"
    }
   },
   "outputs": [],
   "source": [
    "premises.drop_duplicates(inplace=True)\n",
    "hypotheses.drop_duplicates(inplace=True)"
   ]
  },
  {
   "cell_type": "code",
   "execution_count": 14,
   "metadata": {
    "execution": {
     "iopub.execute_input": "2022-02-12T04:33:12.023821Z",
     "iopub.status.busy": "2022-02-12T04:33:12.023014Z",
     "iopub.status.idle": "2022-02-12T04:33:12.174653Z",
     "shell.execute_reply": "2022-02-12T04:33:12.173714Z",
     "shell.execute_reply.started": "2022-02-12T04:33:12.023782Z"
    }
   },
   "outputs": [
    {
     "data": {
      "text/html": [
       "<div>\n",
       "<style scoped>\n",
       "    .dataframe tbody tr th:only-of-type {\n",
       "        vertical-align: middle;\n",
       "    }\n",
       "\n",
       "    .dataframe tbody tr th {\n",
       "        vertical-align: top;\n",
       "    }\n",
       "\n",
       "    .dataframe thead th {\n",
       "        text-align: right;\n",
       "    }\n",
       "</style>\n",
       "<table border=\"1\" class=\"dataframe\">\n",
       "  <thead>\n",
       "    <tr style=\"text-align: right;\">\n",
       "      <th></th>\n",
       "      <th>sentence</th>\n",
       "    </tr>\n",
       "  </thead>\n",
       "  <tbody>\n",
       "    <tr>\n",
       "      <th>count</th>\n",
       "      <td>150736</td>\n",
       "    </tr>\n",
       "    <tr>\n",
       "      <th>unique</th>\n",
       "      <td>150736</td>\n",
       "    </tr>\n",
       "    <tr>\n",
       "      <th>top</th>\n",
       "      <td>A person on a horse jumps over a broken down a...</td>\n",
       "    </tr>\n",
       "    <tr>\n",
       "      <th>freq</th>\n",
       "      <td>1</td>\n",
       "    </tr>\n",
       "  </tbody>\n",
       "</table>\n",
       "</div>"
      ],
      "text/plain": [
       "                                                 sentence\n",
       "count                                              150736\n",
       "unique                                             150736\n",
       "top     A person on a horse jumps over a broken down a...\n",
       "freq                                                    1"
      ]
     },
     "execution_count": 14,
     "metadata": {},
     "output_type": "execute_result"
    }
   ],
   "source": [
    "premises.describe()"
   ]
  },
  {
   "cell_type": "code",
   "execution_count": 15,
   "metadata": {
    "execution": {
     "iopub.execute_input": "2022-02-12T04:33:12.176292Z",
     "iopub.status.busy": "2022-02-12T04:33:12.176045Z",
     "iopub.status.idle": "2022-02-12T04:33:12.741423Z",
     "shell.execute_reply": "2022-02-12T04:33:12.740520Z",
     "shell.execute_reply.started": "2022-02-12T04:33:12.176263Z"
    }
   },
   "outputs": [
    {
     "data": {
      "text/html": [
       "<div>\n",
       "<style scoped>\n",
       "    .dataframe tbody tr th:only-of-type {\n",
       "        vertical-align: middle;\n",
       "    }\n",
       "\n",
       "    .dataframe tbody tr th {\n",
       "        vertical-align: top;\n",
       "    }\n",
       "\n",
       "    .dataframe thead th {\n",
       "        text-align: right;\n",
       "    }\n",
       "</style>\n",
       "<table border=\"1\" class=\"dataframe\">\n",
       "  <thead>\n",
       "    <tr style=\"text-align: right;\">\n",
       "      <th></th>\n",
       "      <th>sentence</th>\n",
       "    </tr>\n",
       "  </thead>\n",
       "  <tbody>\n",
       "    <tr>\n",
       "      <th>count</th>\n",
       "      <td>480040</td>\n",
       "    </tr>\n",
       "    <tr>\n",
       "      <th>unique</th>\n",
       "      <td>480040</td>\n",
       "    </tr>\n",
       "    <tr>\n",
       "      <th>top</th>\n",
       "      <td>A person is training his horse for a competition.</td>\n",
       "    </tr>\n",
       "    <tr>\n",
       "      <th>freq</th>\n",
       "      <td>1</td>\n",
       "    </tr>\n",
       "  </tbody>\n",
       "</table>\n",
       "</div>"
      ],
      "text/plain": [
       "                                                 sentence\n",
       "count                                              480040\n",
       "unique                                             480040\n",
       "top     A person is training his horse for a competition.\n",
       "freq                                                    1"
      ]
     },
     "execution_count": 15,
     "metadata": {},
     "output_type": "execute_result"
    }
   ],
   "source": [
    "hypotheses.describe()"
   ]
  },
  {
   "cell_type": "code",
   "execution_count": 16,
   "metadata": {
    "execution": {
     "iopub.execute_input": "2022-02-12T04:33:12.742987Z",
     "iopub.status.busy": "2022-02-12T04:33:12.742658Z",
     "iopub.status.idle": "2022-02-12T04:33:14.665331Z",
     "shell.execute_reply": "2022-02-12T04:33:14.664431Z",
     "shell.execute_reply.started": "2022-02-12T04:33:12.742953Z"
    }
   },
   "outputs": [
    {
     "name": "stderr",
     "output_type": "stream",
     "text": [
      "[nltk_data] Downloading package stopwords to\n",
      "[nltk_data]     /Users/athiyadeviyani/nltk_data...\n",
      "[nltk_data]   Package stopwords is already up-to-date!\n"
     ]
    }
   ],
   "source": [
    "import os\n",
    "import numpy as np\n",
    "import pandas as pd\n",
    "from matplotlib import pyplot as plt\n",
    "\n",
    "import nltk\n",
    "from nltk import RegexpTokenizer\n",
    "from nltk.corpus import stopwords\n",
    "nltk.download('stopwords')\n",
    "stop_words = stopwords.words('english')"
   ]
  },
  {
   "cell_type": "code",
   "execution_count": 17,
   "metadata": {
    "execution": {
     "iopub.execute_input": "2022-02-12T04:33:14.668499Z",
     "iopub.status.busy": "2022-02-12T04:33:14.668260Z",
     "iopub.status.idle": "2022-02-12T04:33:14.677167Z",
     "shell.execute_reply": "2022-02-12T04:33:14.676270Z",
     "shell.execute_reply.started": "2022-02-12T04:33:14.668471Z"
    }
   },
   "outputs": [
    {
     "data": {
      "text/plain": [
       "['person', 'airplane', 'jumps', 'horse', 'broken']"
      ]
     },
     "execution_count": 17,
     "metadata": {},
     "output_type": "execute_result"
    }
   ],
   "source": [
    "tokenizer = RegexpTokenizer('[a-z]\\w+')\n",
    "\n",
    "def preprocess(sentence):\n",
    "    if isinstance(sentence, float):\n",
    "        return []\n",
    "    else:\n",
    "        sentence = sentence.lower()\n",
    "        tokenized = tokenizer.tokenize(sentence)\n",
    "        return list(set([word for word in tokenized if word not in stop_words]))\n",
    "    \n",
    "preprocess('A person on a horse jumps over a broken down airplane.')"
   ]
  },
  {
   "cell_type": "code",
   "execution_count": 18,
   "metadata": {
    "execution": {
     "iopub.execute_input": "2022-02-12T04:33:14.679382Z",
     "iopub.status.busy": "2022-02-12T04:33:14.678682Z",
     "iopub.status.idle": "2022-02-12T04:33:28.666193Z",
     "shell.execute_reply": "2022-02-12T04:33:28.665430Z",
     "shell.execute_reply.started": "2022-02-12T04:33:14.679338Z"
    }
   },
   "outputs": [],
   "source": [
    "premises[\"sentence\"] = premises[\"sentence\"].map(preprocess)\n",
    "hypotheses[\"sentence\"] = hypotheses[\"sentence\"].map(preprocess)"
   ]
  },
  {
   "cell_type": "code",
   "execution_count": 19,
   "metadata": {
    "execution": {
     "iopub.execute_input": "2022-02-12T04:33:28.668086Z",
     "iopub.status.busy": "2022-02-12T04:33:28.667358Z",
     "iopub.status.idle": "2022-02-12T04:33:28.675563Z",
     "shell.execute_reply": "2022-02-12T04:33:28.674397Z",
     "shell.execute_reply.started": "2022-02-12T04:33:28.668042Z"
    }
   },
   "outputs": [
    {
     "data": {
      "text/plain": [
       "['person', 'airplane', 'jumps', 'horse', 'broken']"
      ]
     },
     "execution_count": 19,
     "metadata": {},
     "output_type": "execute_result"
    }
   ],
   "source": [
    "[i for i in premises.values[0]][0]"
   ]
  },
  {
   "cell_type": "code",
   "execution_count": 20,
   "metadata": {
    "execution": {
     "iopub.execute_input": "2022-02-12T04:33:28.677253Z",
     "iopub.status.busy": "2022-02-12T04:33:28.676985Z",
     "iopub.status.idle": "2022-02-12T04:33:28.694115Z",
     "shell.execute_reply": "2022-02-12T04:33:28.693157Z",
     "shell.execute_reply.started": "2022-02-12T04:33:28.677197Z"
    }
   },
   "outputs": [
    {
     "data": {
      "text/html": [
       "<div>\n",
       "<style scoped>\n",
       "    .dataframe tbody tr th:only-of-type {\n",
       "        vertical-align: middle;\n",
       "    }\n",
       "\n",
       "    .dataframe tbody tr th {\n",
       "        vertical-align: top;\n",
       "    }\n",
       "\n",
       "    .dataframe thead th {\n",
       "        text-align: right;\n",
       "    }\n",
       "</style>\n",
       "<table border=\"1\" class=\"dataframe\">\n",
       "  <thead>\n",
       "    <tr style=\"text-align: right;\">\n",
       "      <th></th>\n",
       "      <th>sentence</th>\n",
       "    </tr>\n",
       "  </thead>\n",
       "  <tbody>\n",
       "    <tr>\n",
       "      <th>0</th>\n",
       "      <td>[horse, person, competition, training]</td>\n",
       "    </tr>\n",
       "    <tr>\n",
       "      <th>1</th>\n",
       "      <td>[omelette, ordering, person, diner]</td>\n",
       "    </tr>\n",
       "    <tr>\n",
       "      <th>2</th>\n",
       "      <td>[outdoors, horse, person]</td>\n",
       "    </tr>\n",
       "    <tr>\n",
       "      <th>3</th>\n",
       "      <td>[smiling, parents]</td>\n",
       "    </tr>\n",
       "    <tr>\n",
       "      <th>4</th>\n",
       "      <td>[present, children]</td>\n",
       "    </tr>\n",
       "  </tbody>\n",
       "</table>\n",
       "</div>"
      ],
      "text/plain": [
       "                                 sentence\n",
       "0  [horse, person, competition, training]\n",
       "1     [omelette, ordering, person, diner]\n",
       "2               [outdoors, horse, person]\n",
       "3                      [smiling, parents]\n",
       "4                     [present, children]"
      ]
     },
     "execution_count": 20,
     "metadata": {},
     "output_type": "execute_result"
    }
   ],
   "source": [
    "hypotheses.head()"
   ]
  },
  {
   "cell_type": "code",
   "execution_count": 21,
   "metadata": {
    "execution": {
     "iopub.execute_input": "2022-02-12T04:33:28.696328Z",
     "iopub.status.busy": "2022-02-12T04:33:28.695586Z",
     "iopub.status.idle": "2022-02-12T04:33:29.242232Z",
     "shell.execute_reply": "2022-02-12T04:33:29.241630Z",
     "shell.execute_reply.started": "2022-02-12T04:33:28.696294Z"
    }
   },
   "outputs": [
    {
     "name": "stderr",
     "output_type": "stream",
     "text": [
      "100%|████████████████████████████████████████████████████████████████████████████████████| 150736/150736 [00:00<00:00, 488161.50it/s]\n"
     ]
    }
   ],
   "source": [
    "premise_dict = {}\n",
    "\n",
    "for sentence in tqdm(premises.values):\n",
    "    sentence = sentence[0]\n",
    "    for word in sentence:\n",
    "        premise_dict[word] = premise_dict.get(word, 0) + 1"
   ]
  },
  {
   "cell_type": "code",
   "execution_count": 22,
   "metadata": {
    "execution": {
     "iopub.execute_input": "2022-02-12T04:33:29.243690Z",
     "iopub.status.busy": "2022-02-12T04:33:29.243448Z",
     "iopub.status.idle": "2022-02-12T04:33:29.664702Z",
     "shell.execute_reply": "2022-02-12T04:33:29.663682Z",
     "shell.execute_reply.started": "2022-02-12T04:33:29.243659Z"
    }
   },
   "outputs": [
    {
     "data": {
      "image/png": "[encoded data removed]",
      "text/plain": [
       "<Figure size 1152x576 with 1 Axes>"
      ]
     },
     "metadata": {},
     "output_type": "display_data"
    }
   ],
   "source": [
    "premise_dict_items = premise_dict.items()\n",
    "premise_dict_items = sorted(premise_dict_items, key=lambda x: x[1], reverse=True)\n",
    "topk = premise_dict_items[:30]\n",
    "plt.figure(figsize=(16, 8))\n",
    "plt.bar([x[0] for x in topk], [x[1] for x in topk])\n",
    "plt.xticks(rotation=90)\n",
    "plt.show()"
   ]
  },
  {
   "cell_type": "code",
   "execution_count": 23,
   "metadata": {
    "execution": {
     "iopub.execute_input": "2022-02-12T04:33:29.666778Z",
     "iopub.status.busy": "2022-02-12T04:33:29.666268Z",
     "iopub.status.idle": "2022-02-12T04:33:30.891112Z",
     "shell.execute_reply": "2022-02-12T04:33:30.890499Z",
     "shell.execute_reply.started": "2022-02-12T04:33:29.666727Z"
    }
   },
   "outputs": [
    {
     "name": "stderr",
     "output_type": "stream",
     "text": [
      "100%|████████████████████████████████████████████████████████████████████████████████████| 480041/480041 [00:00<00:00, 669967.27it/s]\n"
     ]
    }
   ],
   "source": [
    "hypothesis_dict = {}\n",
    "\n",
    "for sentence in tqdm(hypotheses.values):\n",
    "    sentence = sentence[0]\n",
    "    for word in sentence:\n",
    "        hypothesis_dict[word] = hypothesis_dict.get(word, 0) + 1"
   ]
  },
  {
   "cell_type": "code",
   "execution_count": 24,
   "metadata": {
    "execution": {
     "iopub.execute_input": "2022-02-12T04:33:30.892919Z",
     "iopub.status.busy": "2022-02-12T04:33:30.892638Z",
     "iopub.status.idle": "2022-02-12T04:33:31.279013Z",
     "shell.execute_reply": "2022-02-12T04:33:31.277969Z",
     "shell.execute_reply.started": "2022-02-12T04:33:30.892888Z"
    }
   },
   "outputs": [
    {
     "data": {
      "image/png": "[encoded data removed]",
      "text/plain": [
       "<Figure size 1152x576 with 1 Axes>"
      ]
     },
     "metadata": {},
     "output_type": "display_data"
    }
   ],
   "source": [
    "hypothesis_dict_items = hypothesis_dict.items()\n",
    "hypothesis_dict_items = sorted(hypothesis_dict_items, key=lambda x: x[1], reverse=True)\n",
    "topk = hypothesis_dict_items[:30]\n",
    "plt.figure(figsize=(16, 8))\n",
    "plt.bar([x[0] for x in topk], [x[1] for x in topk])\n",
    "plt.xticks(rotation=90)\n",
    "plt.show()"
   ]
  },
  {
   "cell_type": "code",
   "execution_count": 26,
   "metadata": {
    "execution": {
     "iopub.execute_input": "2022-02-12T04:33:31.280992Z",
     "iopub.status.busy": "2022-02-12T04:33:31.280661Z",
     "iopub.status.idle": "2022-02-12T04:33:31.293372Z",
     "shell.execute_reply": "2022-02-12T04:33:31.292425Z",
     "shell.execute_reply.started": "2022-02-12T04:33:31.280947Z"
    }
   },
   "outputs": [
    {
     "data": {
      "text/plain": [
       "['woman', 'women', 'man', 'men', 'girl', 'girls', 'boy', 'boys', 'she', 'he']"
      ]
     },
     "execution_count": 26,
     "metadata": {},
     "output_type": "execute_result"
    }
   ],
   "source": [
    "my_file = open('identity_labels.txt', \"r\")\n",
    "content = my_file.read()\n",
    "identities = content.split('\\n')\n",
    "identities[:10]"
   ]
  },
  {
   "cell_type": "code",
   "execution_count": 27,
   "metadata": {
    "execution": {
     "iopub.execute_input": "2022-02-12T04:33:31.295082Z",
     "iopub.status.busy": "2022-02-12T04:33:31.294838Z"
    }
   },
   "outputs": [
    {
     "name": "stderr",
     "output_type": "stream",
     "text": [
      "100%|██████████████████████████████████████████████████████████████████████████████████████████████| 130/130 [00:06<00:00, 20.64it/s]\n"
     ]
    }
   ],
   "source": [
    "identity_premise_dict = {}\n",
    "\n",
    "for identity in tqdm(identities):\n",
    "    for sentence in premises.values:\n",
    "        sentence = sentence[0]\n",
    "        if identity in sentence:\n",
    "            identity_premise_dict[identity] = identity_premise_dict.get(identity, 0) + 1"
   ]
  },
  {
   "cell_type": "code",
   "execution_count": 28,
   "metadata": {},
   "outputs": [
    {
     "data": {
      "image/png": "[encoded data removed]",
      "text/plain": [
       "<Figure size 1152x576 with 1 Axes>"
      ]
     },
     "metadata": {},
     "output_type": "display_data"
    }
   ],
   "source": [
    "identity_premise_dict_items = identity_premise_dict.items()\n",
    "identity_premise_dict_items = sorted(identity_premise_dict_items, key=lambda x: x[1], reverse=True)\n",
    "topk = identity_premise_dict_items[:30]\n",
    "plt.figure(figsize=(16, 8))\n",
    "plt.bar([x[0] for x in topk], [x[1] for x in topk])\n",
    "plt.xticks(rotation=90)\n",
    "plt.show()"
   ]
  },
  {
   "cell_type": "code",
   "execution_count": 29,
   "metadata": {},
   "outputs": [
    {
     "name": "stderr",
     "output_type": "stream",
     "text": [
      "100%|██████████████████████████████████████████████████████████████████████████████████████████████| 130/130 [00:16<00:00,  7.74it/s]\n"
     ]
    }
   ],
   "source": [
    "identity_hypothesis_dict = {}\n",
    "\n",
    "for identity in tqdm(identities):\n",
    "    for sentence in hypotheses.values:\n",
    "        sentence = sentence[0]\n",
    "        if identity in sentence:\n",
    "            identity_hypothesis_dict[identity] = identity_hypothesis_dict.get(identity, 0) + 1"
   ]
  },
  {
   "cell_type": "code",
   "execution_count": 93,
   "metadata": {},
   "outputs": [
    {
     "data": {
      "image/png": "[encoded data removed]",
      "text/plain": [
       "<Figure size 1152x576 with 1 Axes>"
      ]
     },
     "metadata": {},
     "output_type": "display_data"
    }
   ],
   "source": [
    "identity_hypothesis_dict_items = identity_hypothesis_dict.items()\n",
    "identity_hypothesis_dict_items = sorted(identity_hypothesis_dict_items, key=lambda x: x[1], reverse=True)\n",
    "topk = identity_hypothesis_dict_items[:50]\n",
    "plt.figure(figsize=(16, 8))\n",
    "plt.bar([x[0] for x in topk], [x[1] for x in topk])\n",
    "plt.xticks(rotation=90)\n",
    "plt.show()"
   ]
  },
  {
   "cell_type": "code",
   "execution_count": 40,
   "metadata": {},
   "outputs": [
    {
     "name": "stderr",
     "output_type": "stream",
     "text": [
      "100%|██████████████████████████████████████████████████████████████████████████████████████████████| 130/130 [00:06<00:00, 19.51it/s]\n"
     ]
    }
   ],
   "source": [
    "i_p_dict = {}\n",
    "\n",
    "for identity in tqdm(identities):\n",
    "    for sentence in premises.values:\n",
    "        sentence = sentence[0]\n",
    "        if identity in sentence:\n",
    "            for word in sentence:\n",
    "                i_p_dict[(identity, word)] = i_p_dict.get((identity, word), 0) + 1"
   ]
  },
  {
   "cell_type": "code",
   "execution_count": 41,
   "metadata": {},
   "outputs": [
    {
     "data": {
      "text/plain": [
       "[(('woman', 'man'), 4289),\n",
       " (('woman', 'woman'), 20325),\n",
       " (('woman', 'beach'), 320),\n",
       " (('woman', 'enjoying'), 70),\n",
       " (('woman', 'child'), 638),\n",
       " (('woman', 'street'), 1222),\n",
       " (('woman', 'restaurant'), 154),\n",
       " (('woman', 'front'), 1182),\n",
       " (('woman', 'gyro'), 2),\n",
       " (('woman', 'pizza'), 12)]"
      ]
     },
     "execution_count": 41,
     "metadata": {},
     "output_type": "execute_result"
    }
   ],
   "source": [
    "list(i_p_dict.items())[:10]"
   ]
  },
  {
   "cell_type": "code",
   "execution_count": 52,
   "metadata": {},
   "outputs": [
    {
     "name": "stderr",
     "output_type": "stream",
     "text": [
      "100%|██████████████████████████████████████████████████████████████████████████████████████████████| 130/130 [00:17<00:00,  7.48it/s]\n"
     ]
    }
   ],
   "source": [
    "i_h_dict = {}\n",
    "\n",
    "for identity in tqdm(identities):\n",
    "    for sentence in hypotheses.values:\n",
    "        sentence = sentence[0]\n",
    "        if identity in sentence:\n",
    "            for word in sentence:\n",
    "                i_h_dict[(identity, word)] = i_h_dict.get((identity, word), 0) + 1"
   ]
  },
  {
   "cell_type": "code",
   "execution_count": 43,
   "metadata": {},
   "outputs": [
    {
     "data": {
      "text/plain": [
       "[(('woman', 'woman'), 50214),\n",
       " (('woman', 'two'), 1135),\n",
       " (('woman', 'picture'), 557),\n",
       " (('woman', 'nake'), 1),\n",
       " (('woman', 'cold'), 63),\n",
       " (('woman', 'wearing'), 2802),\n",
       " (('woman', 'green'), 485),\n",
       " (('woman', 'white'), 874),\n",
       " (('woman', 'black'), 1151),\n",
       " (('woman', 'street'), 1073)]"
      ]
     },
     "execution_count": 43,
     "metadata": {},
     "output_type": "execute_result"
    }
   ],
   "source": [
    "list(i_h_dict.items())[:10]"
   ]
  },
  {
   "cell_type": "markdown",
   "metadata": {},
   "source": [
    "# Counting PMI"
   ]
  },
  {
   "cell_type": "code",
   "execution_count": 47,
   "metadata": {},
   "outputs": [],
   "source": [
    "PMI_premise = {}\n",
    "N = len(premises.values)\n",
    "\n",
    "for identity, premise in list(i_p_dict.keys()):\n",
    "    c_wi = identity_premise_dict[identity]\n",
    "    c_wj = premise_dict[premise]\n",
    "    c_wi_wj = i_p_dict[(identity, premise)]\n",
    "    \n",
    "    PMI_premise[(identity, premise)] = np.log2((N * c_wi_wj) / (c_wi * c_wj))"
   ]
  },
  {
   "cell_type": "code",
   "execution_count": 49,
   "metadata": {},
   "outputs": [
    {
     "data": {
      "text/plain": [
       "82371"
      ]
     },
     "execution_count": 49,
     "metadata": {},
     "output_type": "execute_result"
    }
   ],
   "source": [
    "len(PMI_premise)"
   ]
  },
  {
   "cell_type": "code",
   "execution_count": 54,
   "metadata": {},
   "outputs": [],
   "source": [
    "PMI_hypothesis = {}\n",
    "N = len(hypotheses.values)\n",
    "\n",
    "for identity, hyp in list(i_h_dict.keys()):\n",
    "    c_wi = identity_hypothesis_dict[identity]\n",
    "    c_wj = hypothesis_dict[hyp]\n",
    "    c_wi_wj = i_h_dict[(identity, hyp)]\n",
    "    \n",
    "    PMI_hypothesis[(identity, hyp)] = np.log2((N * c_wi_wj) / (c_wi * c_wj))"
   ]
  },
  {
   "cell_type": "code",
   "execution_count": 55,
   "metadata": {},
   "outputs": [
    {
     "data": {
      "text/plain": [
       "99132"
      ]
     },
     "execution_count": 55,
     "metadata": {},
     "output_type": "execute_result"
    }
   ],
   "source": [
    "len(PMI_hypothesis)"
   ]
  },
  {
   "cell_type": "markdown",
   "metadata": {},
   "source": [
    "# PMI Analysis"
   ]
  },
  {
   "cell_type": "code",
   "execution_count": 61,
   "metadata": {},
   "outputs": [],
   "source": [
    "PMI_p = defaultdict(list)\n",
    "\n",
    "for (identity, premise) in PMI_premise:\n",
    "    PMI_p[identity].append((premise, PMI_premise[(identity, premise)]))"
   ]
  },
  {
   "cell_type": "code",
   "execution_count": 67,
   "metadata": {},
   "outputs": [],
   "source": [
    "for identity in PMI_p:\n",
    "    PMI_p[identity] = sorted(PMI_p[identity], key=lambda x: x[1], reverse=True)"
   ]
  },
  {
   "cell_type": "code",
   "execution_count": 94,
   "metadata": {},
   "outputs": [
    {
     "data": {
      "text/plain": [
       "['asians',\n",
       " 'motif',\n",
       " 'anglo',\n",
       " 'concepts',\n",
       " 'od',\n",
       " 'holidays',\n",
       " 'cheerfully',\n",
       " 'totem',\n",
       " 'backdropped',\n",
       " 'assignment',\n",
       " 'napkin',\n",
       " 'personal',\n",
       " 'southeast',\n",
       " 'receive',\n",
       " 'assortment',\n",
       " 'occupied',\n",
       " 'kiddie',\n",
       " 'shake',\n",
       " 'leafy',\n",
       " 'engage',\n",
       " 'threw',\n",
       " 'soup',\n",
       " 'harvesting',\n",
       " 'cafeteria',\n",
       " 'unknown',\n",
       " 'recording',\n",
       " 'bundled',\n",
       " 'characters',\n",
       " 'studying',\n",
       " 'contest',\n",
       " 'presents',\n",
       " 'cameras',\n",
       " 'banner',\n",
       " 'gymnasium',\n",
       " 'discussing',\n",
       " 'candles',\n",
       " 'exercise',\n",
       " 'vegetable',\n",
       " 'pit',\n",
       " 'sell',\n",
       " 'squatting',\n",
       " 'baskets',\n",
       " 'celebrating',\n",
       " 'traditional',\n",
       " 'barbecue',\n",
       " 'lunch',\n",
       " 'vegetables',\n",
       " 'lies',\n",
       " 'funny',\n",
       " 'poles',\n",
       " 'eating',\n",
       " 'appear',\n",
       " 'pavement',\n",
       " 'curb',\n",
       " 'wear',\n",
       " 'books',\n",
       " 'marching',\n",
       " 'drawing',\n",
       " 'produce',\n",
       " 'windows',\n",
       " 'dinner',\n",
       " 'relaxing',\n",
       " 'eat',\n",
       " 'happy',\n",
       " 'passing',\n",
       " 'classroom',\n",
       " 'wait',\n",
       " 'gathering',\n",
       " 'market',\n",
       " 'lit',\n",
       " 'gathered',\n",
       " 'basket',\n",
       " 'desk',\n",
       " 'staring',\n",
       " 'gather',\n",
       " 'look',\n",
       " 'event',\n",
       " 'bunch',\n",
       " 'suits',\n",
       " 'several',\n",
       " 'costumes',\n",
       " 'bus',\n",
       " 'smile',\n",
       " 'outdoors',\n",
       " 'winter',\n",
       " 'big',\n",
       " 'cooking',\n",
       " 'group',\n",
       " 'restaurant',\n",
       " 'outdoor',\n",
       " 'dancing',\n",
       " 'instruments',\n",
       " 'table',\n",
       " 'machine',\n",
       " 'fire',\n",
       " 'steps',\n",
       " 'going',\n",
       " 'paper',\n",
       " 'painting',\n",
       " 'enjoying']"
      ]
     },
     "execution_count": 94,
     "metadata": {},
     "output_type": "execute_result"
    }
   ],
   "source": [
    "[x[0] for x in PMI_p['asians'][:100]]"
   ]
  },
  {
   "cell_type": "code",
   "execution_count": 97,
   "metadata": {},
   "outputs": [
    {
     "data": {
      "text/plain": [
       "['humanitarian',\n",
       " 'indian',\n",
       " 'westerners',\n",
       " 'dyes',\n",
       " 'madras',\n",
       " 'bangles',\n",
       " 'museumsbutikken',\n",
       " 'knotts',\n",
       " 'grandfathers',\n",
       " 'dazzle',\n",
       " 'burnese',\n",
       " 'clarity',\n",
       " 'transitional',\n",
       " 'underclothes',\n",
       " 'liked',\n",
       " 'artifact',\n",
       " 'houseboat',\n",
       " 'obtain',\n",
       " 'dull',\n",
       " 'secrets',\n",
       " 'transports',\n",
       " 'muffins',\n",
       " 'actress',\n",
       " 'fawning',\n",
       " 'cranking',\n",
       " 'whittles',\n",
       " 'perching',\n",
       " 'artsy',\n",
       " 'communal',\n",
       " 'tapestries',\n",
       " 'origin',\n",
       " 'bundling',\n",
       " 'dyeing',\n",
       " 'burka',\n",
       " 'festively',\n",
       " 'shutters',\n",
       " 'treading',\n",
       " 'neat',\n",
       " 'headline',\n",
       " 'textile',\n",
       " 'stringing',\n",
       " 'sitar',\n",
       " 'tradition',\n",
       " 'seamstress',\n",
       " 'spectating',\n",
       " 'curry',\n",
       " 'snare',\n",
       " 'murder',\n",
       " 'creations',\n",
       " 'designing',\n",
       " 'sari',\n",
       " 'headdresses',\n",
       " 'saris',\n",
       " 'pakistani',\n",
       " 'flights',\n",
       " 'heritage',\n",
       " 'holy',\n",
       " 'ritual',\n",
       " 'berry',\n",
       " 'chief',\n",
       " 'carting',\n",
       " 'en',\n",
       " 'crochet',\n",
       " 'ordinary',\n",
       " 'treated',\n",
       " 'headpiece',\n",
       " 'clubs',\n",
       " 'dripping',\n",
       " 'crocheting',\n",
       " 'duet',\n",
       " 'bathes',\n",
       " 'herbs',\n",
       " 'celebratory',\n",
       " 'transparent',\n",
       " 'particular',\n",
       " 'organization',\n",
       " 'extravagant',\n",
       " 'partners',\n",
       " 'demonstrate',\n",
       " 'joining',\n",
       " 'dramatic',\n",
       " 'clipboard',\n",
       " 'weave',\n",
       " 'bean',\n",
       " 'drawings',\n",
       " 'sowing',\n",
       " 'henna',\n",
       " 'interacts',\n",
       " 'transport',\n",
       " 'descent',\n",
       " 'upcoming',\n",
       " 'taught',\n",
       " 'slingshot',\n",
       " 'bookshelf',\n",
       " 'hide',\n",
       " 'cultural',\n",
       " 'pensive',\n",
       " 'thinking',\n",
       " 'crop',\n",
       " 'passionately']"
      ]
     },
     "execution_count": 97,
     "metadata": {},
     "output_type": "execute_result"
    }
   ],
   "source": [
    "[x[0] for x in PMI_p['indian'][:100]]"
   ]
  },
  {
   "cell_type": "code",
   "execution_count": 63,
   "metadata": {},
   "outputs": [],
   "source": [
    "PMI_h = defaultdict(list)\n",
    "\n",
    "for (identity, hyp) in PMI_hypothesis:\n",
    "    PMI_h[identity].append((hyp, PMI_hypothesis[(identity, hyp)]))"
   ]
  },
  {
   "cell_type": "code",
   "execution_count": 79,
   "metadata": {},
   "outputs": [],
   "source": [
    "for identity in PMI_h:\n",
    "    PMI_h[identity] = sorted(PMI_h[identity], key=lambda x: x[1], reverse=True)"
   ]
  },
  {
   "cell_type": "code",
   "execution_count": 88,
   "metadata": {},
   "outputs": [],
   "source": [
    "# [x[0] for x in PMI_h['women'][:100]]"
   ]
  },
  {
   "cell_type": "code",
   "execution_count": 89,
   "metadata": {},
   "outputs": [],
   "source": [
    "# [x[0] for x in PMI_h['asian'][:100]]"
   ]
  },
  {
   "cell_type": "markdown",
   "metadata": {},
   "source": [
    "## Sentiment Analysis"
   ]
  },
  {
   "cell_type": "code",
   "execution_count": 99,
   "metadata": {},
   "outputs": [
    {
     "name": "stderr",
     "output_type": "stream",
     "text": [
      "[nltk_data] Downloading package vader_lexicon to\n",
      "[nltk_data]     /Users/athiyadeviyani/nltk_data...\n",
      "[nltk_data]   Package vader_lexicon is already up-to-date!\n"
     ]
    }
   ],
   "source": [
    "import nltk\n",
    "nltk.download('vader_lexicon')\n",
    "from nltk.sentiment.vader import SentimentIntensityAnalyzer\n",
    "sid = SentimentIntensityAnalyzer()"
   ]
  },
  {
   "cell_type": "code",
   "execution_count": 104,
   "metadata": {},
   "outputs": [
    {
     "data": {
      "text/plain": [
       "{'neg': 0.0, 'neu': 0.0, 'pos': 1.0, 'compound': 0.3612}"
      ]
     },
     "execution_count": 104,
     "metadata": {},
     "output_type": "execute_result"
    }
   ],
   "source": [
    "sid.polarity_scores(\"like\")"
   ]
  },
  {
   "cell_type": "code",
   "execution_count": 106,
   "metadata": {},
   "outputs": [
    {
     "data": {
      "text/plain": [
       "(236.0, 0.0, 295.0)"
      ]
     },
     "execution_count": 106,
     "metadata": {},
     "output_type": "execute_result"
    }
   ],
   "source": [
    "total_neg = 0.0\n",
    "total_neu = 0.0\n",
    "total_pos = 0.0\n",
    "\n",
    "for word in [x[0] for x in PMI_h['women']]:\n",
    "    score = sid.polarity_scores(word)\n",
    "    total_neg += score['neg']\n",
    "    total_pos += score['pos']\n",
    "    \n",
    "total_neg, total_neu, total_pos"
   ]
  },
  {
   "cell_type": "code",
   "execution_count": 185,
   "metadata": {},
   "outputs": [],
   "source": [
    "def get_polarity(word, dic):\n",
    "    total_neg = 0.0\n",
    "    total_neu = 0.0\n",
    "    total_pos = 0.0\n",
    "    print(len([x[0] for x in dic[word]]))\n",
    "    \n",
    "    for w in [x[0] for x in dic[word]][:500]:\n",
    "        score = sid.polarity_scores(w)\n",
    "        total_neg += score['neg']\n",
    "        total_neu += score['neu']\n",
    "        total_pos += score['pos']\n",
    "\n",
    "    return (total_pos + 1) / (total_pos + total_neg + 1)"
   ]
  },
  {
   "cell_type": "code",
   "execution_count": 186,
   "metadata": {},
   "outputs": [
    {
     "name": "stdout",
     "output_type": "stream",
     "text": [
      "9895\n",
      "man_p 0.375\n",
      "14288\n",
      "man_h 0.5185185185185185\n",
      "---\n",
      "7387\n",
      "woman_p 0.375\n",
      "10273\n",
      "woman_h 0.375\n",
      "---\n"
     ]
    }
   ],
   "source": [
    "for gender in ['man', 'woman']:\n",
    "    print(gender+'_p', get_polarity(gender, PMI_p))\n",
    "    print(gender+'_h', get_polarity(gender, PMI_h))\n",
    "    print('---')"
   ]
  },
  {
   "cell_type": "code",
   "execution_count": 187,
   "metadata": {},
   "outputs": [
    {
     "name": "stdout",
     "output_type": "stream",
     "text": [
      "5790\n",
      "black_p 0.46875\n",
      "4197\n",
      "black_h 0.40540540540540543\n",
      "---\n",
      "6119\n",
      "white_p 0.5714285714285714\n",
      "3949\n",
      "white_h 0.5517241379310345\n",
      "---\n",
      "2695\n",
      "asian_p 0.6944444444444444\n",
      "2135\n",
      "asian_h 0.7\n",
      "---\n",
      "751\n",
      "indian_p 0.625\n",
      "663\n",
      "indian_h 0.5102040816326531\n",
      "---\n"
     ]
    }
   ],
   "source": [
    "for race in ['black', 'white', 'asian', 'indian']:\n",
    "    print(race+'_p', get_polarity(race, PMI_p))\n",
    "    print(race+'_h', get_polarity(race, PMI_h))\n",
    "    print('---')"
   ]
  },
  {
   "cell_type": "code",
   "execution_count": 188,
   "metadata": {},
   "outputs": [
    {
     "name": "stdout",
     "output_type": "stream",
     "text": [
      "181\n",
      "muslim_p 0.38461538461538464\n",
      "133\n",
      "muslim_h 0.6666666666666666\n",
      "---\n",
      "73\n",
      "christian_p 0.5714285714285714\n",
      "42\n",
      "christian_h 1.0\n",
      "---\n",
      "0\n",
      "jew_p 1.0\n",
      "14\n",
      "jew_h 1.0\n",
      "---\n",
      "0\n",
      "sikh_p 1.0\n",
      "0\n",
      "sikh_h 1.0\n",
      "---\n",
      "101\n",
      "buddhist_p 0.7777777777777778\n",
      "71\n",
      "buddhist_h 0.6\n",
      "---\n",
      "28\n",
      "hindu_p 1.0\n",
      "9\n",
      "hindu_h 0.75\n",
      "---\n",
      "0\n",
      "atheist_p 1.0\n",
      "6\n",
      "atheist_h 0.6666666666666666\n",
      "---\n"
     ]
    }
   ],
   "source": [
    "for religion in ['muslim', 'christian', 'jew', 'sikh', 'buddhist', 'hindu', 'atheist']:\n",
    "    print(religion+'_p', get_polarity(religion, PMI_p))\n",
    "    print(religion+'_h', get_polarity(religion, PMI_h))\n",
    "    print('---')"
   ]
  },
  {
   "cell_type": "code",
   "execution_count": 189,
   "metadata": {},
   "outputs": [],
   "source": [
    "f_gender = ['woman', 'women', 'girl', 'girls', 'she', 'her', 'female', 'mother', 'sister', 'daughter', 'feminine']\n",
    "m_gender = ['man', 'men', 'boy', 'boys', 'he', 'him', 'male', 'father', 'brother', 'son', 'masculine']"
   ]
  },
  {
   "cell_type": "code",
   "execution_count": 190,
   "metadata": {},
   "outputs": [],
   "source": [
    "def get_polarity_all(word_list, dic):\n",
    "    total_neg = 0.0\n",
    "    total_neu = 0.0\n",
    "    total_pos = 0.0\n",
    "\n",
    "    for word in word_list:\n",
    "        for w in [x[0] for x in dic[word]]:\n",
    "            score = sid.polarity_scores(w)\n",
    "            total_neg += score['neg']\n",
    "            total_neu += score['neu']\n",
    "            total_pos += score['pos']\n",
    "\n",
    "    return (total_pos + 1) / (total_pos + total_neg + 1)"
   ]
  },
  {
   "cell_type": "code",
   "execution_count": 191,
   "metadata": {},
   "outputs": [
    {
     "data": {
      "text/plain": [
       "(0.626571897211591, 0.5434391851408029)"
      ]
     },
     "execution_count": 191,
     "metadata": {},
     "output_type": "execute_result"
    }
   ],
   "source": [
    "get_polarity_all(f_gender, PMI_p), get_polarity_all(f_gender, PMI_h)"
   ]
  },
  {
   "cell_type": "code",
   "execution_count": 192,
   "metadata": {},
   "outputs": [
    {
     "data": {
      "text/plain": [
       "(0.5844705882352941, 0.5189333333333334)"
      ]
     },
     "execution_count": 192,
     "metadata": {},
     "output_type": "execute_result"
    }
   ],
   "source": [
    "get_polarity_all(m_gender, PMI_p), get_polarity_all(m_gender, PMI_h)"
   ]
  },
  {
   "cell_type": "code",
   "execution_count": null,
   "metadata": {},
   "outputs": [],
   "source": []
  },
  {
   "cell_type": "code",
   "execution_count": null,
   "metadata": {},
   "outputs": [],
   "source": []
  }
 ],
 "metadata": {
  "kernelspec": {
   "display_name": "Python 3 (ipykernel)",
   "language": "python",
   "name": "python3"
  },
  "language_info": {
   "codemirror_mode": {
    "name": "ipython",
    "version": 3
   },
   "file_extension": ".py",
   "mimetype": "text/x-python",
   "name": "python",
   "nbconvert_exporter": "python",
   "pygments_lexer": "ipython3",
   "version": "3.9.7"
  }
 },
 "nbformat": 4,
 "nbformat_minor": 4
}
