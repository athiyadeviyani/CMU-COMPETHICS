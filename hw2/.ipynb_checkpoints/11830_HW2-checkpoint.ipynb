{
 "cells": [
  {
   "cell_type": "code",
   "execution_count": 4,
   "id": "5d31aee3",
   "metadata": {},
   "outputs": [],
   "source": [
    "import numpy as np\n",
    "import pandas as pd"
   ]
  },
  {
   "cell_type": "code",
   "execution_count": 123,
   "id": "ff34f9b6",
   "metadata": {},
   "outputs": [],
   "source": [
    "import warnings\n",
    "warnings.filterwarnings('ignore')"
   ]
  },
  {
   "cell_type": "code",
   "execution_count": 37,
   "id": "c5d56519",
   "metadata": {},
   "outputs": [],
   "source": [
    "from sklearn.metrics import f1_score, confusion_matrix, classification_report"
   ]
  },
  {
   "cell_type": "code",
   "execution_count": 71,
   "id": "14973194",
   "metadata": {},
   "outputs": [],
   "source": [
    "import seaborn as sns\n",
    "from matplotlib import pyplot as plt\n",
    "plt.style.use('ggplot')"
   ]
  },
  {
   "cell_type": "markdown",
   "id": "0601791a",
   "metadata": {},
   "source": [
    "## Load the data"
   ]
  },
  {
   "cell_type": "code",
   "execution_count": 2,
   "id": "c99556b9",
   "metadata": {},
   "outputs": [],
   "source": [
    "dev = pd.read_csv(\"civility_data/dev.tsv\", sep='\\t')\n",
    "mini_demographic_dev = pd.read_csv(\"civility_data/mini_demographic_dev.tsv\", sep='\\t')"
   ]
  },
  {
   "cell_type": "code",
   "execution_count": 5,
   "id": "c324e52b",
   "metadata": {},
   "outputs": [
    {
     "data": {
      "text/html": [
       "<div>\n",
       "<style scoped>\n",
       "    .dataframe tbody tr th:only-of-type {\n",
       "        vertical-align: middle;\n",
       "    }\n",
       "\n",
       "    .dataframe tbody tr th {\n",
       "        vertical-align: top;\n",
       "    }\n",
       "\n",
       "    .dataframe thead th {\n",
       "        text-align: right;\n",
       "    }\n",
       "</style>\n",
       "<table border=\"1\" class=\"dataframe\">\n",
       "  <thead>\n",
       "    <tr style=\"text-align: right;\">\n",
       "      <th></th>\n",
       "      <th>text</th>\n",
       "      <th>label</th>\n",
       "      <th>category</th>\n",
       "      <th>perspective_score</th>\n",
       "    </tr>\n",
       "  </thead>\n",
       "  <tbody>\n",
       "    <tr>\n",
       "      <th>0</th>\n",
       "      <td>@USER She should ask a few native Americans wh...</td>\n",
       "      <td>OFF</td>\n",
       "      <td>UNT</td>\n",
       "      <td>0.311852</td>\n",
       "    </tr>\n",
       "    <tr>\n",
       "      <th>1</th>\n",
       "      <td>@USER @USER Go home you’re drunk!!! @USER #MAG...</td>\n",
       "      <td>OFF</td>\n",
       "      <td>TIN</td>\n",
       "      <td>0.566334</td>\n",
       "    </tr>\n",
       "    <tr>\n",
       "      <th>2</th>\n",
       "      <td>Amazon is investigating Chinese employees who ...</td>\n",
       "      <td>NOT</td>\n",
       "      <td>NaN</td>\n",
       "      <td>0.110361</td>\n",
       "    </tr>\n",
       "    <tr>\n",
       "      <th>3</th>\n",
       "      <td>@USER Someone should'veTaken\" this piece of sh...</td>\n",
       "      <td>OFF</td>\n",
       "      <td>UNT</td>\n",
       "      <td>0.927032</td>\n",
       "    </tr>\n",
       "    <tr>\n",
       "      <th>4</th>\n",
       "      <td>@USER @USER Obama wanted liberals &amp;amp; illega...</td>\n",
       "      <td>NOT</td>\n",
       "      <td>NaN</td>\n",
       "      <td>0.319764</td>\n",
       "    </tr>\n",
       "  </tbody>\n",
       "</table>\n",
       "</div>"
      ],
      "text/plain": [
       "                                                text label category  \\\n",
       "0  @USER She should ask a few native Americans wh...   OFF      UNT   \n",
       "1  @USER @USER Go home you’re drunk!!! @USER #MAG...   OFF      TIN   \n",
       "2  Amazon is investigating Chinese employees who ...   NOT      NaN   \n",
       "3  @USER Someone should'veTaken\" this piece of sh...   OFF      UNT   \n",
       "4  @USER @USER Obama wanted liberals &amp; illega...   NOT      NaN   \n",
       "\n",
       "   perspective_score  \n",
       "0           0.311852  \n",
       "1           0.566334  \n",
       "2           0.110361  \n",
       "3           0.927032  \n",
       "4           0.319764  "
      ]
     },
     "execution_count": 5,
     "metadata": {},
     "output_type": "execute_result"
    }
   ],
   "source": [
    "dev.head(5)"
   ]
  },
  {
   "cell_type": "code",
   "execution_count": 6,
   "id": "432f20cf",
   "metadata": {},
   "outputs": [
    {
     "data": {
      "text/html": [
       "<div>\n",
       "<style scoped>\n",
       "    .dataframe tbody tr th:only-of-type {\n",
       "        vertical-align: middle;\n",
       "    }\n",
       "\n",
       "    .dataframe tbody tr th {\n",
       "        vertical-align: top;\n",
       "    }\n",
       "\n",
       "    .dataframe thead th {\n",
       "        text-align: right;\n",
       "    }\n",
       "</style>\n",
       "<table border=\"1\" class=\"dataframe\">\n",
       "  <thead>\n",
       "    <tr style=\"text-align: right;\">\n",
       "      <th></th>\n",
       "      <th>text</th>\n",
       "      <th>demographic</th>\n",
       "      <th>perspective_score</th>\n",
       "    </tr>\n",
       "  </thead>\n",
       "  <tbody>\n",
       "    <tr>\n",
       "      <th>0</th>\n",
       "      <td>People make mistakes. It takes a good person t...</td>\n",
       "      <td>White</td>\n",
       "      <td>0.041031</td>\n",
       "    </tr>\n",
       "    <tr>\n",
       "      <th>1</th>\n",
       "      <td>Only one on our road with power, but no cable ...</td>\n",
       "      <td>White</td>\n",
       "      <td>0.061435</td>\n",
       "    </tr>\n",
       "    <tr>\n",
       "      <th>2</th>\n",
       "      <td>I love when baby's yawn I think it's so cute.</td>\n",
       "      <td>White</td>\n",
       "      <td>0.056817</td>\n",
       "    </tr>\n",
       "    <tr>\n",
       "      <th>3</th>\n",
       "      <td>theres so many hoes now that i actually think ...</td>\n",
       "      <td>White</td>\n",
       "      <td>0.503459</td>\n",
       "    </tr>\n",
       "    <tr>\n",
       "      <th>4</th>\n",
       "      <td>Today is the day Adalynn Alexis will be here! ...</td>\n",
       "      <td>White</td>\n",
       "      <td>0.092183</td>\n",
       "    </tr>\n",
       "  </tbody>\n",
       "</table>\n",
       "</div>"
      ],
      "text/plain": [
       "                                                text demographic  \\\n",
       "0  People make mistakes. It takes a good person t...       White   \n",
       "1  Only one on our road with power, but no cable ...       White   \n",
       "2      I love when baby's yawn I think it's so cute.       White   \n",
       "3  theres so many hoes now that i actually think ...       White   \n",
       "4  Today is the day Adalynn Alexis will be here! ...       White   \n",
       "\n",
       "   perspective_score  \n",
       "0           0.041031  \n",
       "1           0.061435  \n",
       "2           0.056817  \n",
       "3           0.503459  \n",
       "4           0.092183  "
      ]
     },
     "execution_count": 6,
     "metadata": {},
     "output_type": "execute_result"
    }
   ],
   "source": [
    "mini_demographic_dev.head(5)"
   ]
  },
  {
   "cell_type": "markdown",
   "id": "9ad87ee5",
   "metadata": {},
   "source": [
    "## Off-the-shelf Model Exploration\n",
    "\n",
    "- Use the provided `perspecitve_score` values to classify each tweet in `dev.tsv` and `mini_demographic_dev.tsv` as toxic or non-toxic. As a starting point, assume that a tweet is considered offensive if it contains a toxicity score > 0.8 (you may optionally explore other thresholds).\n",
    "- Using `dev.tsv` report the Accuracy and F1 Scores of PerspectiveAPI for offensiveness classification.\n",
    "- Using `mini_demographic_dev.tsv`, separately report the FPR for each demographic group (assuming no tweet in `mini_demographic_dev.tsv` is actually offensive).\n",
    "- Briefly discuss your results\n"
   ]
  },
  {
   "cell_type": "markdown",
   "id": "b28b2186",
   "metadata": {},
   "source": [
    "#### Accuracy and F1-scores of PerspectiveAPI for offensive classifaction on `dev.tsv`"
   ]
  },
  {
   "cell_type": "markdown",
   "id": "0ec7ff3d",
   "metadata": {},
   "source": [
    "Get toxicity prediction"
   ]
  },
  {
   "cell_type": "code",
   "execution_count": 10,
   "id": "b46104ff",
   "metadata": {},
   "outputs": [
    {
     "data": {
      "text/plain": [
       "'OFF'"
      ]
     },
     "execution_count": 10,
     "metadata": {},
     "output_type": "execute_result"
    }
   ],
   "source": [
    "def get_toxicity_prediction(perspective_score):\n",
    "    return \"OFF\" if perspective_score > 0.8 else \"NOT\"\n",
    "get_toxicity_prediction(0.801)"
   ]
  },
  {
   "cell_type": "code",
   "execution_count": 11,
   "id": "3b4ff92f",
   "metadata": {},
   "outputs": [],
   "source": [
    "dev[\"pred_label\"] = dev[\"perspective_score\"].apply(get_toxicity_prediction)"
   ]
  },
  {
   "cell_type": "markdown",
   "id": "256ee19c",
   "metadata": {},
   "source": [
    "Present statistics"
   ]
  },
  {
   "cell_type": "code",
   "execution_count": 104,
   "id": "dde1d614",
   "metadata": {},
   "outputs": [],
   "source": [
    "def get_statistics(y_true, y_pred, labels=None):\n",
    "    \n",
    "    stats = {}\n",
    "    \n",
    "    # Confusion Matrix\n",
    "    cm = confusion_matrix(y_true, y_pred, labels)\n",
    "    stats[\"CM\"] = cm\n",
    "    \n",
    "    FP = cm.sum(axis=0) - np.diag(cm)  \n",
    "    FN = cm.sum(axis=1) - np.diag(cm)\n",
    "    TP = np.diag(cm)\n",
    "    TN = cm.sum() - (FP + FN + TP)\n",
    "    \n",
    "    # Cache to stats\n",
    "    stats[\"FP\"] = FP\n",
    "    stats[\"FN\"] = FN\n",
    "    stats[\"TP\"] = TP\n",
    "    stats[\"TN\"] = TN\n",
    "\n",
    "    # Sensitivity, hit rate, recall, or true positive rate\n",
    "    TPR = TP/(TP+FN)\n",
    "    stats[\"TPR\"] = TPR\n",
    "    stats[\"RECALL\"] = TPR\n",
    "    \n",
    "    # Specificity or true negative rate\n",
    "    TNR = TN/(TN+FP) \n",
    "    stats[\"TNR\"] = TNR\n",
    "    stats[\"SPECIFICITY\"] = TNR\n",
    "    \n",
    "    # Precision or positive predictive value\n",
    "    PPV = TP/(TP+FP)\n",
    "    stats[\"PPV\"] = PPV\n",
    "    stats[\"PRECISION\"] = PPV\n",
    "    \n",
    "    # Negative predictive value\n",
    "    NPV = TN/(TN+FN)\n",
    "    stats[\"NPV\"] = NPV\n",
    "    \n",
    "    # Fall out or false positive rate\n",
    "    FPR = FP/(FP+TN)\n",
    "    stats[\"FPR\"] = FPR\n",
    "    \n",
    "    # False negative rate\n",
    "    FNR = FN/(TP+FN)\n",
    "    stats[\"FNR\"] = FNR\n",
    "    \n",
    "    # False discovery rate\n",
    "    FDR = FP/(TP+FP)\n",
    "    stats[\"FDR\"] = FDR\n",
    "\n",
    "    # Overall accuracy\n",
    "    ACC = (TP+TN)/(TP+FP+FN+TN)\n",
    "    stats[\"ACC\"] = ACC\n",
    "    \n",
    "    # F1 score\n",
    "    F1 = 2 * PPV * TPR / (PPV + TPR)\n",
    "    stats[\"F1\"] = F1\n",
    "    \n",
    "    classification_rep = classification_report(dev[\"label\"], dev[\"pred_label\"], labels)\n",
    "    stats[\"REPORT\"] = classification_rep\n",
    "    \n",
    "    return stats"
   ]
  },
  {
   "cell_type": "code",
   "execution_count": 105,
   "id": "8cbf9864",
   "metadata": {},
   "outputs": [
    {
     "name": "stdout",
     "output_type": "stream",
     "text": [
      "Accuracy of PerspectiveAPI is 0.7643504531722054\n"
     ]
    }
   ],
   "source": [
    "correct = sum(np.where(dev[\"pred_label\"] == dev[\"label\"], 1, 0))\n",
    "total = len(dev)\n",
    "accuracy = correct/total\n",
    "print(\"Accuracy of PerspectiveAPI is\", accuracy)"
   ]
  },
  {
   "cell_type": "code",
   "execution_count": 106,
   "id": "f42ff7a3",
   "metadata": {
    "scrolled": true
   },
   "outputs": [
    {
     "name": "stdout",
     "output_type": "stream",
     "text": [
      "              precision    recall  f1-score   support\n",
      "\n",
      "         OFF       0.89      0.33      0.49       440\n",
      "         NOT       0.75      0.98      0.85       884\n",
      "\n",
      "    accuracy                           0.76      1324\n",
      "   macro avg       0.82      0.66      0.67      1324\n",
      "weighted avg       0.79      0.76      0.73      1324\n",
      "\n"
     ]
    }
   ],
   "source": [
    "stats = get_statistics(y_true=dev[\"label\"], y_pred=dev[\"pred_label\"], labels=[\"OFF\", \"NOT\"])\n",
    "print(stats[\"REPORT\"])"
   ]
  },
  {
   "cell_type": "code",
   "execution_count": 107,
   "id": "f2d165c6",
   "metadata": {},
   "outputs": [
    {
     "data": {
      "text/plain": [
       "array([0.76435045, 0.76435045])"
      ]
     },
     "execution_count": 107,
     "metadata": {},
     "output_type": "execute_result"
    }
   ],
   "source": [
    "stats[\"ACC\"]"
   ]
  },
  {
   "cell_type": "markdown",
   "id": "3e63b54b",
   "metadata": {},
   "source": [
    "#### Report the FPR for each demographic group using `mini_demographic_dev.tsv`\n",
    "Assume no tweet in `mini_demographic_dev.tsv` is actually offensive."
   ]
  },
  {
   "cell_type": "code",
   "execution_count": 108,
   "id": "c8624c3c",
   "metadata": {},
   "outputs": [],
   "source": [
    "mini_demographic_dev[\"label\"] = [\"NOT\" for _ in range(len(mini_demographic_dev))]"
   ]
  },
  {
   "cell_type": "code",
   "execution_count": 109,
   "id": "95597490",
   "metadata": {},
   "outputs": [],
   "source": [
    "mini_demographic_dev[\"pred\"] = mini_demographic_dev[\"perspective_score\"].apply(get_toxicity_prediction)"
   ]
  },
  {
   "cell_type": "code",
   "execution_count": 110,
   "id": "f0e7c91f",
   "metadata": {},
   "outputs": [
    {
     "data": {
      "text/html": [
       "<div>\n",
       "<style scoped>\n",
       "    .dataframe tbody tr th:only-of-type {\n",
       "        vertical-align: middle;\n",
       "    }\n",
       "\n",
       "    .dataframe tbody tr th {\n",
       "        vertical-align: top;\n",
       "    }\n",
       "\n",
       "    .dataframe thead th {\n",
       "        text-align: right;\n",
       "    }\n",
       "</style>\n",
       "<table border=\"1\" class=\"dataframe\">\n",
       "  <thead>\n",
       "    <tr style=\"text-align: right;\">\n",
       "      <th></th>\n",
       "      <th>text</th>\n",
       "      <th>demographic</th>\n",
       "      <th>perspective_score</th>\n",
       "      <th>pred</th>\n",
       "      <th>label</th>\n",
       "    </tr>\n",
       "  </thead>\n",
       "  <tbody>\n",
       "    <tr>\n",
       "      <th>0</th>\n",
       "      <td>People make mistakes. It takes a good person t...</td>\n",
       "      <td>White</td>\n",
       "      <td>0.041031</td>\n",
       "      <td>NOT</td>\n",
       "      <td>NOT</td>\n",
       "    </tr>\n",
       "    <tr>\n",
       "      <th>1</th>\n",
       "      <td>Only one on our road with power, but no cable ...</td>\n",
       "      <td>White</td>\n",
       "      <td>0.061435</td>\n",
       "      <td>NOT</td>\n",
       "      <td>NOT</td>\n",
       "    </tr>\n",
       "    <tr>\n",
       "      <th>2</th>\n",
       "      <td>I love when baby's yawn I think it's so cute.</td>\n",
       "      <td>White</td>\n",
       "      <td>0.056817</td>\n",
       "      <td>NOT</td>\n",
       "      <td>NOT</td>\n",
       "    </tr>\n",
       "    <tr>\n",
       "      <th>3</th>\n",
       "      <td>theres so many hoes now that i actually think ...</td>\n",
       "      <td>White</td>\n",
       "      <td>0.503459</td>\n",
       "      <td>NOT</td>\n",
       "      <td>NOT</td>\n",
       "    </tr>\n",
       "    <tr>\n",
       "      <th>4</th>\n",
       "      <td>Today is the day Adalynn Alexis will be here! ...</td>\n",
       "      <td>White</td>\n",
       "      <td>0.092183</td>\n",
       "      <td>NOT</td>\n",
       "      <td>NOT</td>\n",
       "    </tr>\n",
       "  </tbody>\n",
       "</table>\n",
       "</div>"
      ],
      "text/plain": [
       "                                                text demographic  \\\n",
       "0  People make mistakes. It takes a good person t...       White   \n",
       "1  Only one on our road with power, but no cable ...       White   \n",
       "2      I love when baby's yawn I think it's so cute.       White   \n",
       "3  theres so many hoes now that i actually think ...       White   \n",
       "4  Today is the day Adalynn Alexis will be here! ...       White   \n",
       "\n",
       "   perspective_score pred label  \n",
       "0           0.041031  NOT   NOT  \n",
       "1           0.061435  NOT   NOT  \n",
       "2           0.056817  NOT   NOT  \n",
       "3           0.503459  NOT   NOT  \n",
       "4           0.092183  NOT   NOT  "
      ]
     },
     "execution_count": 110,
     "metadata": {},
     "output_type": "execute_result"
    }
   ],
   "source": [
    "mini_demographic_dev.head(5)"
   ]
  },
  {
   "cell_type": "code",
   "execution_count": 111,
   "id": "3acb6393",
   "metadata": {},
   "outputs": [
    {
     "data": {
      "text/plain": [
       "array(['White', 'Hispanic', 'AA', 'Other'], dtype=object)"
      ]
     },
     "execution_count": 111,
     "metadata": {},
     "output_type": "execute_result"
    }
   ],
   "source": [
    "unique_demographics = mini_demographic_dev[\"demographic\"].unique()\n",
    "unique_demographics"
   ]
  },
  {
   "cell_type": "code",
   "execution_count": 112,
   "id": "03c4a0c1",
   "metadata": {},
   "outputs": [
    {
     "name": "stderr",
     "output_type": "stream",
     "text": [
      "/Library/Frameworks/Python.framework/Versions/3.8/lib/python3.8/site-packages/seaborn/_decorators.py:36: FutureWarning: Pass the following variable as a keyword arg: x. From version 0.12, the only valid positional argument will be `data`, and passing other arguments without an explicit keyword will result in an error or misinterpretation.\n",
      "  warnings.warn(\n"
     ]
    },
    {
     "data": {
      "text/plain": [
       "<AxesSubplot:xlabel='demographic', ylabel='count'>"
      ]
     },
     "execution_count": 112,
     "metadata": {},
     "output_type": "execute_result"
    },
    {
     "data": {
      "image/png": "[encoded data removed]",
      "text/plain": [
       "<Figure size 432x288 with 1 Axes>"
      ]
     },
     "metadata": {},
     "output_type": "display_data"
    }
   ],
   "source": [
    "sns.countplot(mini_demographic_dev[\"demographic\"])"
   ]
  },
  {
   "cell_type": "code",
   "execution_count": 113,
   "id": "300de575",
   "metadata": {},
   "outputs": [],
   "source": [
    "white_df = mini_demographic_dev[mini_demographic_dev[\"demographic\"] == \"White\"]\n",
    "hispanic_df = mini_demographic_dev[mini_demographic_dev[\"demographic\"] == \"Hispanic\"]\n",
    "AA_df = mini_demographic_dev[mini_demographic_dev[\"demographic\"] == \"AA\"]\n",
    "other_df = mini_demographic_dev[mini_demographic_dev[\"demographic\"] == \"Other\"]"
   ]
  },
  {
   "cell_type": "code",
   "execution_count": 129,
   "id": "672d88cd",
   "metadata": {},
   "outputs": [],
   "source": [
    "def get_fpr(df, labels=None):\n",
    "    # FPR = FP/(FP+TN)\n",
    "    stats = get_statistics(df[\"pred\"], df[\"label\"], labels=labels)\n",
    "    return stats[\"FP\"][1] / (stats[\"FP\"][1] + stats[\"TN\"][0])"
   ]
  },
  {
   "cell_type": "code",
   "execution_count": 140,
   "id": "910f2ac0",
   "metadata": {},
   "outputs": [
    {
     "name": "stdout",
     "output_type": "stream",
     "text": [
      "White FPR: 0.07319952774498228\n",
      "Hispanic FPR: 0.10149253731343283\n",
      "AA FPR: 0.1897590361445783\n",
      "Other FPR: 0.011764705882352941\n"
     ]
    },
    {
     "data": {
      "text/plain": [
       "Text(0.5, 1.0, 'False Positive Rate (FPR) of Toxicity Detection')"
      ]
     },
     "execution_count": 140,
     "metadata": {},
     "output_type": "execute_result"
    },
    {
     "data": {
      "image/png": "[encoded data removed]",
      "text/plain": [
       "<Figure size 432x288 with 1 Axes>"
      ]
     },
     "metadata": {},
     "output_type": "display_data"
    }
   ],
   "source": [
    "# FPR = FP/(FP+TN)\n",
    "white_fpr = get_fpr(white_df, labels=[\"OFF\", \"NOT\"])\n",
    "hispanic_fpr = get_fpr(hispanic_df, labels=[\"OFF\", \"NOT\"])\n",
    "AA_fpr = get_fpr(AA_df, labels=[\"OFF\", \"NOT\"])\n",
    "other_fpr = get_fpr(other_df, labels=[\"OFF\", \"NOT\"])\n",
    "\n",
    "print(\"White FPR:\", white_fpr)\n",
    "print(\"Hispanic FPR:\", hispanic_fpr)\n",
    "print(\"AA FPR:\", AA_fpr)\n",
    "print(\"Other FPR:\", other_fpr)\n",
    "\n",
    "ax = sns.barplot(['White', 'Hispanic', 'AA', 'Other'], [white_fpr, hispanic_fpr, AA_fpr, other_fpr])\n",
    "ax.set_ylabel(\"FPR\")\n",
    "ax.set_xlabel(\"Demographic\")\n",
    "ax.set_title(\"False Positive Rate (FPR) of Toxicity Detection\")"
   ]
  },
  {
   "cell_type": "markdown",
   "id": "30568478",
   "metadata": {},
   "source": [
    "## Custom Model Exploration\n",
    "\n",
    "- Build your own classifier to distinguish offensive (`OFF`) tweets from non-offensive (`NOT`) tweets. Your model should be trained on `train.tsv` and should obtain an accuracy of at least 70% and an F1 score of at least 80% over `dev.tsv` (this should be easy to obtain with surface-level features).\n",
    "- Report the accuracy and F1 score of your model over `dev.tsv`\n",
    "- Report FPR over `mini_demographic_dev.tsv`\n",
    "- Briefly discuss your results. How does your model compare to PerspectiveAPI?"
   ]
  },
  {
   "cell_type": "code",
   "execution_count": null,
   "id": "a8bf25ba",
   "metadata": {},
   "outputs": [],
   "source": []
  }
 ],
 "metadata": {
  "kernelspec": {
   "display_name": "Python 3",
   "language": "python",
   "name": "python3"
  },
  "language_info": {
   "codemirror_mode": {
    "name": "ipython",
    "version": 3
   },
   "file_extension": ".py",
   "mimetype": "text/x-python",
   "name": "python",
   "nbconvert_exporter": "python",
   "pygments_lexer": "ipython3",
   "version": "3.8.5"
  }
 },
 "nbformat": 4,
 "nbformat_minor": 5
}
