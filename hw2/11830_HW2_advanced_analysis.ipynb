{
 "cells": [
  {
   "cell_type": "code",
   "execution_count": 396,
   "id": "66d09f3d",
   "metadata": {},
   "outputs": [
    {
     "name": "stderr",
     "output_type": "stream",
     "text": [
      "[nltk_data] Downloading package stopwords to\n",
      "[nltk_data]     /Users/athiyadeviyani/nltk_data...\n",
      "[nltk_data]   Package stopwords is already up-to-date!\n",
      "[nltk_data] Downloading package rslp to\n",
      "[nltk_data]     /Users/athiyadeviyani/nltk_data...\n",
      "[nltk_data]   Package rslp is already up-to-date!\n"
     ]
    }
   ],
   "source": [
    "import numpy as np\n",
    "np.random.seed(42)\n",
    "import pandas as pd\n",
    "\n",
    "from matplotlib import pyplot as plt\n",
    "from sklearn.model_selection import train_test_split\n",
    "from sklearn.metrics import roc_auc_score\n",
    "import seaborn as sns\n",
    "from sklearn.metrics import accuracy_score, f1_score, confusion_matrix, classification_report\n",
    "plt.style.use('ggplot')\n",
    "\n",
    "import tensorflow as tf\n",
    "import keras\n",
    "from tensorflow.keras.models import Model, Sequential\n",
    "from tensorflow.keras.layers import Input, Dense, Embedding, SpatialDropout1D, concatenate, Dropout\n",
    "from tensorflow.keras.layers import GRU, Bidirectional, GlobalAveragePooling1D, GlobalMaxPooling1D\n",
    "from tensorflow.keras.preprocessing import text, sequence\n",
    "from tensorflow.keras.callbacks import Callback\n",
    "plt.style.use('ggplot')\n",
    "\n",
    "import warnings\n",
    "warnings.filterwarnings('ignore')\n",
    "\n",
    "from tqdm import tqdm\n",
    "\n",
    "#NLP tools\n",
    "import re\n",
    "import nltk\n",
    "nltk.download('stopwords')\n",
    "nltk.download('rslp')\n",
    "from nltk.corpus import stopwords\n",
    "from nltk.stem.porter import PorterStemmer"
   ]
  },
  {
   "cell_type": "code",
   "execution_count": 397,
   "id": "e7afbf0a",
   "metadata": {},
   "outputs": [],
   "source": [
    "dev = pd.read_csv(\"civility_data/dev.tsv\", sep='\\t')\n",
    "mini_demographic_dev = pd.read_csv(\"civility_data/mini_demographic_dev.tsv\", sep='\\t')\n",
    "test = pd.read_csv(\"civility_data/test.tsv\", sep='\\t')\n",
    "train = pd.read_csv(\"civility_data/train.tsv\", sep='\\t')\n",
    "mini_demographic_dev[\"bin_label\"] = [1 for _ in range(len(mini_demographic_dev))]"
   ]
  },
  {
   "cell_type": "code",
   "execution_count": 398,
   "id": "06a38eff",
   "metadata": {},
   "outputs": [
    {
     "name": "stdout",
     "output_type": "stream",
     "text": [
      "Reading twitter - 1grams ...\n",
      "Reading twitter - 2grams ...\n"
     ]
    },
    {
     "name": "stderr",
     "output_type": "stream",
     "text": [
      "\r",
      "  0%|          | 0/10592 [00:00<?, ?it/s]"
     ]
    },
    {
     "name": "stdout",
     "output_type": "stream",
     "text": [
      "Reading twitter - 1grams ...\n",
      "Preprocessing tweets...\n"
     ]
    },
    {
     "name": "stderr",
     "output_type": "stream",
     "text": [
      "100%|██████████| 10592/10592 [00:11<00:00, 919.86it/s] \n",
      "100%|██████████| 1324/1324 [00:01<00:00, 925.56it/s] \n",
      "100%|██████████| 5072/5072 [00:03<00:00, 1457.80it/s]"
     ]
    },
    {
     "name": "stdout",
     "output_type": "stream",
     "text": [
      "DONE\n"
     ]
    },
    {
     "name": "stderr",
     "output_type": "stream",
     "text": [
      "\n"
     ]
    }
   ],
   "source": [
    "dev = pd.read_csv(\"civility_data/dev.tsv\", sep='\\t')\n",
    "mini_demographic_dev = pd.read_csv(\"civility_data/mini_demographic_dev.tsv\", sep='\\t')\n",
    "test = pd.read_csv(\"civility_data/test.tsv\", sep='\\t')\n",
    "train = pd.read_csv(\"civility_data/train.tsv\", sep='\\t')\n",
    "mini_demographic_dev[\"bin_label\"] = [1 for _ in range(len(mini_demographic_dev))]\n",
    "\n",
    "X_train = train[\"text\"].values\n",
    "y_train = np.array([0.0 if l==\"OFF\" else 1.0 for l in train[\"label\"]])\n",
    "X_test = dev[\"text\"].values\n",
    "y_test = np.array([0.0 if l==\"OFF\" else 1.0 for l in dev[\"label\"]])\n",
    "X_test_dev = mini_demographic_dev[\"text\"].values\n",
    "y_test_dev = mini_demographic_dev[\"bin_label\"].values\n",
    "\n",
    "# Clean text\n",
    "\n",
    "from ekphrasis.classes.preprocessor import TextPreProcessor\n",
    "from ekphrasis.classes.tokenizer import SocialTokenizer\n",
    "from ekphrasis.dicts.emoticons import emoticons\n",
    "\n",
    "# sentences = [\n",
    "#     \"CANT WAIT for the new season of #TwinPeaks ＼(^o^)／!!! #davidlynch #tvseries :)))\",\n",
    "#     \"I saw the new #johndoe movie and it suuuuucks!!! WAISTED $10... #badmovies :/\",\n",
    "#     \"@SentimentSymp:  can't wait for the Nov 9 #Sentiment talks!  YAAAAAAY !!! :-D http://sentimentsymposium.com/.\"\n",
    "# ]\n",
    "\n",
    "# for s in sentences:\n",
    "#     print(\" \".join(text_processor.pre_process_doc(s)))\n",
    "\n",
    "text_processor = TextPreProcessor(\n",
    "    # terms that will be normalized\n",
    "    normalize=['url', 'email', 'percent', 'money', 'phone', 'user',\n",
    "        'time', 'url', 'date', 'number'],\n",
    "    # terms that will be annotated\n",
    "#     annotate={\"hashtag\", \"allcaps\", \"elongated\", \"repeated\",\n",
    "#         'emphasis', 'censored'},\n",
    "    fix_html=True,  # fix HTML tokens\n",
    "\n",
    "    # corpus from which the word statistics are going to be used \n",
    "    # for word segmentation \n",
    "    segmenter=\"twitter\", \n",
    "\n",
    "    # corpus from which the word statistics are going to be used \n",
    "    # for spell correction\n",
    "    corrector=\"twitter\", \n",
    "\n",
    "    unpack_hashtags=True,  # perform word segmentation on hashtags\n",
    "    unpack_contractions=True,  # Unpack contractions (can't -> can not)\n",
    "    spell_correct_elong=True,  # spell correction for elongated words\n",
    "\n",
    "    # select a tokenizer. You can use SocialTokenizer, or pass your own\n",
    "    # the tokenizer, should take as input a string and return a list of tokens\n",
    "    tokenizer=SocialTokenizer(lowercase=True).tokenize,\n",
    "\n",
    "    # list of dictionaries, for replacing tokens extracted from the text,\n",
    "    # with other expressions. You can pass more than one dictionaries.\n",
    "    dicts=[emoticons]\n",
    ")\n",
    "    \n",
    "def preprocessing(data):\n",
    "\n",
    "    all_stopwords = stopwords.words('english')\n",
    "    all_stopwords.remove('not')\n",
    "    corpus = []\n",
    "    for tweet in tqdm(data):\n",
    "        review = tweet\n",
    "        review = re.sub(r\"\\\\[A-Za-z0-9./]+\",\" \", review)  # remove emojis\n",
    "        review = \" \".join(text_processor.pre_process_doc(review))\n",
    "        review = re.sub(r\"@[A-Za-z0-9_]+\", \" \", review)\n",
    "        review = re.sub('RT', ' ', review)\n",
    "        review = re.sub(r\"https?://[A-Za-z0-9./]+\", \" \", review)\n",
    "        review = re.sub(r\"https?\", \" \", review)\n",
    "        review = re.sub('[^a-zA-Z]', ' ', review)\n",
    "        review = re.sub('user', ' ', review)\n",
    "        review = review.lower()\n",
    "        review = review.split()\n",
    "        review = [word for word in review if not word in set(all_stopwords) if len(word) > 2]\n",
    "        review = ' '.join(review)\n",
    "        corpus.append(review)\n",
    "\n",
    "    return np.array(corpus)\n",
    "\n",
    "print(\"Preprocessing tweets...\")\n",
    "X_train = preprocessing(X_train)\n",
    "X_test = preprocessing(X_test)\n",
    "X_test_dev = preprocessing(X_test_dev)\n",
    "\n",
    "\n",
    "# max_features = 16097\n",
    "# maxlen = 260\n",
    "# embedding_dim = 100\n",
    "\n",
    "# tokenizer = text.Tokenizer(num_words=max_features)\n",
    "# tokenizer.fit_on_texts(list(X_train))\n",
    "# X_train = tokenizer.texts_to_sequences(X_train)\n",
    "# X_test = tokenizer.texts_to_sequences(X_test)\n",
    "# X_test_dev = tokenizer.texts_to_sequences(X_test_dev)\n",
    "# X_train = sequence.pad_sequences(X_train, maxlen=maxlen)\n",
    "# X_test = sequence.pad_sequences(X_test, maxlen=maxlen)\n",
    "# X_test_dev = sequence.pad_sequences(X_test_dev, maxlen=maxlen)\n",
    "\n",
    "\n",
    "# embeddings_index = dict()\n",
    "\n",
    "# GLOVE_PATH = 'glove.twitter.27B.200d.txt'\n",
    "# print(\"Processing GloVe word embeddings...\")\n",
    "# with open(GLOVE_PATH, 'r') as glove_file:\n",
    "#     for line in glove_file:\n",
    "#         values = line.split()\n",
    "#         word = values[0]\n",
    "#         coefs = np.asarray(values[1:], dtype='float32')\n",
    "#         embeddings_index[word] = coefs\n",
    "\n",
    "# print(\"Found\", len(embeddings_index), \"word vectors!\")\n",
    "\n",
    "# embedding_matrix = np.zeros((max_features, embedding_dim))\n",
    "# print(\"Creating embedding matrix...\")\n",
    "# for i in tqdm(range(len(tokenizer.word_index.items()))):\n",
    "#     word, index = list(tokenizer.word_index.items())[i]\n",
    "#     if index > max_features-1:\n",
    "#         break\n",
    "#     else:\n",
    "#         embedding_vector = embeddings_index.get(word)\n",
    "#         if embedding_vector is not None:\n",
    "#             embedding_matrix[index] = embedding_vector\n",
    "\n",
    "# with open('embedding_matrix_200.npy', 'wb') as f:\n",
    "#     np.save(f, embedding_matrix)\n",
    "\n",
    "with open('embedding_matrix.npy', 'rb') as f:\n",
    "    embedding_matrix = np.load(f)\n",
    "\n",
    "# with open('embedding_matrix_fasttext.npy', 'rb') as f:\n",
    "#     embedding_matrix = np.load(f)\n",
    "\n",
    "print('DONE')"
   ]
  },
  {
   "cell_type": "code",
   "execution_count": 399,
   "id": "e5d1f732",
   "metadata": {},
   "outputs": [],
   "source": [
    "race_test = pd.read_csv(\"civility_extra_data/demographic_dev.tsv\", sep='\\t')\n",
    "race_train = pd.read_csv(\"civility_extra_data/demographic_train.tsv\", sep='\\t')\n",
    "labeled = pd.read_csv(\"civility_extra_data/labeled_data.tsv\", sep='\\t')"
   ]
  },
  {
   "cell_type": "code",
   "execution_count": 400,
   "id": "e6bc7b19",
   "metadata": {},
   "outputs": [],
   "source": [
    "rx_test = race_test[\"text\"]\n",
    "ry_test = race_test[\"demographic\"]\n",
    "rx_train = race_train[\"text\"]\n",
    "ry_train = race_train[\"demographic\"]"
   ]
  },
  {
   "cell_type": "code",
   "execution_count": 401,
   "id": "4d460703",
   "metadata": {},
   "outputs": [
    {
     "data": {
      "text/html": [
       "<div>\n",
       "<style scoped>\n",
       "    .dataframe tbody tr th:only-of-type {\n",
       "        vertical-align: middle;\n",
       "    }\n",
       "\n",
       "    .dataframe tbody tr th {\n",
       "        vertical-align: top;\n",
       "    }\n",
       "\n",
       "    .dataframe thead th {\n",
       "        text-align: right;\n",
       "    }\n",
       "</style>\n",
       "<table border=\"1\" class=\"dataframe\">\n",
       "  <thead>\n",
       "    <tr style=\"text-align: right;\">\n",
       "      <th></th>\n",
       "      <th>text</th>\n",
       "      <th>demographic</th>\n",
       "    </tr>\n",
       "  </thead>\n",
       "  <tbody>\n",
       "    <tr>\n",
       "      <th>0</th>\n",
       "      <td>@USER @USER he dropped him and picked up Vick</td>\n",
       "      <td>White</td>\n",
       "    </tr>\n",
       "    <tr>\n",
       "      <th>1</th>\n",
       "      <td>Right when I see a snap chat from @USER I get ...</td>\n",
       "      <td>White</td>\n",
       "    </tr>\n",
       "    <tr>\n",
       "      <th>2</th>\n",
       "      <td>I am getting way to many Waffle House snapchat...</td>\n",
       "      <td>White</td>\n",
       "    </tr>\n",
       "    <tr>\n",
       "      <th>3</th>\n",
       "      <td>I miss my roommate @USER so much \\ud83d\\ude2d\\...</td>\n",
       "      <td>White</td>\n",
       "    </tr>\n",
       "    <tr>\n",
       "      <th>4</th>\n",
       "      <td>Joey MacDonald is playing really good for the ...</td>\n",
       "      <td>White</td>\n",
       "    </tr>\n",
       "  </tbody>\n",
       "</table>\n",
       "</div>"
      ],
      "text/plain": [
       "                                                text demographic\n",
       "0      @USER @USER he dropped him and picked up Vick       White\n",
       "1  Right when I see a snap chat from @USER I get ...       White\n",
       "2  I am getting way to many Waffle House snapchat...       White\n",
       "3  I miss my roommate @USER so much \\ud83d\\ude2d\\...       White\n",
       "4  Joey MacDonald is playing really good for the ...       White"
      ]
     },
     "execution_count": 401,
     "metadata": {},
     "output_type": "execute_result"
    }
   ],
   "source": [
    "race_test.head()"
   ]
  },
  {
   "cell_type": "code",
   "execution_count": 402,
   "id": "b0a30d76",
   "metadata": {},
   "outputs": [
    {
     "data": {
      "text/html": [
       "<div>\n",
       "<style scoped>\n",
       "    .dataframe tbody tr th:only-of-type {\n",
       "        vertical-align: middle;\n",
       "    }\n",
       "\n",
       "    .dataframe tbody tr th {\n",
       "        vertical-align: top;\n",
       "    }\n",
       "\n",
       "    .dataframe thead th {\n",
       "        text-align: right;\n",
       "    }\n",
       "</style>\n",
       "<table border=\"1\" class=\"dataframe\">\n",
       "  <thead>\n",
       "    <tr style=\"text-align: right;\">\n",
       "      <th></th>\n",
       "      <th>text</th>\n",
       "      <th>demographic</th>\n",
       "    </tr>\n",
       "  </thead>\n",
       "  <tbody>\n",
       "    <tr>\n",
       "      <th>0</th>\n",
       "      <td>I just wanna make you happy</td>\n",
       "      <td>White</td>\n",
       "    </tr>\n",
       "    <tr>\n",
       "      <th>1</th>\n",
       "      <td>@USER I was laughing at that tweet you put smh...</td>\n",
       "      <td>White</td>\n",
       "    </tr>\n",
       "    <tr>\n",
       "      <th>2</th>\n",
       "      <td>Damn I hate bein sobaa' .. ima smokaa preferab...</td>\n",
       "      <td>AA</td>\n",
       "    </tr>\n",
       "    <tr>\n",
       "      <th>3</th>\n",
       "      <td>@USER right!!! Lmao xD he told me to delete it...</td>\n",
       "      <td>Hispanic</td>\n",
       "    </tr>\n",
       "    <tr>\n",
       "      <th>4</th>\n",
       "      <td>@USER ok I'll leave my class now!</td>\n",
       "      <td>White</td>\n",
       "    </tr>\n",
       "  </tbody>\n",
       "</table>\n",
       "</div>"
      ],
      "text/plain": [
       "                                                text demographic\n",
       "0                        I just wanna make you happy       White\n",
       "1  @USER I was laughing at that tweet you put smh...       White\n",
       "2  Damn I hate bein sobaa' .. ima smokaa preferab...          AA\n",
       "3  @USER right!!! Lmao xD he told me to delete it...    Hispanic\n",
       "4                  @USER ok I'll leave my class now!       White"
      ]
     },
     "execution_count": 402,
     "metadata": {},
     "output_type": "execute_result"
    }
   ],
   "source": [
    "race_train.head()"
   ]
  },
  {
   "cell_type": "code",
   "execution_count": 403,
   "id": "87b62eb7",
   "metadata": {},
   "outputs": [
    {
     "data": {
      "text/plain": [
       "<AxesSubplot:xlabel='demographic', ylabel='count'>"
      ]
     },
     "execution_count": 403,
     "metadata": {},
     "output_type": "execute_result"
    },
    {
     "data": {
      "image/png": "[encoded data removed]",
      "text/plain": [
       "<Figure size 432x288 with 1 Axes>"
      ]
     },
     "metadata": {},
     "output_type": "display_data"
    }
   ],
   "source": [
    "sns.countplot(race_train.demographic)"
   ]
  },
  {
   "cell_type": "code",
   "execution_count": 404,
   "id": "f106392e",
   "metadata": {},
   "outputs": [],
   "source": [
    "other_race = race_train[race_train.demographic == 'Other'].sample(250000)\n",
    "white_race = race_train[race_train.demographic == 'White'].sample(250000)\n",
    "AA_race = race_train[race_train.demographic == 'AA'].sample(250000)\n",
    "hispanic_race = race_train[race_train.demographic == 'Hispanic'].sample(250000)"
   ]
  },
  {
   "cell_type": "code",
   "execution_count": 405,
   "id": "65e96faf",
   "metadata": {},
   "outputs": [],
   "source": [
    "rtrain = pd.concat([other_race, white_race, AA_race, hispanic_race])"
   ]
  },
  {
   "cell_type": "code",
   "execution_count": 406,
   "id": "05ca574e",
   "metadata": {},
   "outputs": [],
   "source": [
    "other_test = race_test[race_test.demographic == 'Other'].sample(50000)\n",
    "white_test = race_test[race_test.demographic == 'White'].sample(50000)\n",
    "AA_test = race_test[race_test.demographic == 'AA'].sample(50000)\n",
    "hispanic_test = race_test[race_test.demographic == 'Hispanic'].sample(50000)"
   ]
  },
  {
   "cell_type": "code",
   "execution_count": 407,
   "id": "eceb1361",
   "metadata": {},
   "outputs": [],
   "source": [
    "rtest = pd.concat([other_test, white_test, AA_test, hispanic_test])"
   ]
  },
  {
   "cell_type": "code",
   "execution_count": 408,
   "id": "f187fd02",
   "metadata": {},
   "outputs": [],
   "source": [
    "from sklearn.preprocessing import LabelEncoder\n",
    "\n",
    "# creating instance of labelencoder\n",
    "labelencoder = LabelEncoder()\n",
    "# Assigning numerical values and storing in another column\n",
    "ry_test = labelencoder.fit_transform(rtest.demographic)\n",
    "ry_train = labelencoder.fit_transform(rtrain.demographic)"
   ]
  },
  {
   "cell_type": "code",
   "execution_count": 409,
   "id": "54f8825f",
   "metadata": {},
   "outputs": [
    {
     "data": {
      "text/plain": [
       "(2, 2)"
      ]
     },
     "execution_count": 409,
     "metadata": {},
     "output_type": "execute_result"
    }
   ],
   "source": [
    "ry_test[0], ry_train[0]"
   ]
  },
  {
   "cell_type": "code",
   "execution_count": 410,
   "id": "2ca6f782",
   "metadata": {},
   "outputs": [
    {
     "name": "stderr",
     "output_type": "stream",
     "text": [
      "100%|██████████| 1/1 [00:00<00:00, 386.86it/s]\n"
     ]
    },
    {
     "data": {
      "text/plain": [
       "array(['wanna make happy'], dtype='<U16')"
      ]
     },
     "execution_count": 410,
     "metadata": {},
     "output_type": "execute_result"
    }
   ],
   "source": [
    "preprocessing([rx_train[0]])"
   ]
  },
  {
   "cell_type": "code",
   "execution_count": 116,
   "id": "9d349421",
   "metadata": {},
   "outputs": [],
   "source": [
    "# def preprocessing(data):\n",
    "#     all_stopwords = stopwords.words('english')\n",
    "#     all_stopwords.remove('not')\n",
    "#     corpus = []\n",
    "#     for tweet in tqdm(data):\n",
    "#         review = re.sub(r\"@[A-Za-z0-9_]+\", \" \", tweet)\n",
    "#         review = re.sub('RT', ' ', review)\n",
    "#         review = re.sub(r\"https?://[A-Za-z0-9./]+\", \" \", review)\n",
    "#         review = re.sub(r\"https?\", \" \", review)\n",
    "#         review = re.sub(r\"\\\\[A-Za-z0-9./]+\",\" \", review)\n",
    "#         review = re.sub('[^a-zA-Z]', ' ', review)\n",
    "#         review = review.lower()\n",
    "#         review = review.split()\n",
    "#         review = [word for word in review if not word in set(all_stopwords) if len(word) > 2]\n",
    "#         review = ' '.join(review)\n",
    "#         corpus.append(review)\n",
    "\n",
    "#     return np.array(corpus)"
   ]
  },
  {
   "cell_type": "code",
   "execution_count": 413,
   "id": "6b6278b4",
   "metadata": {},
   "outputs": [
    {
     "name": "stderr",
     "output_type": "stream",
     "text": [
      "100%|██████████| 5/5 [00:00<00:00, 1703.75it/s]\n"
     ]
    },
    {
     "data": {
      "text/plain": [
       "array(['apo entiende toy trabajando',\n",
       "       'que sabes que que sabemos que ambos sabemos que quisieras estar este lugar llueven los pensamientos',\n",
       "       'ciudad mientras estamos bat tango',\n",
       "       'gaby sai chon extrano tenes que poner dia todo', ''], dtype='<U99')"
      ]
     },
     "execution_count": 413,
     "metadata": {},
     "output_type": "execute_result"
    }
   ],
   "source": [
    "preprocessing(rtrain.text.values[:5])"
   ]
  },
  {
   "cell_type": "code",
   "execution_count": 414,
   "id": "5f5545e1",
   "metadata": {},
   "outputs": [
    {
     "name": "stderr",
     "output_type": "stream",
     "text": [
      "100%|██████████| 1000000/1000000 [09:21<00:00, 1780.83it/s]\n",
      "100%|██████████| 200000/200000 [02:11<00:00, 1523.91it/s]\n"
     ]
    }
   ],
   "source": [
    "rx_train = preprocessing([x if isinstance(x, str) else '' for x in rtrain.text.values])\n",
    "rx_test = preprocessing(rtest.text.values)"
   ]
  },
  {
   "cell_type": "code",
   "execution_count": 415,
   "id": "383df4c9",
   "metadata": {},
   "outputs": [
    {
     "data": {
      "text/plain": [
       "7.731803829003772"
      ]
     },
     "execution_count": 415,
     "metadata": {},
     "output_type": "execute_result"
    }
   ],
   "source": [
    "len([x for x in rx_train if x == '']) * 100 / len([x for x in rx_train if x != ''])"
   ]
  },
  {
   "cell_type": "code",
   "execution_count": 416,
   "id": "303c2deb",
   "metadata": {},
   "outputs": [],
   "source": [
    "#max([len(x) for x in rx_train])"
   ]
  },
  {
   "cell_type": "code",
   "execution_count": 418,
   "id": "de2193e0",
   "metadata": {},
   "outputs": [],
   "source": [
    "r_train = pd.DataFrame()\n",
    "r_train['text'] = rx_train\n",
    "r_train['label'] = ry_train"
   ]
  },
  {
   "cell_type": "code",
   "execution_count": 422,
   "id": "8fe49f94",
   "metadata": {},
   "outputs": [],
   "source": [
    "r_train = r_train[r_train.text != '']"
   ]
  },
  {
   "cell_type": "code",
   "execution_count": 423,
   "id": "4b7cb8b8",
   "metadata": {},
   "outputs": [],
   "source": [
    "rx_train = r_train['text']\n",
    "ry_train = r_train['label']"
   ]
  },
  {
   "cell_type": "code",
   "execution_count": 424,
   "id": "d1df0ad4",
   "metadata": {},
   "outputs": [
    {
     "data": {
      "text/plain": [
       "0.0"
      ]
     },
     "execution_count": 424,
     "metadata": {},
     "output_type": "execute_result"
    }
   ],
   "source": [
    "len([x for x in rx_train if x == '']) * 100 / len([x for x in rx_train if x != ''])"
   ]
  },
  {
   "cell_type": "code",
   "execution_count": 425,
   "id": "05ccec24",
   "metadata": {},
   "outputs": [],
   "source": [
    "from sklearn.ensemble import RandomForestClassifier\n",
    "from sklearn.linear_model import LogisticRegression, SGDClassifier\n",
    "from sklearn.neighbors import KNeighborsClassifier\n",
    "from sklearn.tree import DecisionTreeClassifier\n",
    "from sklearn.naive_bayes import MultinomialNB, GaussianNB\n",
    "from sklearn.feature_extraction.text import TfidfTransformer\n",
    "from sklearn.ensemble import GradientBoostingClassifier\n",
    "from sklearn.svm import SVC\n",
    "from lightgbm import LGBMClassifier\n",
    "from xgboost.sklearn import XGBClassifier\n",
    "from sklearn.pipeline import Pipeline\n",
    "from sklearn.feature_extraction.text import CountVectorizer"
   ]
  },
  {
   "cell_type": "code",
   "execution_count": 426,
   "id": "404222b8",
   "metadata": {},
   "outputs": [
    {
     "name": "stdout",
     "output_type": "stream",
     "text": [
      "0.70674\n",
      "              precision    recall  f1-score   support\n",
      "\n",
      "           0       0.74      0.69      0.71     50000\n",
      "           1       0.59      0.51      0.55     50000\n",
      "           2       0.85      0.95      0.90     50000\n",
      "           3       0.62      0.67      0.65     50000\n",
      "\n",
      "    accuracy                           0.71    200000\n",
      "   macro avg       0.70      0.71      0.70    200000\n",
      "weighted avg       0.70      0.71      0.70    200000\n",
      "\n"
     ]
    }
   ],
   "source": [
    "logr = Pipeline([\n",
    "    ('vectorizer', CountVectorizer()),\n",
    "    ('tfidf', TfidfTransformer()),\n",
    "    ('logreg', LogisticRegression(solver='liblinear', penalty='l2')),\n",
    "])\n",
    "\n",
    "logr.fit(rx_train, ry_train)\n",
    "ry_pred = logr.predict(rx_test)\n",
    "print(accuracy_score(ry_test, ry_pred))\n",
    "print(classification_report(ry_test, ry_pred))"
   ]
  },
  {
   "cell_type": "code",
   "execution_count": 538,
   "id": "9b46c2e0",
   "metadata": {},
   "outputs": [
    {
     "data": {
      "text/plain": [
       "array([[0.01046764, 0.00436868, 0.97773966, 0.00742401]])"
      ]
     },
     "execution_count": 538,
     "metadata": {},
     "output_type": "execute_result"
    }
   ],
   "source": [
    "logr.predict_proba(rx_test[:1])"
   ]
  },
  {
   "cell_type": "code",
   "execution_count": 537,
   "id": "f8f10420",
   "metadata": {},
   "outputs": [
    {
     "name": "stdout",
     "output_type": "stream",
     "text": [
      "0.70674\n"
     ]
    }
   ],
   "source": [
    "import pickle\n",
    "\n",
    "filename = 'race_model.sav'\n",
    "pickle.dump(logr, open(filename, 'wb'))\n",
    " \n",
    "# some time later...\n",
    " \n",
    "# load the model from disk\n",
    "loaded_model = pickle.load(open(filename, 'rb'))\n",
    "result = loaded_model.score(rx_test, ry_test)\n",
    "print(result)"
   ]
  },
  {
   "cell_type": "code",
   "execution_count": 428,
   "id": "a0608f12",
   "metadata": {},
   "outputs": [
    {
     "name": "stdout",
     "output_type": "stream",
     "text": [
      "0.660145\n",
      "              precision    recall  f1-score   support\n",
      "\n",
      "           0       0.76      0.66      0.71     50000\n",
      "           1       0.58      0.53      0.55     50000\n",
      "           2       0.95      0.73      0.83     50000\n",
      "           3       0.49      0.72      0.58     50000\n",
      "\n",
      "    accuracy                           0.66    200000\n",
      "   macro avg       0.70      0.66      0.67    200000\n",
      "weighted avg       0.70      0.66      0.67    200000\n",
      "\n"
     ]
    }
   ],
   "source": [
    "nb = Pipeline([\n",
    "    ('vectorizer', CountVectorizer()),\n",
    "    ('tfidf', TfidfTransformer()),\n",
    "    ('nb', MultinomialNB()),\n",
    "])\n",
    "\n",
    "nb.fit(rx_train, ry_train)\n",
    "ry_pred = nb.predict(rx_test)\n",
    "print(accuracy_score(ry_test, ry_pred))\n",
    "print(classification_report(ry_test, ry_pred))"
   ]
  },
  {
   "cell_type": "code",
   "execution_count": 437,
   "id": "f47ab1a0",
   "metadata": {},
   "outputs": [
    {
     "name": "stdout",
     "output_type": "stream",
     "text": [
      "tokenizing\n",
      "Processing GloVe word embeddings...\n"
     ]
    },
    {
     "name": "stderr",
     "output_type": "stream",
     "text": [
      "  0%|          | 2/229638 [00:00<4:47:15, 13.32it/s]"
     ]
    },
    {
     "name": "stdout",
     "output_type": "stream",
     "text": [
      "Found 1193514 word vectors!\n",
      "Creating embedding matrix...\n"
     ]
    },
    {
     "name": "stderr",
     "output_type": "stream",
     "text": [
      "  2%|▏         | 5555/229638 [04:56<3:19:39, 18.71it/s] \n"
     ]
    },
    {
     "ename": "KeyboardInterrupt",
     "evalue": "",
     "output_type": "error",
     "traceback": [
      "\u001b[0;31m---------------------------------------------------------------------------\u001b[0m",
      "\u001b[0;31mKeyboardInterrupt\u001b[0m                         Traceback (most recent call last)",
      "\u001b[0;32m<ipython-input-437-a2c73f38603c>\u001b[0m in \u001b[0;36m<module>\u001b[0;34m\u001b[0m\n\u001b[1;32m     34\u001b[0m \u001b[0mprint\u001b[0m\u001b[0;34m(\u001b[0m\u001b[0;34m\"Creating embedding matrix...\"\u001b[0m\u001b[0;34m)\u001b[0m\u001b[0;34m\u001b[0m\u001b[0;34m\u001b[0m\u001b[0m\n\u001b[1;32m     35\u001b[0m \u001b[0;32mfor\u001b[0m \u001b[0mi\u001b[0m \u001b[0;32min\u001b[0m \u001b[0mtqdm\u001b[0m\u001b[0;34m(\u001b[0m\u001b[0mrange\u001b[0m\u001b[0;34m(\u001b[0m\u001b[0mlen\u001b[0m\u001b[0;34m(\u001b[0m\u001b[0mtokenizer\u001b[0m\u001b[0;34m.\u001b[0m\u001b[0mword_index\u001b[0m\u001b[0;34m.\u001b[0m\u001b[0mitems\u001b[0m\u001b[0;34m(\u001b[0m\u001b[0;34m)\u001b[0m\u001b[0;34m)\u001b[0m\u001b[0;34m)\u001b[0m\u001b[0;34m)\u001b[0m\u001b[0;34m:\u001b[0m\u001b[0;34m\u001b[0m\u001b[0;34m\u001b[0m\u001b[0m\n\u001b[0;32m---> 36\u001b[0;31m     \u001b[0mword\u001b[0m\u001b[0;34m,\u001b[0m \u001b[0mindex\u001b[0m \u001b[0;34m=\u001b[0m \u001b[0mlist\u001b[0m\u001b[0;34m(\u001b[0m\u001b[0mtokenizer\u001b[0m\u001b[0;34m.\u001b[0m\u001b[0mword_index\u001b[0m\u001b[0;34m.\u001b[0m\u001b[0mitems\u001b[0m\u001b[0;34m(\u001b[0m\u001b[0;34m)\u001b[0m\u001b[0;34m)\u001b[0m\u001b[0;34m[\u001b[0m\u001b[0mi\u001b[0m\u001b[0;34m]\u001b[0m\u001b[0;34m\u001b[0m\u001b[0;34m\u001b[0m\u001b[0m\n\u001b[0m\u001b[1;32m     37\u001b[0m     \u001b[0;32mif\u001b[0m \u001b[0mindex\u001b[0m \u001b[0;34m>\u001b[0m \u001b[0mmax_features\u001b[0m\u001b[0;34m-\u001b[0m\u001b[0;36m1\u001b[0m\u001b[0;34m:\u001b[0m\u001b[0;34m\u001b[0m\u001b[0;34m\u001b[0m\u001b[0m\n\u001b[1;32m     38\u001b[0m         \u001b[0;32mbreak\u001b[0m\u001b[0;34m\u001b[0m\u001b[0;34m\u001b[0m\u001b[0m\n",
      "\u001b[0;31mKeyboardInterrupt\u001b[0m: "
     ]
    }
   ],
   "source": [
    "# max_features = 16097\n",
    "# maxlen = 260\n",
    "# embedding_dim = 100\n",
    "\n",
    "# X_train = rx_train\n",
    "# y_train = ry_train\n",
    "# X_test = rx_test\n",
    "# y_test = ry_test\n",
    "\n",
    "# print('tokenizing')\n",
    "# tokenizer = text.Tokenizer(num_words=max_features)\n",
    "# tokenizer.fit_on_texts(list(X_train))\n",
    "# X_train = tokenizer.texts_to_sequences(X_train)\n",
    "# X_test = tokenizer.texts_to_sequences(X_test)\n",
    "# # X_test_dev = tokenizer.texts_to_sequences(X_test_dev)\n",
    "# X_train = sequence.pad_sequences(X_train, maxlen=maxlen)\n",
    "# X_test = sequence.pad_sequences(X_test, maxlen=maxlen)\n",
    "# # X_test_dev = sequence.pad_sequences(X_test_dev, maxlen=maxlen)\n",
    "\n",
    "# embeddings_index = dict()\n",
    "\n",
    "# GLOVE_PATH = 'glove.twitter.27B.100d.txt'\n",
    "# print(\"Processing GloVe word embeddings...\")\n",
    "# with open(GLOVE_PATH, 'r') as glove_file:\n",
    "#     for line in glove_file:\n",
    "#         values = line.split()\n",
    "#         word = values[0]\n",
    "#         coefs = np.asarray(values[1:], dtype='float32')\n",
    "#         embeddings_index[word] = coefs\n",
    "\n",
    "# print(\"Found\", len(embeddings_index), \"word vectors!\")\n",
    "\n",
    "# embedding_matrix = np.zeros((max_features, embedding_dim))\n",
    "# print(\"Creating embedding matrix...\")\n",
    "# for i in tqdm(range(len(tokenizer.word_index.items()))):\n",
    "#     word, index = list(tokenizer.word_index.items())[i]\n",
    "#     if index > max_features-1:\n",
    "#         break\n",
    "#     else:\n",
    "#         embedding_vector = embeddings_index.get(word)\n",
    "#         if embedding_vector is not None:\n",
    "#             embedding_matrix[index] = embedding_vector\n",
    "\n",
    "# with open('embedding_matrix_race.npy', 'wb') as f:\n",
    "#     np.save(f, embedding_matrix)"
   ]
  },
  {
   "cell_type": "code",
   "execution_count": 514,
   "id": "bcb5e3f0",
   "metadata": {},
   "outputs": [],
   "source": [
    "def run_race(model, model_name='', batch_size=32, epochs=20):\n",
    "    \n",
    "\n",
    "#     batch_size = 32\n",
    "#     epochs = 20\n",
    "    tf.keras.utils.plot_model(\n",
    "        model, to_file=model_name+'model.png', show_shapes=False, show_dtype=False,\n",
    "        show_layer_names=True, rankdir='TB', expand_nested=False, dpi=96,\n",
    "        layer_range=None, show_layer_activations=False\n",
    "    )\n",
    "\n",
    "    history = model.fit(X_train, y_train, batch_size=batch_size, epochs=epochs, validation_split=0.1)\n",
    "\n",
    "    plt.plot(history.history['loss'], label='train')\n",
    "    plt.plot(history.history['val_loss'], label='validation')\n",
    "    plt.xlabel('Epochs')\n",
    "    plt.ylabel('Loss')\n",
    "    plt.title('Training loss vs. Epochs')\n",
    "    plt.legend()\n",
    "    plt.savefig(model_name + '_loss.png')\n",
    "    plt.show()\n",
    "    plt.close()\n",
    "\n",
    "    plt.plot(history.history['accuracy'], label='train')\n",
    "    plt.plot(history.history['val_accuracy'], label='validation')\n",
    "    plt.xlabel('Epochs')\n",
    "    plt.ylabel('Accuracy')\n",
    "    plt.title('Training accuracy vs. Epochs')\n",
    "    plt.legend()\n",
    "    plt.savefig(model_name + '_accuracy.png')\n",
    "    plt.show()\n",
    "    plt.close()\n",
    "\n",
    "    y_pred = model.predict(X_test, verbose=1, batch_size=batch_size)\n",
    "    y_pred = [0 if y[0] < 0.5 else 1 for y in y_pred]\n",
    "    \n",
    "    print(\"================================================\")\n",
    "\n",
    "    print(\"Accuracy: {:.2f}%\".format(accuracy_score(y_test, y_pred) * 100))\n",
    "    print(\"F1 Score: {:.6f}\".format(f1_score(y_test, y_pred)))\n",
    "\n",
    "    cm = confusion_matrix(y_test, y_pred)\n",
    "    fig = sns.heatmap(cm, annot=True, fmt=\"d\")\n",
    "    plt.title(\"Confusion Matrix\")\n",
    "    plt.xlabel(\"Predicted Label\")\n",
    "    plt.ylabel(\"Actual Label\")\n",
    "    plt.savefig(model_name + \"_cm.png\")\n",
    "    plt.close()\n",
    "\n",
    "    model.save(model_name + '.h5')\n",
    "\n",
    "\n",
    "def run(model, model_name='', batch_size=32, epochs=20):\n",
    "\n",
    "#     batch_size = 32\n",
    "#     epochs = 20\n",
    "    tf.keras.utils.plot_model(\n",
    "        model, to_file=model_name+'model.png', show_shapes=False, show_dtype=False,\n",
    "        show_layer_names=True, rankdir='TB', expand_nested=False, dpi=96,\n",
    "        layer_range=None, show_layer_activations=False\n",
    "    )\n",
    "\n",
    "    history = model.fit(X_train, y_train, batch_size=batch_size, epochs=epochs, validation_split=0.1)\n",
    "\n",
    "    plt.plot(history.history['loss'], label='train')\n",
    "    plt.plot(history.history['val_loss'], label='validation')\n",
    "    plt.xlabel('Epochs')\n",
    "    plt.ylabel('Loss')\n",
    "    plt.title('Training loss vs. Epochs')\n",
    "    plt.legend()\n",
    "    plt.savefig(model_name + '_loss.png')\n",
    "    plt.show()\n",
    "    plt.close()\n",
    "\n",
    "    plt.plot(history.history['accuracy'], label='train')\n",
    "    plt.plot(history.history['val_accuracy'], label='validation')\n",
    "    plt.xlabel('Epochs')\n",
    "    plt.ylabel('Accuracy')\n",
    "    plt.title('Training accuracy vs. Epochs')\n",
    "    plt.legend()\n",
    "    plt.savefig(model_name + '_accuracy.png')\n",
    "    plt.show()\n",
    "    plt.close()\n",
    "\n",
    "\n",
    "    y_pred = model.predict(X_test, verbose=1, batch_size=batch_size)\n",
    "    y_pred = [0 if y[0] < 0.5 else 1 for y in y_pred]\n",
    "    \n",
    "    print(\"================================================\")\n",
    "\n",
    "    print(\"Accuracy: {:.2f}%\".format(accuracy_score(y_test, y_pred) * 100))\n",
    "    print(\"F1 Score: {:.6f}\".format(f1_score(y_test, y_pred)))\n",
    "\n",
    "    cm = confusion_matrix(y_test, y_pred)\n",
    "    fig = sns.heatmap(cm, annot=True, fmt=\"d\")\n",
    "    plt.title(\"Confusion Matrix\")\n",
    "    plt.xlabel(\"Predicted Label\")\n",
    "    plt.ylabel(\"Actual Label\")\n",
    "    plt.savefig(model_name + \"_cm.png\")\n",
    "    plt.close()\n",
    "\n",
    "    model.save(model_name + '.h5')\n",
    "    \n",
    "    # Test on demographic\n",
    "    y_pred_dev = model.predict(X_test_dev)\n",
    "    y_pred_dev = [0 if y[0] < 0.5 else 1 for y in y_pred_dev]\n",
    "    \n",
    "    print(\"Accuracy on mini_dem: {:.2f}%\".format(accuracy_score(y_test_dev, y_pred_dev) * 100))\n",
    "    print(\"F1 Score mini_dem: {:.6f}\".format(f1_score(y_test_dev, y_pred_dev)))\n",
    "\n",
    "    mini_demographic_dev[\"pred_label\"] = [int(i) for i in y_pred_dev]\n",
    "\n",
    "    white_df = mini_demographic_dev[mini_demographic_dev[\"demographic\"] == \"White\"]\n",
    "    hispanic_df = mini_demographic_dev[mini_demographic_dev[\"demographic\"] == \"Hispanic\"]\n",
    "    AA_df = mini_demographic_dev[mini_demographic_dev[\"demographic\"] == \"AA\"]\n",
    "    other_df = mini_demographic_dev[mini_demographic_dev[\"demographic\"] == \"Other\"]\n",
    "\n",
    "    white_fpr = get_fpr(white_df)\n",
    "    hispanic_fpr = get_fpr(hispanic_df)\n",
    "    AA_fpr = get_fpr(AA_df)\n",
    "    other_fpr = get_fpr(other_df)\n",
    "    \n",
    "    print(\"\")\n",
    "    print(\"White FPR:\", white_fpr)\n",
    "    print(\"Hispanic FPR:\", hispanic_fpr)\n",
    "    print(\"AA FPR:\", AA_fpr)\n",
    "    print(\"Other FPR:\", other_fpr)\n",
    "    \n",
    "def get_measure(y_actual, y_pred):\n",
    "    CM = confusion_matrix(1-y_actual, 1-y_pred, labels=[0, 1])\n",
    "\n",
    "    TN = CM[0][0]\n",
    "    FN = CM[1][0]\n",
    "    TP = CM[1][1]\n",
    "    FP = CM[0][1]\n",
    "\n",
    "    return (TP, FP, TN, FN)\n",
    "\n",
    "def get_fpr(df):\n",
    "    TP, FP, TN, FN = get_measure(df[\"bin_label\"].values, df[\"pred_label\"].values)\n",
    "    return FP/(FP+TN)\n",
    "\n",
    "def get_fpr_(y_actual, y_pred):\n",
    "    TP, FP, TN, FN = get_measure(y_actual, y_pred)\n",
    "    return FP/(FP+TN)"
   ]
  },
  {
   "cell_type": "code",
   "execution_count": 511,
   "id": "52131103",
   "metadata": {},
   "outputs": [],
   "source": [
    "def shallow_model():\n",
    "    embedded = keras.layers.Embedding(max_features, embedding_dim)\n",
    "    # embedded = keras.layers.Embedding(max_features+1, 300, weights=[embedding_matrix], trainable=False)\n",
    "    # Accuracy: 75.23%\n",
    "    # F1 Score: 0.826271\n",
    "    model = keras.Sequential([\n",
    "      embedded,\n",
    "      keras.layers.GlobalAveragePooling1D(),\n",
    "      keras.layers.Dense(16, activation='relu'),\n",
    "      keras.layers.Dense(1, activation='sigmoid')])\n",
    "\n",
    "    model.compile(optimizer='adam',\n",
    "              loss=tf.losses.BinaryCrossentropy(from_logits=True),\n",
    "              metrics=['accuracy'])\n",
    "    print(model.summary())\n",
    "\n",
    "    return model"
   ]
  },
  {
   "cell_type": "code",
   "execution_count": 440,
   "id": "2ea5539c",
   "metadata": {},
   "outputs": [
    {
     "name": "stdout",
     "output_type": "stream",
     "text": [
      "Model: \"sequential_39\"\n",
      "_________________________________________________________________\n",
      " Layer (type)                Output Shape              Param #   \n",
      "=================================================================\n",
      " embedding_39 (Embedding)    (None, None, 100)         1609700   \n",
      "                                                                 \n",
      " global_average_pooling1d_27  (None, 100)              0         \n",
      "  (GlobalAveragePooling1D)                                       \n",
      "                                                                 \n",
      " dense_78 (Dense)            (None, 16)                1616      \n",
      "                                                                 \n",
      " dense_79 (Dense)            (None, 1)                 17        \n",
      "                                                                 \n",
      "=================================================================\n",
      "Total params: 1,611,333\n",
      "Trainable params: 1,611,333\n",
      "Non-trainable params: 0\n",
      "_________________________________________________________________\n",
      "None\n",
      "Epoch 1/50\n",
      " 2048/26107 [=>............................] - ETA: 4:53 - loss: -1850.5399 - accuracy: 0.1791"
     ]
    },
    {
     "ename": "KeyboardInterrupt",
     "evalue": "",
     "output_type": "error",
     "traceback": [
      "\u001b[0;31m---------------------------------------------------------------------------\u001b[0m",
      "\u001b[0;31mKeyboardInterrupt\u001b[0m                         Traceback (most recent call last)",
      "\u001b[0;32m<ipython-input-440-a6c82fa25609>\u001b[0m in \u001b[0;36m<module>\u001b[0;34m\u001b[0m\n\u001b[0;32m----> 1\u001b[0;31m \u001b[0mrun_race\u001b[0m\u001b[0;34m(\u001b[0m\u001b[0mshallow_model\u001b[0m\u001b[0;34m(\u001b[0m\u001b[0;34m)\u001b[0m\u001b[0;34m,\u001b[0m \u001b[0;34m'shallow_model_race'\u001b[0m\u001b[0;34m,\u001b[0m \u001b[0mepochs\u001b[0m\u001b[0;34m=\u001b[0m\u001b[0;36m50\u001b[0m\u001b[0;34m)\u001b[0m\u001b[0;34m\u001b[0m\u001b[0;34m\u001b[0m\u001b[0m\n\u001b[0m",
      "\u001b[0;32m<ipython-input-438-b36638f308f3>\u001b[0m in \u001b[0;36mrun_race\u001b[0;34m(model, model_name, batch_size, epochs)\u001b[0m\n\u001b[1;32m     10\u001b[0m     )\n\u001b[1;32m     11\u001b[0m \u001b[0;34m\u001b[0m\u001b[0m\n\u001b[0;32m---> 12\u001b[0;31m     \u001b[0mhistory\u001b[0m \u001b[0;34m=\u001b[0m \u001b[0mmodel\u001b[0m\u001b[0;34m.\u001b[0m\u001b[0mfit\u001b[0m\u001b[0;34m(\u001b[0m\u001b[0mX_train\u001b[0m\u001b[0;34m,\u001b[0m \u001b[0my_train\u001b[0m\u001b[0;34m,\u001b[0m \u001b[0mbatch_size\u001b[0m\u001b[0;34m=\u001b[0m\u001b[0mbatch_size\u001b[0m\u001b[0;34m,\u001b[0m \u001b[0mepochs\u001b[0m\u001b[0;34m=\u001b[0m\u001b[0mepochs\u001b[0m\u001b[0;34m,\u001b[0m \u001b[0mvalidation_split\u001b[0m\u001b[0;34m=\u001b[0m\u001b[0;36m0.1\u001b[0m\u001b[0;34m)\u001b[0m\u001b[0;34m\u001b[0m\u001b[0;34m\u001b[0m\u001b[0m\n\u001b[0m\u001b[1;32m     13\u001b[0m \u001b[0;34m\u001b[0m\u001b[0m\n\u001b[1;32m     14\u001b[0m     \u001b[0mplt\u001b[0m\u001b[0;34m.\u001b[0m\u001b[0mplot\u001b[0m\u001b[0;34m(\u001b[0m\u001b[0mhistory\u001b[0m\u001b[0;34m.\u001b[0m\u001b[0mhistory\u001b[0m\u001b[0;34m[\u001b[0m\u001b[0;34m'loss'\u001b[0m\u001b[0;34m]\u001b[0m\u001b[0;34m,\u001b[0m \u001b[0mlabel\u001b[0m\u001b[0;34m=\u001b[0m\u001b[0;34m'train'\u001b[0m\u001b[0;34m)\u001b[0m\u001b[0;34m\u001b[0m\u001b[0;34m\u001b[0m\u001b[0m\n",
      "\u001b[0;32m/Library/Frameworks/Python.framework/Versions/3.8/lib/python3.8/site-packages/keras/utils/traceback_utils.py\u001b[0m in \u001b[0;36merror_handler\u001b[0;34m(*args, **kwargs)\u001b[0m\n\u001b[1;32m     62\u001b[0m     \u001b[0mfiltered_tb\u001b[0m \u001b[0;34m=\u001b[0m \u001b[0;32mNone\u001b[0m\u001b[0;34m\u001b[0m\u001b[0;34m\u001b[0m\u001b[0m\n\u001b[1;32m     63\u001b[0m     \u001b[0;32mtry\u001b[0m\u001b[0;34m:\u001b[0m\u001b[0;34m\u001b[0m\u001b[0;34m\u001b[0m\u001b[0m\n\u001b[0;32m---> 64\u001b[0;31m       \u001b[0;32mreturn\u001b[0m \u001b[0mfn\u001b[0m\u001b[0;34m(\u001b[0m\u001b[0;34m*\u001b[0m\u001b[0margs\u001b[0m\u001b[0;34m,\u001b[0m \u001b[0;34m**\u001b[0m\u001b[0mkwargs\u001b[0m\u001b[0;34m)\u001b[0m\u001b[0;34m\u001b[0m\u001b[0;34m\u001b[0m\u001b[0m\n\u001b[0m\u001b[1;32m     65\u001b[0m     \u001b[0;32mexcept\u001b[0m \u001b[0mException\u001b[0m \u001b[0;32mas\u001b[0m \u001b[0me\u001b[0m\u001b[0;34m:\u001b[0m  \u001b[0;31m# pylint: disable=broad-except\u001b[0m\u001b[0;34m\u001b[0m\u001b[0;34m\u001b[0m\u001b[0m\n\u001b[1;32m     66\u001b[0m       \u001b[0mfiltered_tb\u001b[0m \u001b[0;34m=\u001b[0m \u001b[0m_process_traceback_frames\u001b[0m\u001b[0;34m(\u001b[0m\u001b[0me\u001b[0m\u001b[0;34m.\u001b[0m\u001b[0m__traceback__\u001b[0m\u001b[0;34m)\u001b[0m\u001b[0;34m\u001b[0m\u001b[0;34m\u001b[0m\u001b[0m\n",
      "\u001b[0;32m/Library/Frameworks/Python.framework/Versions/3.8/lib/python3.8/site-packages/keras/engine/training.py\u001b[0m in \u001b[0;36mfit\u001b[0;34m(self, x, y, batch_size, epochs, verbose, callbacks, validation_split, validation_data, shuffle, class_weight, sample_weight, initial_epoch, steps_per_epoch, validation_steps, validation_batch_size, validation_freq, max_queue_size, workers, use_multiprocessing)\u001b[0m\n\u001b[1;32m   1382\u001b[0m                 _r=1):\n\u001b[1;32m   1383\u001b[0m               \u001b[0mcallbacks\u001b[0m\u001b[0;34m.\u001b[0m\u001b[0mon_train_batch_begin\u001b[0m\u001b[0;34m(\u001b[0m\u001b[0mstep\u001b[0m\u001b[0;34m)\u001b[0m\u001b[0;34m\u001b[0m\u001b[0;34m\u001b[0m\u001b[0m\n\u001b[0;32m-> 1384\u001b[0;31m               \u001b[0mtmp_logs\u001b[0m \u001b[0;34m=\u001b[0m \u001b[0mself\u001b[0m\u001b[0;34m.\u001b[0m\u001b[0mtrain_function\u001b[0m\u001b[0;34m(\u001b[0m\u001b[0miterator\u001b[0m\u001b[0;34m)\u001b[0m\u001b[0;34m\u001b[0m\u001b[0;34m\u001b[0m\u001b[0m\n\u001b[0m\u001b[1;32m   1385\u001b[0m               \u001b[0;32mif\u001b[0m \u001b[0mdata_handler\u001b[0m\u001b[0;34m.\u001b[0m\u001b[0mshould_sync\u001b[0m\u001b[0;34m:\u001b[0m\u001b[0;34m\u001b[0m\u001b[0;34m\u001b[0m\u001b[0m\n\u001b[1;32m   1386\u001b[0m                 \u001b[0mcontext\u001b[0m\u001b[0;34m.\u001b[0m\u001b[0masync_wait\u001b[0m\u001b[0;34m(\u001b[0m\u001b[0;34m)\u001b[0m\u001b[0;34m\u001b[0m\u001b[0;34m\u001b[0m\u001b[0m\n",
      "\u001b[0;32m/Library/Frameworks/Python.framework/Versions/3.8/lib/python3.8/site-packages/tensorflow/python/util/traceback_utils.py\u001b[0m in \u001b[0;36merror_handler\u001b[0;34m(*args, **kwargs)\u001b[0m\n\u001b[1;32m    148\u001b[0m     \u001b[0mfiltered_tb\u001b[0m \u001b[0;34m=\u001b[0m \u001b[0;32mNone\u001b[0m\u001b[0;34m\u001b[0m\u001b[0;34m\u001b[0m\u001b[0m\n\u001b[1;32m    149\u001b[0m     \u001b[0;32mtry\u001b[0m\u001b[0;34m:\u001b[0m\u001b[0;34m\u001b[0m\u001b[0;34m\u001b[0m\u001b[0m\n\u001b[0;32m--> 150\u001b[0;31m       \u001b[0;32mreturn\u001b[0m \u001b[0mfn\u001b[0m\u001b[0;34m(\u001b[0m\u001b[0;34m*\u001b[0m\u001b[0margs\u001b[0m\u001b[0;34m,\u001b[0m \u001b[0;34m**\u001b[0m\u001b[0mkwargs\u001b[0m\u001b[0;34m)\u001b[0m\u001b[0;34m\u001b[0m\u001b[0;34m\u001b[0m\u001b[0m\n\u001b[0m\u001b[1;32m    151\u001b[0m     \u001b[0;32mexcept\u001b[0m \u001b[0mException\u001b[0m \u001b[0;32mas\u001b[0m \u001b[0me\u001b[0m\u001b[0;34m:\u001b[0m\u001b[0;34m\u001b[0m\u001b[0;34m\u001b[0m\u001b[0m\n\u001b[1;32m    152\u001b[0m       \u001b[0mfiltered_tb\u001b[0m \u001b[0;34m=\u001b[0m \u001b[0m_process_traceback_frames\u001b[0m\u001b[0;34m(\u001b[0m\u001b[0me\u001b[0m\u001b[0;34m.\u001b[0m\u001b[0m__traceback__\u001b[0m\u001b[0;34m)\u001b[0m\u001b[0;34m\u001b[0m\u001b[0;34m\u001b[0m\u001b[0m\n",
      "\u001b[0;32m/Library/Frameworks/Python.framework/Versions/3.8/lib/python3.8/site-packages/tensorflow/python/eager/def_function.py\u001b[0m in \u001b[0;36m__call__\u001b[0;34m(self, *args, **kwds)\u001b[0m\n\u001b[1;32m    913\u001b[0m \u001b[0;34m\u001b[0m\u001b[0m\n\u001b[1;32m    914\u001b[0m       \u001b[0;32mwith\u001b[0m \u001b[0mOptionalXlaContext\u001b[0m\u001b[0;34m(\u001b[0m\u001b[0mself\u001b[0m\u001b[0;34m.\u001b[0m\u001b[0m_jit_compile\u001b[0m\u001b[0;34m)\u001b[0m\u001b[0;34m:\u001b[0m\u001b[0;34m\u001b[0m\u001b[0;34m\u001b[0m\u001b[0m\n\u001b[0;32m--> 915\u001b[0;31m         \u001b[0mresult\u001b[0m \u001b[0;34m=\u001b[0m \u001b[0mself\u001b[0m\u001b[0;34m.\u001b[0m\u001b[0m_call\u001b[0m\u001b[0;34m(\u001b[0m\u001b[0;34m*\u001b[0m\u001b[0margs\u001b[0m\u001b[0;34m,\u001b[0m \u001b[0;34m**\u001b[0m\u001b[0mkwds\u001b[0m\u001b[0;34m)\u001b[0m\u001b[0;34m\u001b[0m\u001b[0;34m\u001b[0m\u001b[0m\n\u001b[0m\u001b[1;32m    916\u001b[0m \u001b[0;34m\u001b[0m\u001b[0m\n\u001b[1;32m    917\u001b[0m       \u001b[0mnew_tracing_count\u001b[0m \u001b[0;34m=\u001b[0m \u001b[0mself\u001b[0m\u001b[0;34m.\u001b[0m\u001b[0mexperimental_get_tracing_count\u001b[0m\u001b[0;34m(\u001b[0m\u001b[0;34m)\u001b[0m\u001b[0;34m\u001b[0m\u001b[0;34m\u001b[0m\u001b[0m\n",
      "\u001b[0;32m/Library/Frameworks/Python.framework/Versions/3.8/lib/python3.8/site-packages/tensorflow/python/eager/def_function.py\u001b[0m in \u001b[0;36m_call\u001b[0;34m(self, *args, **kwds)\u001b[0m\n\u001b[1;32m    945\u001b[0m       \u001b[0;31m# In this case we have created variables on the first call, so we run the\u001b[0m\u001b[0;34m\u001b[0m\u001b[0;34m\u001b[0m\u001b[0;34m\u001b[0m\u001b[0m\n\u001b[1;32m    946\u001b[0m       \u001b[0;31m# defunned version which is guaranteed to never create variables.\u001b[0m\u001b[0;34m\u001b[0m\u001b[0;34m\u001b[0m\u001b[0;34m\u001b[0m\u001b[0m\n\u001b[0;32m--> 947\u001b[0;31m       \u001b[0;32mreturn\u001b[0m \u001b[0mself\u001b[0m\u001b[0;34m.\u001b[0m\u001b[0m_stateless_fn\u001b[0m\u001b[0;34m(\u001b[0m\u001b[0;34m*\u001b[0m\u001b[0margs\u001b[0m\u001b[0;34m,\u001b[0m \u001b[0;34m**\u001b[0m\u001b[0mkwds\u001b[0m\u001b[0;34m)\u001b[0m  \u001b[0;31m# pylint: disable=not-callable\u001b[0m\u001b[0;34m\u001b[0m\u001b[0;34m\u001b[0m\u001b[0m\n\u001b[0m\u001b[1;32m    948\u001b[0m     \u001b[0;32melif\u001b[0m \u001b[0mself\u001b[0m\u001b[0;34m.\u001b[0m\u001b[0m_stateful_fn\u001b[0m \u001b[0;32mis\u001b[0m \u001b[0;32mnot\u001b[0m \u001b[0;32mNone\u001b[0m\u001b[0;34m:\u001b[0m\u001b[0;34m\u001b[0m\u001b[0;34m\u001b[0m\u001b[0m\n\u001b[1;32m    949\u001b[0m       \u001b[0;31m# Release the lock early so that multiple threads can perform the call\u001b[0m\u001b[0;34m\u001b[0m\u001b[0;34m\u001b[0m\u001b[0;34m\u001b[0m\u001b[0m\n",
      "\u001b[0;32m/Library/Frameworks/Python.framework/Versions/3.8/lib/python3.8/site-packages/tensorflow/python/eager/function.py\u001b[0m in \u001b[0;36m__call__\u001b[0;34m(self, *args, **kwargs)\u001b[0m\n\u001b[1;32m   2954\u001b[0m       (graph_function,\n\u001b[1;32m   2955\u001b[0m        filtered_flat_args) = self._maybe_define_function(args, kwargs)\n\u001b[0;32m-> 2956\u001b[0;31m     return graph_function._call_flat(\n\u001b[0m\u001b[1;32m   2957\u001b[0m         filtered_flat_args, captured_inputs=graph_function.captured_inputs)  # pylint: disable=protected-access\n\u001b[1;32m   2958\u001b[0m \u001b[0;34m\u001b[0m\u001b[0m\n",
      "\u001b[0;32m/Library/Frameworks/Python.framework/Versions/3.8/lib/python3.8/site-packages/tensorflow/python/eager/function.py\u001b[0m in \u001b[0;36m_call_flat\u001b[0;34m(self, args, captured_inputs, cancellation_manager)\u001b[0m\n\u001b[1;32m   1851\u001b[0m         and executing_eagerly):\n\u001b[1;32m   1852\u001b[0m       \u001b[0;31m# No tape is watching; skip to running the function.\u001b[0m\u001b[0;34m\u001b[0m\u001b[0;34m\u001b[0m\u001b[0;34m\u001b[0m\u001b[0m\n\u001b[0;32m-> 1853\u001b[0;31m       return self._build_call_outputs(self._inference_function.call(\n\u001b[0m\u001b[1;32m   1854\u001b[0m           ctx, args, cancellation_manager=cancellation_manager))\n\u001b[1;32m   1855\u001b[0m     forward_backward = self._select_forward_and_backward_functions(\n",
      "\u001b[0;32m/Library/Frameworks/Python.framework/Versions/3.8/lib/python3.8/site-packages/tensorflow/python/eager/function.py\u001b[0m in \u001b[0;36mcall\u001b[0;34m(self, ctx, args, cancellation_manager)\u001b[0m\n\u001b[1;32m    497\u001b[0m       \u001b[0;32mwith\u001b[0m \u001b[0m_InterpolateFunctionError\u001b[0m\u001b[0;34m(\u001b[0m\u001b[0mself\u001b[0m\u001b[0;34m)\u001b[0m\u001b[0;34m:\u001b[0m\u001b[0;34m\u001b[0m\u001b[0;34m\u001b[0m\u001b[0m\n\u001b[1;32m    498\u001b[0m         \u001b[0;32mif\u001b[0m \u001b[0mcancellation_manager\u001b[0m \u001b[0;32mis\u001b[0m \u001b[0;32mNone\u001b[0m\u001b[0;34m:\u001b[0m\u001b[0;34m\u001b[0m\u001b[0;34m\u001b[0m\u001b[0m\n\u001b[0;32m--> 499\u001b[0;31m           outputs = execute.execute(\n\u001b[0m\u001b[1;32m    500\u001b[0m               \u001b[0mstr\u001b[0m\u001b[0;34m(\u001b[0m\u001b[0mself\u001b[0m\u001b[0;34m.\u001b[0m\u001b[0msignature\u001b[0m\u001b[0;34m.\u001b[0m\u001b[0mname\u001b[0m\u001b[0;34m)\u001b[0m\u001b[0;34m,\u001b[0m\u001b[0;34m\u001b[0m\u001b[0;34m\u001b[0m\u001b[0m\n\u001b[1;32m    501\u001b[0m               \u001b[0mnum_outputs\u001b[0m\u001b[0;34m=\u001b[0m\u001b[0mself\u001b[0m\u001b[0;34m.\u001b[0m\u001b[0m_num_outputs\u001b[0m\u001b[0;34m,\u001b[0m\u001b[0;34m\u001b[0m\u001b[0;34m\u001b[0m\u001b[0m\n",
      "\u001b[0;32m/Library/Frameworks/Python.framework/Versions/3.8/lib/python3.8/site-packages/tensorflow/python/eager/execute.py\u001b[0m in \u001b[0;36mquick_execute\u001b[0;34m(op_name, num_outputs, inputs, attrs, ctx, name)\u001b[0m\n\u001b[1;32m     52\u001b[0m   \u001b[0;32mtry\u001b[0m\u001b[0;34m:\u001b[0m\u001b[0;34m\u001b[0m\u001b[0;34m\u001b[0m\u001b[0m\n\u001b[1;32m     53\u001b[0m     \u001b[0mctx\u001b[0m\u001b[0;34m.\u001b[0m\u001b[0mensure_initialized\u001b[0m\u001b[0;34m(\u001b[0m\u001b[0;34m)\u001b[0m\u001b[0;34m\u001b[0m\u001b[0;34m\u001b[0m\u001b[0m\n\u001b[0;32m---> 54\u001b[0;31m     tensors = pywrap_tfe.TFE_Py_Execute(ctx._handle, device_name, op_name,\n\u001b[0m\u001b[1;32m     55\u001b[0m                                         inputs, attrs, num_outputs)\n\u001b[1;32m     56\u001b[0m   \u001b[0;32mexcept\u001b[0m \u001b[0mcore\u001b[0m\u001b[0;34m.\u001b[0m\u001b[0m_NotOkStatusException\u001b[0m \u001b[0;32mas\u001b[0m \u001b[0me\u001b[0m\u001b[0;34m:\u001b[0m\u001b[0;34m\u001b[0m\u001b[0;34m\u001b[0m\u001b[0m\n",
      "\u001b[0;31mKeyboardInterrupt\u001b[0m: "
     ]
    }
   ],
   "source": [
    "run_race(shallow_model(), 'shallow_model_race', epochs=50)"
   ]
  },
  {
   "cell_type": "code",
   "execution_count": null,
   "id": "c994aeb0",
   "metadata": {},
   "outputs": [],
   "source": []
  },
  {
   "cell_type": "code",
   "execution_count": 441,
   "id": "52dd1e81",
   "metadata": {},
   "outputs": [
    {
     "data": {
      "text/plain": [
       "275"
      ]
     },
     "execution_count": 441,
     "metadata": {},
     "output_type": "execute_result"
    }
   ],
   "source": [
    "max([len(x) for x in rx_test])"
   ]
  },
  {
   "cell_type": "code",
   "execution_count": 442,
   "id": "3066a3d4",
   "metadata": {},
   "outputs": [
    {
     "name": "stderr",
     "output_type": "stream",
     "text": [
      "100%|██████████| 10592/10592 [00:12<00:00, 877.16it/s]\n"
     ]
    }
   ],
   "source": [
    "X_train = preprocessing(train[\"text\"].values)\n",
    "y_train = np.array([0.0 if l==\"OFF\" else 1.0 for l in train[\"label\"]])\n",
    "\n",
    "train = pd.DataFrame()\n",
    "train['text'] = X_train\n",
    "train['label'] = y_train"
   ]
  },
  {
   "cell_type": "code",
   "execution_count": 443,
   "id": "5b81565b",
   "metadata": {},
   "outputs": [
    {
     "name": "stderr",
     "output_type": "stream",
     "text": [
      "100%|██████████| 10592/10592 [00:05<00:00, 1766.82it/s]\n"
     ]
    },
    {
     "data": {
      "text/html": [
       "<div>\n",
       "<style scoped>\n",
       "    .dataframe tbody tr th:only-of-type {\n",
       "        vertical-align: middle;\n",
       "    }\n",
       "\n",
       "    .dataframe tbody tr th {\n",
       "        vertical-align: top;\n",
       "    }\n",
       "\n",
       "    .dataframe thead th {\n",
       "        text-align: right;\n",
       "    }\n",
       "</style>\n",
       "<table border=\"1\" class=\"dataframe\">\n",
       "  <thead>\n",
       "    <tr style=\"text-align: right;\">\n",
       "      <th></th>\n",
       "      <th>text</th>\n",
       "      <th>label</th>\n",
       "      <th>len</th>\n",
       "    </tr>\n",
       "  </thead>\n",
       "  <tbody>\n",
       "    <tr>\n",
       "      <th>1</th>\n",
       "      <td>seems hard believe stood next guy wearing shor...</td>\n",
       "      <td>0.0</td>\n",
       "      <td>12</td>\n",
       "    </tr>\n",
       "    <tr>\n",
       "      <th>2</th>\n",
       "      <td>wow wonder liberals got worse party bullies wo...</td>\n",
       "      <td>0.0</td>\n",
       "      <td>9</td>\n",
       "    </tr>\n",
       "    <tr>\n",
       "      <th>3</th>\n",
       "      <td>not idiots grandstands like</td>\n",
       "      <td>0.0</td>\n",
       "      <td>4</td>\n",
       "    </tr>\n",
       "    <tr>\n",
       "      <th>4</th>\n",
       "      <td>bring hypocrite gungrabber maga</td>\n",
       "      <td>0.0</td>\n",
       "      <td>4</td>\n",
       "    </tr>\n",
       "    <tr>\n",
       "      <th>6</th>\n",
       "      <td>thing agree match point following rules think ...</td>\n",
       "      <td>0.0</td>\n",
       "      <td>14</td>\n",
       "    </tr>\n",
       "    <tr>\n",
       "      <th>...</th>\n",
       "      <td>...</td>\n",
       "      <td>...</td>\n",
       "      <td>...</td>\n",
       "    </tr>\n",
       "    <tr>\n",
       "      <th>10586</th>\n",
       "      <td>retweet complete followed patriots</td>\n",
       "      <td>1.0</td>\n",
       "      <td>4</td>\n",
       "    </tr>\n",
       "    <tr>\n",
       "      <th>10587</th>\n",
       "      <td>sometimes get strong vibes people man vibe ten...</td>\n",
       "      <td>0.0</td>\n",
       "      <td>11</td>\n",
       "    </tr>\n",
       "    <tr>\n",
       "      <th>10588</th>\n",
       "      <td>benidorm creamfields maga not shabby summer</td>\n",
       "      <td>1.0</td>\n",
       "      <td>6</td>\n",
       "    </tr>\n",
       "    <tr>\n",
       "      <th>10589</th>\n",
       "      <td>report garbage not give crap</td>\n",
       "      <td>0.0</td>\n",
       "      <td>5</td>\n",
       "    </tr>\n",
       "    <tr>\n",
       "      <th>10591</th>\n",
       "      <td>spanishrevenge justice human rights freedom ex...</td>\n",
       "      <td>1.0</td>\n",
       "      <td>14</td>\n",
       "    </tr>\n",
       "  </tbody>\n",
       "</table>\n",
       "<p>9303 rows × 3 columns</p>\n",
       "</div>"
      ],
      "text/plain": [
       "                                                    text  label  len\n",
       "1      seems hard believe stood next guy wearing shor...    0.0   12\n",
       "2      wow wonder liberals got worse party bullies wo...    0.0    9\n",
       "3                            not idiots grandstands like    0.0    4\n",
       "4                        bring hypocrite gungrabber maga    0.0    4\n",
       "6      thing agree match point following rules think ...    0.0   14\n",
       "...                                                  ...    ...  ...\n",
       "10586                 retweet complete followed patriots    1.0    4\n",
       "10587  sometimes get strong vibes people man vibe ten...    0.0   11\n",
       "10588        benidorm creamfields maga not shabby summer    1.0    6\n",
       "10589                       report garbage not give crap    0.0    5\n",
       "10591  spanishrevenge justice human rights freedom ex...    1.0   14\n",
       "\n",
       "[9303 rows x 3 columns]"
      ]
     },
     "execution_count": 443,
     "metadata": {},
     "output_type": "execute_result"
    }
   ],
   "source": [
    "train['text'] = preprocessing(train.text.values)\n",
    "train['len'] = [len(x.split(' ')) for x in train.text.values]\n",
    "train = train[train['len'] > 2]\n",
    "\n",
    "train"
   ]
  },
  {
   "cell_type": "code",
   "execution_count": 444,
   "id": "b9340170",
   "metadata": {},
   "outputs": [],
   "source": [
    "probs = logr.predict_proba(train['text'])\n",
    "train['probs'] = [prob for prob in probs]"
   ]
  },
  {
   "cell_type": "code",
   "execution_count": 445,
   "id": "d12ab2bd",
   "metadata": {},
   "outputs": [
    {
     "data": {
      "text/html": [
       "<div>\n",
       "<style scoped>\n",
       "    .dataframe tbody tr th:only-of-type {\n",
       "        vertical-align: middle;\n",
       "    }\n",
       "\n",
       "    .dataframe tbody tr th {\n",
       "        vertical-align: top;\n",
       "    }\n",
       "\n",
       "    .dataframe thead th {\n",
       "        text-align: right;\n",
       "    }\n",
       "</style>\n",
       "<table border=\"1\" class=\"dataframe\">\n",
       "  <thead>\n",
       "    <tr style=\"text-align: right;\">\n",
       "      <th></th>\n",
       "      <th>text</th>\n",
       "      <th>label</th>\n",
       "      <th>len</th>\n",
       "      <th>probs</th>\n",
       "    </tr>\n",
       "  </thead>\n",
       "  <tbody>\n",
       "    <tr>\n",
       "      <th>1</th>\n",
       "      <td>seems hard believe stood next guy wearing shor...</td>\n",
       "      <td>0.0</td>\n",
       "      <td>12</td>\n",
       "      <td>[0.0712686067237616, 0.32430757615070627, 0.00...</td>\n",
       "    </tr>\n",
       "    <tr>\n",
       "      <th>2</th>\n",
       "      <td>wow wonder liberals got worse party bullies wo...</td>\n",
       "      <td>0.0</td>\n",
       "      <td>9</td>\n",
       "      <td>[0.211551039996638, 0.19189610357427925, 0.006...</td>\n",
       "    </tr>\n",
       "    <tr>\n",
       "      <th>3</th>\n",
       "      <td>not idiots grandstands like</td>\n",
       "      <td>0.0</td>\n",
       "      <td>4</td>\n",
       "      <td>[0.04095586239507361, 0.5096916841582952, 0.00...</td>\n",
       "    </tr>\n",
       "    <tr>\n",
       "      <th>4</th>\n",
       "      <td>bring hypocrite gungrabber maga</td>\n",
       "      <td>0.0</td>\n",
       "      <td>4</td>\n",
       "      <td>[0.08910305280808187, 0.3616511737120119, 0.10...</td>\n",
       "    </tr>\n",
       "    <tr>\n",
       "      <th>6</th>\n",
       "      <td>thing agree match point following rules think ...</td>\n",
       "      <td>0.0</td>\n",
       "      <td>14</td>\n",
       "      <td>[0.2425095571747166, 0.2587174160725592, 0.000...</td>\n",
       "    </tr>\n",
       "    <tr>\n",
       "      <th>...</th>\n",
       "      <td>...</td>\n",
       "      <td>...</td>\n",
       "      <td>...</td>\n",
       "      <td>...</td>\n",
       "    </tr>\n",
       "    <tr>\n",
       "      <th>10586</th>\n",
       "      <td>retweet complete followed patriots</td>\n",
       "      <td>1.0</td>\n",
       "      <td>4</td>\n",
       "      <td>[0.1344428629732509, 0.1492685201785934, 0.031...</td>\n",
       "    </tr>\n",
       "    <tr>\n",
       "      <th>10587</th>\n",
       "      <td>sometimes get strong vibes people man vibe ten...</td>\n",
       "      <td>0.0</td>\n",
       "      <td>11</td>\n",
       "      <td>[0.11521956770918694, 0.3824784810648912, 0.00...</td>\n",
       "    </tr>\n",
       "    <tr>\n",
       "      <th>10588</th>\n",
       "      <td>benidorm creamfields maga not shabby summer</td>\n",
       "      <td>1.0</td>\n",
       "      <td>6</td>\n",
       "      <td>[0.10734921802261195, 0.1776701610733089, 0.13...</td>\n",
       "    </tr>\n",
       "    <tr>\n",
       "      <th>10589</th>\n",
       "      <td>report garbage not give crap</td>\n",
       "      <td>0.0</td>\n",
       "      <td>5</td>\n",
       "      <td>[0.022548604945529765, 0.2297323274426076, 0.0...</td>\n",
       "    </tr>\n",
       "    <tr>\n",
       "      <th>10591</th>\n",
       "      <td>spanishrevenge justice human rights freedom ex...</td>\n",
       "      <td>1.0</td>\n",
       "      <td>14</td>\n",
       "      <td>[0.06862685632231404, 0.336728947494953, 0.068...</td>\n",
       "    </tr>\n",
       "  </tbody>\n",
       "</table>\n",
       "<p>9303 rows × 4 columns</p>\n",
       "</div>"
      ],
      "text/plain": [
       "                                                    text  label  len  \\\n",
       "1      seems hard believe stood next guy wearing shor...    0.0   12   \n",
       "2      wow wonder liberals got worse party bullies wo...    0.0    9   \n",
       "3                            not idiots grandstands like    0.0    4   \n",
       "4                        bring hypocrite gungrabber maga    0.0    4   \n",
       "6      thing agree match point following rules think ...    0.0   14   \n",
       "...                                                  ...    ...  ...   \n",
       "10586                 retweet complete followed patriots    1.0    4   \n",
       "10587  sometimes get strong vibes people man vibe ten...    0.0   11   \n",
       "10588        benidorm creamfields maga not shabby summer    1.0    6   \n",
       "10589                       report garbage not give crap    0.0    5   \n",
       "10591  spanishrevenge justice human rights freedom ex...    1.0   14   \n",
       "\n",
       "                                                   probs  \n",
       "1      [0.0712686067237616, 0.32430757615070627, 0.00...  \n",
       "2      [0.211551039996638, 0.19189610357427925, 0.006...  \n",
       "3      [0.04095586239507361, 0.5096916841582952, 0.00...  \n",
       "4      [0.08910305280808187, 0.3616511737120119, 0.10...  \n",
       "6      [0.2425095571747166, 0.2587174160725592, 0.000...  \n",
       "...                                                  ...  \n",
       "10586  [0.1344428629732509, 0.1492685201785934, 0.031...  \n",
       "10587  [0.11521956770918694, 0.3824784810648912, 0.00...  \n",
       "10588  [0.10734921802261195, 0.1776701610733089, 0.13...  \n",
       "10589  [0.022548604945529765, 0.2297323274426076, 0.0...  \n",
       "10591  [0.06862685632231404, 0.336728947494953, 0.068...  \n",
       "\n",
       "[9303 rows x 4 columns]"
      ]
     },
     "execution_count": 445,
     "metadata": {},
     "output_type": "execute_result"
    }
   ],
   "source": [
    "train"
   ]
  },
  {
   "cell_type": "code",
   "execution_count": 446,
   "id": "486788e9",
   "metadata": {},
   "outputs": [],
   "source": [
    "uniform = [0.25, 0.25, 0.25, 0.25]"
   ]
  },
  {
   "cell_type": "code",
   "execution_count": 447,
   "id": "5dd616c6",
   "metadata": {},
   "outputs": [],
   "source": [
    "uniform = [0.25, 0.25, 0.25, 0.25]\n",
    "dist = lambda x: np.sqrt(np.sum(np.square(x - uniform)))"
   ]
  },
  {
   "cell_type": "code",
   "execution_count": 448,
   "id": "4a0e0576",
   "metadata": {},
   "outputs": [
    {
     "data": {
      "text/plain": [
       "0.4747797420954194"
      ]
     },
     "execution_count": 448,
     "metadata": {},
     "output_type": "execute_result"
    }
   ],
   "source": [
    "dist(train['probs'].values[0])"
   ]
  },
  {
   "cell_type": "code",
   "execution_count": 449,
   "id": "7e022a70",
   "metadata": {},
   "outputs": [],
   "source": [
    "train['dist'] = train['probs'].apply(dist)"
   ]
  },
  {
   "cell_type": "code",
   "execution_count": 450,
   "id": "196d6c0f",
   "metadata": {},
   "outputs": [
    {
     "data": {
      "text/html": [
       "<div>\n",
       "<style scoped>\n",
       "    .dataframe tbody tr th:only-of-type {\n",
       "        vertical-align: middle;\n",
       "    }\n",
       "\n",
       "    .dataframe tbody tr th {\n",
       "        vertical-align: top;\n",
       "    }\n",
       "\n",
       "    .dataframe thead th {\n",
       "        text-align: right;\n",
       "    }\n",
       "</style>\n",
       "<table border=\"1\" class=\"dataframe\">\n",
       "  <thead>\n",
       "    <tr style=\"text-align: right;\">\n",
       "      <th></th>\n",
       "      <th>label</th>\n",
       "      <th>len</th>\n",
       "      <th>dist</th>\n",
       "    </tr>\n",
       "  </thead>\n",
       "  <tbody>\n",
       "    <tr>\n",
       "      <th>count</th>\n",
       "      <td>9303.000000</td>\n",
       "      <td>9303.000000</td>\n",
       "      <td>9303.000000</td>\n",
       "    </tr>\n",
       "    <tr>\n",
       "      <th>mean</th>\n",
       "      <td>0.657745</td>\n",
       "      <td>11.839407</td>\n",
       "      <td>0.475705</td>\n",
       "    </tr>\n",
       "    <tr>\n",
       "      <th>std</th>\n",
       "      <td>0.474490</td>\n",
       "      <td>7.448368</td>\n",
       "      <td>0.135198</td>\n",
       "    </tr>\n",
       "    <tr>\n",
       "      <th>min</th>\n",
       "      <td>0.000000</td>\n",
       "      <td>3.000000</td>\n",
       "      <td>0.026554</td>\n",
       "    </tr>\n",
       "    <tr>\n",
       "      <th>25%</th>\n",
       "      <td>0.000000</td>\n",
       "      <td>6.000000</td>\n",
       "      <td>0.378520</td>\n",
       "    </tr>\n",
       "    <tr>\n",
       "      <th>50%</th>\n",
       "      <td>1.000000</td>\n",
       "      <td>10.000000</td>\n",
       "      <td>0.478014</td>\n",
       "    </tr>\n",
       "    <tr>\n",
       "      <th>75%</th>\n",
       "      <td>1.000000</td>\n",
       "      <td>17.000000</td>\n",
       "      <td>0.574869</td>\n",
       "    </tr>\n",
       "    <tr>\n",
       "      <th>max</th>\n",
       "      <td>1.000000</td>\n",
       "      <td>41.000000</td>\n",
       "      <td>0.845434</td>\n",
       "    </tr>\n",
       "  </tbody>\n",
       "</table>\n",
       "</div>"
      ],
      "text/plain": [
       "             label          len         dist\n",
       "count  9303.000000  9303.000000  9303.000000\n",
       "mean      0.657745    11.839407     0.475705\n",
       "std       0.474490     7.448368     0.135198\n",
       "min       0.000000     3.000000     0.026554\n",
       "25%       0.000000     6.000000     0.378520\n",
       "50%       1.000000    10.000000     0.478014\n",
       "75%       1.000000    17.000000     0.574869\n",
       "max       1.000000    41.000000     0.845434"
      ]
     },
     "execution_count": 450,
     "metadata": {},
     "output_type": "execute_result"
    }
   ],
   "source": [
    "train.describe()"
   ]
  },
  {
   "cell_type": "code",
   "execution_count": 451,
   "id": "bfc25a9d",
   "metadata": {},
   "outputs": [
    {
     "data": {
      "text/plain": [
       "1        0.0\n",
       "2        0.0\n",
       "3        0.0\n",
       "4        0.0\n",
       "6        0.0\n",
       "        ... \n",
       "10586    1.0\n",
       "10587    0.0\n",
       "10588    1.0\n",
       "10589    0.0\n",
       "10591    1.0\n",
       "Name: label, Length: 9303, dtype: float64"
      ]
     },
     "execution_count": 451,
     "metadata": {},
     "output_type": "execute_result"
    }
   ],
   "source": [
    "train.label"
   ]
  },
  {
   "cell_type": "code",
   "execution_count": 452,
   "id": "ebb27c21",
   "metadata": {},
   "outputs": [],
   "source": [
    "new_train = train.sort_values('dist')[:5000]\n",
    "indices = sorted(new_train.index)"
   ]
  },
  {
   "cell_type": "code",
   "execution_count": 453,
   "id": "9880dac7",
   "metadata": {},
   "outputs": [
    {
     "data": {
      "text/plain": [
       "4311     [0.243, 0.243, 0.241, 0.273]\n",
       "6916     [0.223, 0.249, 0.259, 0.268]\n",
       "2784      [0.23, 0.235, 0.262, 0.273]\n",
       "9932     [0.242, 0.284, 0.227, 0.247]\n",
       "7924     [0.212, 0.262, 0.253, 0.273]\n",
       "                     ...             \n",
       "7359       [0.14, 0.144, 0.046, 0.67]\n",
       "239       [0.008, 0.422, 0.011, 0.56]\n",
       "1160     [0.046, 0.345, 0.001, 0.608]\n",
       "10349     [0.135, 0.19, 0.014, 0.661]\n",
       "5186     [0.314, 0.056, 0.006, 0.624]\n",
       "Name: probs, Length: 5000, dtype: object"
      ]
     },
     "execution_count": 453,
     "metadata": {},
     "output_type": "execute_result"
    }
   ],
   "source": [
    "new_train['probs'].apply(lambda x: np.round(x, decimals=3))"
   ]
  },
  {
   "cell_type": "code",
   "execution_count": 454,
   "id": "632ebea4",
   "metadata": {},
   "outputs": [],
   "source": [
    "train['max_prob'] = train['probs'].apply(max)"
   ]
  },
  {
   "cell_type": "code",
   "execution_count": 455,
   "id": "38a9ac5a",
   "metadata": {},
   "outputs": [
    {
     "data": {
      "text/html": [
       "<div>\n",
       "<style scoped>\n",
       "    .dataframe tbody tr th:only-of-type {\n",
       "        vertical-align: middle;\n",
       "    }\n",
       "\n",
       "    .dataframe tbody tr th {\n",
       "        vertical-align: top;\n",
       "    }\n",
       "\n",
       "    .dataframe thead th {\n",
       "        text-align: right;\n",
       "    }\n",
       "</style>\n",
       "<table border=\"1\" class=\"dataframe\">\n",
       "  <thead>\n",
       "    <tr style=\"text-align: right;\">\n",
       "      <th></th>\n",
       "      <th>label</th>\n",
       "      <th>len</th>\n",
       "      <th>dist</th>\n",
       "      <th>max_prob</th>\n",
       "    </tr>\n",
       "  </thead>\n",
       "  <tbody>\n",
       "    <tr>\n",
       "      <th>count</th>\n",
       "      <td>9303.000000</td>\n",
       "      <td>9303.000000</td>\n",
       "      <td>9303.000000</td>\n",
       "      <td>9303.000000</td>\n",
       "    </tr>\n",
       "    <tr>\n",
       "      <th>mean</th>\n",
       "      <td>0.657745</td>\n",
       "      <td>11.839407</td>\n",
       "      <td>0.475705</td>\n",
       "      <td>0.623911</td>\n",
       "    </tr>\n",
       "    <tr>\n",
       "      <th>std</th>\n",
       "      <td>0.474490</td>\n",
       "      <td>7.448368</td>\n",
       "      <td>0.135198</td>\n",
       "      <td>0.140664</td>\n",
       "    </tr>\n",
       "    <tr>\n",
       "      <th>min</th>\n",
       "      <td>0.000000</td>\n",
       "      <td>3.000000</td>\n",
       "      <td>0.026554</td>\n",
       "      <td>0.268397</td>\n",
       "    </tr>\n",
       "    <tr>\n",
       "      <th>25%</th>\n",
       "      <td>0.000000</td>\n",
       "      <td>6.000000</td>\n",
       "      <td>0.378520</td>\n",
       "      <td>0.513509</td>\n",
       "    </tr>\n",
       "    <tr>\n",
       "      <th>50%</th>\n",
       "      <td>1.000000</td>\n",
       "      <td>10.000000</td>\n",
       "      <td>0.478014</td>\n",
       "      <td>0.628696</td>\n",
       "    </tr>\n",
       "    <tr>\n",
       "      <th>75%</th>\n",
       "      <td>1.000000</td>\n",
       "      <td>17.000000</td>\n",
       "      <td>0.574869</td>\n",
       "      <td>0.734716</td>\n",
       "    </tr>\n",
       "    <tr>\n",
       "      <th>max</th>\n",
       "      <td>1.000000</td>\n",
       "      <td>41.000000</td>\n",
       "      <td>0.845434</td>\n",
       "      <td>0.982126</td>\n",
       "    </tr>\n",
       "  </tbody>\n",
       "</table>\n",
       "</div>"
      ],
      "text/plain": [
       "             label          len         dist     max_prob\n",
       "count  9303.000000  9303.000000  9303.000000  9303.000000\n",
       "mean      0.657745    11.839407     0.475705     0.623911\n",
       "std       0.474490     7.448368     0.135198     0.140664\n",
       "min       0.000000     3.000000     0.026554     0.268397\n",
       "25%       0.000000     6.000000     0.378520     0.513509\n",
       "50%       1.000000    10.000000     0.478014     0.628696\n",
       "75%       1.000000    17.000000     0.574869     0.734716\n",
       "max       1.000000    41.000000     0.845434     0.982126"
      ]
     },
     "execution_count": 455,
     "metadata": {},
     "output_type": "execute_result"
    }
   ],
   "source": [
    "train.describe()"
   ]
  },
  {
   "cell_type": "code",
   "execution_count": 486,
   "id": "8440976a",
   "metadata": {},
   "outputs": [],
   "source": [
    "new_train2 = train.sort_values('max_prob')[:5000]\n",
    "indices = sorted(new_train2.index)"
   ]
  },
  {
   "cell_type": "code",
   "execution_count": 457,
   "id": "311f58ee",
   "metadata": {},
   "outputs": [],
   "source": [
    "new_train3 = train[train['max_prob'] <= 0.50]\n",
    "indices = sorted(new_train3.index)"
   ]
  },
  {
   "cell_type": "code",
   "execution_count": 487,
   "id": "248b0729",
   "metadata": {},
   "outputs": [
    {
     "data": {
      "text/plain": [
       "10591"
      ]
     },
     "execution_count": 487,
     "metadata": {},
     "output_type": "execute_result"
    }
   ],
   "source": [
    "max(indices)"
   ]
  },
  {
   "cell_type": "code",
   "execution_count": 488,
   "id": "0e897689",
   "metadata": {},
   "outputs": [
    {
     "data": {
      "text/plain": [
       "text        sometimes get strong vibes people man vibe ten...\n",
       "label                                                     0.0\n",
       "len                                                        11\n",
       "probs       [0.11521956770918694, 0.3824784810648912, 0.00...\n",
       "dist                                                 0.392923\n",
       "max_prob                                             0.494738\n",
       "Name: 10587, dtype: object"
      ]
     },
     "execution_count": 488,
     "metadata": {},
     "output_type": "execute_result"
    }
   ],
   "source": [
    "new_train3.loc[10587"
   ]
  },
  {
   "cell_type": "code",
   "execution_count": 493,
   "id": "7ed2ad5c",
   "metadata": {},
   "outputs": [
    {
     "name": "stderr",
     "output_type": "stream",
     "text": [
      "  7%|▋         | 99/1324 [00:00<00:01, 988.23it/s]"
     ]
    },
    {
     "name": "stdout",
     "output_type": "stream",
     "text": [
      "Preprocessing tweets...\n"
     ]
    },
    {
     "name": "stderr",
     "output_type": "stream",
     "text": [
      "100%|██████████| 1324/1324 [00:03<00:00, 424.11it/s]\n",
      "100%|██████████| 5072/5072 [00:07<00:00, 719.06it/s]\n"
     ]
    },
    {
     "name": "stdout",
     "output_type": "stream",
     "text": [
      "9303\n",
      "Processing GloVe word embeddings...\n"
     ]
    },
    {
     "name": "stderr",
     "output_type": "stream",
     "text": [
      "  0%|          | 8/15136 [00:00<03:22, 74.57it/s]"
     ]
    },
    {
     "name": "stdout",
     "output_type": "stream",
     "text": [
      "Found 1193514 word vectors!\n",
      "Creating embedding matrix...\n"
     ]
    },
    {
     "name": "stderr",
     "output_type": "stream",
     "text": [
      "100%|██████████| 15136/15136 [02:22<00:00, 106.01it/s]\n"
     ]
    },
    {
     "name": "stdout",
     "output_type": "stream",
     "text": [
      "DONE\n"
     ]
    }
   ],
   "source": [
    "# dev = pd.read_csv(\"civility_data/dev.tsv\", sep='\\t')\n",
    "# mini_demographic_dev = pd.read_csv(\"civility_data/mini_demographic_dev.tsv\", sep='\\t')\n",
    "# test = pd.read_csv(\"civility_data/test.tsv\", sep='\\t')\n",
    "# train = pd.read_csv(\"civility_data/train.tsv\", sep='\\t')\n",
    "# mini_demographic_dev[\"bin_label\"] = [1 for _ in range(len(mini_demographic_dev))]\n",
    "\n",
    "# X_train = train[\"text\"].values\n",
    "# y_train = np.array([0.0 if l==\"OFF\" else 1.0 for l in train[\"label\"]])\n",
    "X_test = dev[\"text\"].values\n",
    "y_test = np.array([0.0 if l==\"OFF\" else 1.0 for l in dev[\"label\"]])\n",
    "X_test_dev = mini_demographic_dev[\"text\"].values\n",
    "y_test_dev = mini_demographic_dev[\"bin_label\"].values\n",
    "\n",
    "# Clean text\n",
    "# def preprocessing(data):\n",
    "#     all_stopwords = stopwords.words('english')\n",
    "#     all_stopwords.remove('not')\n",
    "#     corpus = []\n",
    "#     for tweet in data:\n",
    "#         review = re.sub(r\"@[A-Za-z0-9_]+\", \" \", tweet)\n",
    "#         review = re.sub('RT', ' ', review)d\n",
    "#         review = re.sub(r\"https?://[A-Za-z0-9./]+\", \" \", review)\n",
    "#         review = re.sub(r\"https?\", \" \", review)\n",
    "#         review = re.sub(r\"\\\\[A-Za-z0-9./]+\",\" \", review)\n",
    "#         review = re.sub('[^a-zA-Z]', ' ', review)\n",
    "#         review = review.lower()\n",
    "#         review = review.split()\n",
    "#         review = [word for word in review if not word in set(all_stopwords) if len(word) > 2]\n",
    "#         review = ' '.join(review)\n",
    "#         corpus.append(review)\n",
    "\n",
    "#     return np.array(corpus)\n",
    "\n",
    "print(\"Preprocessing tweets...\")\n",
    "# X_train = preprocessing(X_train)\n",
    "X_test = preprocessing(X_test)\n",
    "X_test_dev = preprocessing(X_test_dev)\n",
    "\n",
    "# X_train = train.iloc[indices]['text']\n",
    "# y_train = train.iloc[indices]['label']\n",
    "X_train = train['text']\n",
    "y_train = train['label']\n",
    "\n",
    "print(len(train))\n",
    "\n",
    "max_features = 16097\n",
    "maxlen = 100\n",
    "embedding_dim = 100\n",
    "\n",
    "tokenizer = text.Tokenizer(num_words=max_features)\n",
    "tokenizer.fit_on_texts(list(X_train))\n",
    "\n",
    "X_train = tokenizer.texts_to_sequences(X_train.loc[indices])\n",
    "X_train = sequence.pad_sequences(X_train, maxlen=maxlen)\n",
    "y_train = train.loc[indices]['label']\n",
    "\n",
    "X_test = tokenizer.texts_to_sequences(X_test)\n",
    "X_test_dev = tokenizer.texts_to_sequences(X_test_dev)\n",
    "X_test = sequence.pad_sequences(X_test, maxlen=maxlen)\n",
    "X_test_dev = sequence.pad_sequences(X_test_dev, maxlen=maxlen)\n",
    "\n",
    "\n",
    "embeddings_index = dict()\n",
    "\n",
    "GLOVE_PATH = 'glove.twitter.27B.100d.txt'\n",
    "print(\"Processing GloVe word embeddings...\")\n",
    "with open(GLOVE_PATH, 'r') as glove_file:\n",
    "    for line in glove_file:\n",
    "        values = line.split()\n",
    "        word = values[0]\n",
    "        coefs = np.asarray(values[1:], dtype='float32')\n",
    "        embeddings_index[word] = coefs\n",
    "\n",
    "print(\"Found\", len(embeddings_index), \"word vectors!\")\n",
    "\n",
    "embedding_matrix = np.zeros((max_features, embedding_dim))\n",
    "print(\"Creating embedding matrix...\")\n",
    "for i in tqdm(range(len(tokenizer.word_index.items()))):\n",
    "    word, index = list(tokenizer.word_index.items())[i]\n",
    "    if index > max_features-1:\n",
    "        break\n",
    "    else:\n",
    "        embedding_vector = embeddings_index.get(word)\n",
    "        if embedding_vector is not None:\n",
    "            embedding_matrix[index] = embedding_vector\n",
    "\n",
    "with open('embedding_matrix_balanced.npy', 'wb') as f:\n",
    "    np.save(f, embedding_matrix)\n",
    "\n",
    "# with open('embedding_matrix.npy', 'rb') as f:\n",
    "#     embedding_matrix = np.load(f)\n",
    "\n",
    "# with open('embedding_matrix_fasttext.npy', 'rb') as f:\n",
    "#     embedding_matrix = np.load(f)\n",
    "\n",
    "print('DONE')"
   ]
  },
  {
   "cell_type": "code",
   "execution_count": 490,
   "id": "ff262f29",
   "metadata": {},
   "outputs": [
    {
     "data": {
      "text/plain": [
       "5000"
      ]
     },
     "execution_count": 490,
     "metadata": {},
     "output_type": "execute_result"
    }
   ],
   "source": [
    "len(X_train)"
   ]
  },
  {
   "cell_type": "code",
   "execution_count": 528,
   "id": "fd2633be",
   "metadata": {},
   "outputs": [],
   "source": [
    "def recurrent_cnn1():\n",
    "    embedded = keras.layers.Embedding(max_features, embedding_dim, weights=[embedding_matrix], trainable=False)\n",
    "\n",
    "    model = keras.Sequential([\n",
    "        embedded,\n",
    "        keras.layers.SpatialDropout1D(0.3),\n",
    "        keras.layers.Bidirectional(keras.layers.LSTM(64,return_sequences=True)),\n",
    "        keras.layers.Convolution1D(64, 3, activation=\"relu\"),\n",
    "        keras.layers.GlobalMaxPool1D(),\n",
    "        keras.layers.Dense(25, activation=\"relu\"),\n",
    "        keras.layers.Dropout(0.25),\n",
    "        keras.layers.Dense(1, activation='sigmoid')])\n",
    "\n",
    "    model.compile(optimizer=tf.keras.optimizers.RMSprop(lr=1e-4),\n",
    "            loss=tf.losses.BinaryCrossentropy(from_logits=True),\n",
    "            metrics=['accuracy'])\n",
    "\n",
    "    print(model.summary())\n",
    "    \n",
    "    return model"
   ]
  },
  {
   "cell_type": "code",
   "execution_count": 529,
   "id": "15e4e1f0",
   "metadata": {
    "scrolled": true
   },
   "outputs": [
    {
     "name": "stdout",
     "output_type": "stream",
     "text": [
      "Model: \"sequential_51\"\n",
      "_________________________________________________________________\n",
      " Layer (type)                Output Shape              Param #   \n",
      "=================================================================\n",
      " embedding_51 (Embedding)    (None, None, 100)         1609700   \n",
      "                                                                 \n",
      " spatial_dropout1d_14 (Spati  (None, None, 100)        0         \n",
      " alDropout1D)                                                    \n",
      "                                                                 \n",
      " bidirectional_14 (Bidirecti  (None, None, 128)        84480     \n",
      " onal)                                                           \n",
      "                                                                 \n",
      " conv1d_14 (Conv1D)          (None, None, 64)          24640     \n",
      "                                                                 \n",
      " global_max_pooling1d_14 (Gl  (None, 64)               0         \n",
      " obalMaxPooling1D)                                               \n",
      "                                                                 \n",
      " dense_102 (Dense)           (None, 25)                1625      \n",
      "                                                                 \n",
      " dropout_14 (Dropout)        (None, 25)                0         \n",
      "                                                                 \n",
      " dense_103 (Dense)           (None, 1)                 26        \n",
      "                                                                 \n",
      "=================================================================\n",
      "Total params: 1,720,471\n",
      "Trainable params: 110,771\n",
      "Non-trainable params: 1,609,700\n",
      "_________________________________________________________________\n",
      "None\n",
      "Epoch 1/30\n",
      "141/141 [==============================] - 33s 134ms/step - loss: 0.6615 - accuracy: 0.6282 - val_loss: 0.6503 - val_accuracy: 0.6400\n",
      "Epoch 2/30\n",
      "141/141 [==============================] - 15s 109ms/step - loss: 0.6305 - accuracy: 0.6716 - val_loss: 0.6251 - val_accuracy: 0.6400\n",
      "Epoch 3/30\n",
      "141/141 [==============================] - 16s 114ms/step - loss: 0.6039 - accuracy: 0.6933 - val_loss: 0.5854 - val_accuracy: 0.6840\n",
      "Epoch 4/30\n",
      "141/141 [==============================] - 16s 111ms/step - loss: 0.5759 - accuracy: 0.7142 - val_loss: 0.5547 - val_accuracy: 0.7220\n",
      "Epoch 5/30\n",
      "141/141 [==============================] - 15s 108ms/step - loss: 0.5536 - accuracy: 0.7333 - val_loss: 0.5332 - val_accuracy: 0.7460\n",
      "Epoch 6/30\n",
      "141/141 [==============================] - 17s 117ms/step - loss: 0.5439 - accuracy: 0.7327 - val_loss: 0.5197 - val_accuracy: 0.7480\n",
      "Epoch 7/30\n",
      "141/141 [==============================] - 16s 115ms/step - loss: 0.5307 - accuracy: 0.7440 - val_loss: 0.5115 - val_accuracy: 0.7640\n",
      "Epoch 8/30\n",
      "141/141 [==============================] - 17s 118ms/step - loss: 0.5308 - accuracy: 0.7467 - val_loss: 0.5004 - val_accuracy: 0.7660\n",
      "Epoch 9/30\n",
      "141/141 [==============================] - 16s 115ms/step - loss: 0.5177 - accuracy: 0.7542 - val_loss: 0.4934 - val_accuracy: 0.7660\n",
      "Epoch 10/30\n",
      "141/141 [==============================] - 16s 110ms/step - loss: 0.5111 - accuracy: 0.7573 - val_loss: 0.4858 - val_accuracy: 0.7740\n",
      "Epoch 11/30\n",
      "141/141 [==============================] - 15s 109ms/step - loss: 0.5132 - accuracy: 0.7567 - val_loss: 0.4857 - val_accuracy: 0.7720\n",
      "Epoch 12/30\n",
      "141/141 [==============================] - 16s 113ms/step - loss: 0.5073 - accuracy: 0.7567 - val_loss: 0.4782 - val_accuracy: 0.7880\n",
      "Epoch 13/30\n",
      "141/141 [==============================] - 16s 114ms/step - loss: 0.5009 - accuracy: 0.7602 - val_loss: 0.4790 - val_accuracy: 0.7760\n",
      "Epoch 14/30\n",
      "141/141 [==============================] - 17s 120ms/step - loss: 0.5008 - accuracy: 0.7587 - val_loss: 0.4714 - val_accuracy: 0.7860\n",
      "Epoch 15/30\n",
      "141/141 [==============================] - 18s 124ms/step - loss: 0.4961 - accuracy: 0.7636 - val_loss: 0.4673 - val_accuracy: 0.7820\n",
      "Epoch 16/30\n",
      "141/141 [==============================] - 17s 118ms/step - loss: 0.4955 - accuracy: 0.7644 - val_loss: 0.4681 - val_accuracy: 0.7880\n",
      "Epoch 17/30\n",
      "141/141 [==============================] - 15s 108ms/step - loss: 0.4901 - accuracy: 0.7678 - val_loss: 0.4620 - val_accuracy: 0.7820\n",
      "Epoch 18/30\n",
      "141/141 [==============================] - 16s 117ms/step - loss: 0.4877 - accuracy: 0.7742 - val_loss: 0.4612 - val_accuracy: 0.7880\n",
      "Epoch 19/30\n",
      "141/141 [==============================] - 15s 108ms/step - loss: 0.4808 - accuracy: 0.7733 - val_loss: 0.4613 - val_accuracy: 0.7820\n",
      "Epoch 20/30\n",
      "141/141 [==============================] - 16s 113ms/step - loss: 0.4801 - accuracy: 0.7718 - val_loss: 0.4643 - val_accuracy: 0.7880\n",
      "Epoch 21/30\n",
      "141/141 [==============================] - 16s 115ms/step - loss: 0.4737 - accuracy: 0.7829 - val_loss: 0.4552 - val_accuracy: 0.7940\n",
      "Epoch 22/30\n",
      "141/141 [==============================] - 17s 121ms/step - loss: 0.4734 - accuracy: 0.7807 - val_loss: 0.4639 - val_accuracy: 0.7940\n",
      "Epoch 23/30\n",
      "141/141 [==============================] - 19s 138ms/step - loss: 0.4742 - accuracy: 0.7780 - val_loss: 0.4569 - val_accuracy: 0.7780\n",
      "Epoch 24/30\n",
      "141/141 [==============================] - 18s 131ms/step - loss: 0.4774 - accuracy: 0.7813 - val_loss: 0.4553 - val_accuracy: 0.7800\n",
      "Epoch 25/30\n",
      "141/141 [==============================] - 23s 161ms/step - loss: 0.4658 - accuracy: 0.7882 - val_loss: 0.4502 - val_accuracy: 0.7800\n",
      "Epoch 26/30\n",
      "141/141 [==============================] - 15s 109ms/step - loss: 0.4685 - accuracy: 0.7916 - val_loss: 0.4490 - val_accuracy: 0.7880\n",
      "Epoch 27/30\n",
      "141/141 [==============================] - 14s 103ms/step - loss: 0.4715 - accuracy: 0.7762 - val_loss: 0.4506 - val_accuracy: 0.7920\n",
      "Epoch 28/30\n",
      "141/141 [==============================] - 16s 113ms/step - loss: 0.4603 - accuracy: 0.7882 - val_loss: 0.4487 - val_accuracy: 0.7840\n",
      "Epoch 29/30\n",
      "141/141 [==============================] - 16s 113ms/step - loss: 0.4623 - accuracy: 0.7913 - val_loss: 0.4475 - val_accuracy: 0.7880\n",
      "Epoch 30/30\n",
      "141/141 [==============================] - 16s 116ms/step - loss: 0.4559 - accuracy: 0.7913 - val_loss: 0.4446 - val_accuracy: 0.7900\n"
     ]
    },
    {
     "data": {
      "image/png": "[encoded data removed]",
      "text/plain": [
       "<Figure size 432x288 with 1 Axes>"
      ]
     },
     "metadata": {},
     "output_type": "display_data"
    },
    {
     "data": {
      "image/png": "[encoded data removed]",
      "text/plain": [
       "<Figure size 432x288 with 1 Axes>"
      ]
     },
     "metadata": {},
     "output_type": "display_data"
    },
    {
     "name": "stdout",
     "output_type": "stream",
     "text": [
      "42/42 [==============================] - 3s 28ms/step\n",
      "================================================\n",
      "Accuracy: 77.57%\n",
      "F1 Score: 0.842440\n",
      "Accuracy on mini_dem: 85.35%\n",
      "F1 Score mini_dem: 0.920966\n",
      "\n",
      "White FPR: 0.14285714285714285\n",
      "Hispanic FPR: 0.16119402985074627\n",
      "AA FPR: 0.25301204819277107\n",
      "Other FPR: 0.0\n"
     ]
    }
   ],
   "source": [
    "run(recurrent_cnn1(), 'recurrent_cnn1_balanced', epochs=30)"
   ]
  },
  {
   "cell_type": "code",
   "execution_count": 515,
   "id": "f141b851",
   "metadata": {},
   "outputs": [],
   "source": [
    "def shallow_model():\n",
    "    embedded = keras.layers.Embedding(max_features, embedding_dim, weights=[embedding_matrix], trainable=False)\n",
    "    # embedded = keras.layers.Embedding(max_features+1, 300, weights=[embedding_matrix], trainable=False)\n",
    "    # Accuracy: 75.23%\n",
    "    # F1 Score: 0.826271\n",
    "    model = keras.Sequential([\n",
    "      embedded,\n",
    "      keras.layers.GlobalAveragePooling1D(),\n",
    "      keras.layers.Dense(64, activation='relu'),\n",
    "      keras.layers.Dense(1, activation='sigmoid')])\n",
    "\n",
    "    model.compile(optimizer='adam',\n",
    "              loss=tf.losses.BinaryCrossentropy(from_logits=True),\n",
    "              metrics=['accuracy'])\n",
    "    print(model.summary())\n",
    "\n",
    "    return model"
   ]
  },
  {
   "cell_type": "code",
   "execution_count": 516,
   "id": "fbe4026d",
   "metadata": {
    "scrolled": true
   },
   "outputs": [
    {
     "name": "stdout",
     "output_type": "stream",
     "text": [
      "Model: \"sequential_49\"\n",
      "_________________________________________________________________\n",
      " Layer (type)                Output Shape              Param #   \n",
      "=================================================================\n",
      " embedding_49 (Embedding)    (None, None, 100)         1609700   \n",
      "                                                                 \n",
      " global_average_pooling1d_36  (None, 100)              0         \n",
      "  (GlobalAveragePooling1D)                                       \n",
      "                                                                 \n",
      " dense_98 (Dense)            (None, 64)                6464      \n",
      "                                                                 \n",
      " dense_99 (Dense)            (None, 1)                 65        \n",
      "                                                                 \n",
      "=================================================================\n",
      "Total params: 1,616,229\n",
      "Trainable params: 6,529\n",
      "Non-trainable params: 1,609,700\n",
      "_________________________________________________________________\n",
      "None\n",
      "Epoch 1/100\n",
      "141/141 [==============================] - 2s 6ms/step - loss: 0.6368 - accuracy: 0.6718 - val_loss: 0.6227 - val_accuracy: 0.6400\n",
      "Epoch 2/100\n",
      "141/141 [==============================] - 1s 4ms/step - loss: 0.5845 - accuracy: 0.6833 - val_loss: 0.5862 - val_accuracy: 0.6660\n",
      "Epoch 3/100\n",
      "141/141 [==============================] - 0s 4ms/step - loss: 0.5559 - accuracy: 0.7100 - val_loss: 0.5637 - val_accuracy: 0.6860\n",
      "Epoch 4/100\n",
      "141/141 [==============================] - 1s 4ms/step - loss: 0.5385 - accuracy: 0.7207 - val_loss: 0.5462 - val_accuracy: 0.7220\n",
      "Epoch 5/100\n",
      "141/141 [==============================] - 0s 3ms/step - loss: 0.5272 - accuracy: 0.7367 - val_loss: 0.5381 - val_accuracy: 0.7180\n",
      "Epoch 6/100\n",
      "141/141 [==============================] - 0s 3ms/step - loss: 0.5191 - accuracy: 0.7429 - val_loss: 0.5291 - val_accuracy: 0.7440\n",
      "Epoch 7/100\n",
      "141/141 [==============================] - 1s 4ms/step - loss: 0.5130 - accuracy: 0.7453 - val_loss: 0.5268 - val_accuracy: 0.7320\n",
      "Epoch 8/100\n",
      "141/141 [==============================] - 0s 3ms/step - loss: 0.5082 - accuracy: 0.7487 - val_loss: 0.5171 - val_accuracy: 0.7500\n",
      "Epoch 9/100\n",
      "141/141 [==============================] - 1s 4ms/step - loss: 0.5040 - accuracy: 0.7540 - val_loss: 0.5174 - val_accuracy: 0.7460\n",
      "Epoch 10/100\n",
      "141/141 [==============================] - 1s 4ms/step - loss: 0.5005 - accuracy: 0.7542 - val_loss: 0.5106 - val_accuracy: 0.7540\n",
      "Epoch 11/100\n",
      "141/141 [==============================] - 1s 4ms/step - loss: 0.4975 - accuracy: 0.7538 - val_loss: 0.5076 - val_accuracy: 0.7600\n",
      "Epoch 12/100\n",
      "141/141 [==============================] - 0s 3ms/step - loss: 0.4952 - accuracy: 0.7576 - val_loss: 0.5057 - val_accuracy: 0.7600\n",
      "Epoch 13/100\n",
      "141/141 [==============================] - 1s 4ms/step - loss: 0.4923 - accuracy: 0.7591 - val_loss: 0.5029 - val_accuracy: 0.7640\n",
      "Epoch 14/100\n",
      "141/141 [==============================] - 0s 3ms/step - loss: 0.4907 - accuracy: 0.7627 - val_loss: 0.5013 - val_accuracy: 0.7580\n",
      "Epoch 15/100\n",
      "141/141 [==============================] - 1s 4ms/step - loss: 0.4892 - accuracy: 0.7622 - val_loss: 0.4998 - val_accuracy: 0.7540\n",
      "Epoch 16/100\n",
      "141/141 [==============================] - 1s 4ms/step - loss: 0.4864 - accuracy: 0.7656 - val_loss: 0.4999 - val_accuracy: 0.7580\n",
      "Epoch 17/100\n",
      "141/141 [==============================] - 0s 4ms/step - loss: 0.4858 - accuracy: 0.7638 - val_loss: 0.5018 - val_accuracy: 0.7580\n",
      "Epoch 18/100\n",
      "141/141 [==============================] - 1s 4ms/step - loss: 0.4833 - accuracy: 0.7671 - val_loss: 0.4961 - val_accuracy: 0.7620\n",
      "Epoch 19/100\n",
      "141/141 [==============================] - 1s 4ms/step - loss: 0.4824 - accuracy: 0.7658 - val_loss: 0.4939 - val_accuracy: 0.7680\n",
      "Epoch 20/100\n",
      "141/141 [==============================] - 1s 4ms/step - loss: 0.4810 - accuracy: 0.7658 - val_loss: 0.4939 - val_accuracy: 0.7600\n",
      "Epoch 21/100\n",
      "141/141 [==============================] - 1s 4ms/step - loss: 0.4798 - accuracy: 0.7704 - val_loss: 0.4919 - val_accuracy: 0.7700\n",
      "Epoch 22/100\n",
      "141/141 [==============================] - 1s 4ms/step - loss: 0.4789 - accuracy: 0.7678 - val_loss: 0.4955 - val_accuracy: 0.7600\n",
      "Epoch 23/100\n",
      "141/141 [==============================] - 1s 4ms/step - loss: 0.4771 - accuracy: 0.7689 - val_loss: 0.4913 - val_accuracy: 0.7700\n",
      "Epoch 24/100\n",
      "141/141 [==============================] - 1s 4ms/step - loss: 0.4764 - accuracy: 0.7700 - val_loss: 0.4901 - val_accuracy: 0.7720\n",
      "Epoch 25/100\n",
      "141/141 [==============================] - 1s 4ms/step - loss: 0.4758 - accuracy: 0.7733 - val_loss: 0.4905 - val_accuracy: 0.7600\n",
      "Epoch 26/100\n",
      "141/141 [==============================] - 1s 4ms/step - loss: 0.4743 - accuracy: 0.7751 - val_loss: 0.4899 - val_accuracy: 0.7700\n",
      "Epoch 27/100\n",
      "141/141 [==============================] - 1s 4ms/step - loss: 0.4730 - accuracy: 0.7767 - val_loss: 0.4901 - val_accuracy: 0.7540\n",
      "Epoch 28/100\n",
      "141/141 [==============================] - 1s 4ms/step - loss: 0.4719 - accuracy: 0.7742 - val_loss: 0.4895 - val_accuracy: 0.7660\n",
      "Epoch 29/100\n",
      "141/141 [==============================] - 1s 4ms/step - loss: 0.4713 - accuracy: 0.7747 - val_loss: 0.4879 - val_accuracy: 0.7660\n",
      "Epoch 30/100\n",
      "141/141 [==============================] - 1s 4ms/step - loss: 0.4704 - accuracy: 0.7767 - val_loss: 0.4901 - val_accuracy: 0.7560\n",
      "Epoch 31/100\n",
      "141/141 [==============================] - 1s 4ms/step - loss: 0.4692 - accuracy: 0.7784 - val_loss: 0.4894 - val_accuracy: 0.7580\n",
      "Epoch 32/100\n",
      "141/141 [==============================] - 1s 4ms/step - loss: 0.4676 - accuracy: 0.7764 - val_loss: 0.4873 - val_accuracy: 0.7720\n",
      "Epoch 33/100\n",
      "141/141 [==============================] - 1s 4ms/step - loss: 0.4674 - accuracy: 0.7776 - val_loss: 0.4872 - val_accuracy: 0.7600\n",
      "Epoch 34/100\n",
      "141/141 [==============================] - 1s 4ms/step - loss: 0.4669 - accuracy: 0.7793 - val_loss: 0.4895 - val_accuracy: 0.7580\n",
      "Epoch 35/100\n",
      "141/141 [==============================] - 1s 4ms/step - loss: 0.4663 - accuracy: 0.7824 - val_loss: 0.4873 - val_accuracy: 0.7660\n",
      "Epoch 36/100\n",
      "141/141 [==============================] - 1s 4ms/step - loss: 0.4645 - accuracy: 0.7831 - val_loss: 0.4868 - val_accuracy: 0.7660\n",
      "Epoch 37/100\n",
      "141/141 [==============================] - 1s 4ms/step - loss: 0.4644 - accuracy: 0.7791 - val_loss: 0.4870 - val_accuracy: 0.7680\n",
      "Epoch 38/100\n",
      "141/141 [==============================] - 1s 5ms/step - loss: 0.4631 - accuracy: 0.7827 - val_loss: 0.4876 - val_accuracy: 0.7620\n",
      "Epoch 39/100\n",
      "141/141 [==============================] - 1s 4ms/step - loss: 0.4626 - accuracy: 0.7800 - val_loss: 0.4894 - val_accuracy: 0.7560\n",
      "Epoch 40/100\n",
      "141/141 [==============================] - 1s 6ms/step - loss: 0.4610 - accuracy: 0.7811 - val_loss: 0.4878 - val_accuracy: 0.7680\n",
      "Epoch 41/100\n",
      "141/141 [==============================] - 1s 5ms/step - loss: 0.4610 - accuracy: 0.7829 - val_loss: 0.4864 - val_accuracy: 0.7640\n",
      "Epoch 42/100\n",
      "141/141 [==============================] - 1s 4ms/step - loss: 0.4600 - accuracy: 0.7833 - val_loss: 0.4853 - val_accuracy: 0.7620\n",
      "Epoch 43/100\n",
      "141/141 [==============================] - 1s 4ms/step - loss: 0.4588 - accuracy: 0.7847 - val_loss: 0.4846 - val_accuracy: 0.7660\n",
      "Epoch 44/100\n",
      "141/141 [==============================] - 1s 4ms/step - loss: 0.4578 - accuracy: 0.7838 - val_loss: 0.4884 - val_accuracy: 0.7700\n",
      "Epoch 45/100\n",
      "141/141 [==============================] - 1s 4ms/step - loss: 0.4572 - accuracy: 0.7849 - val_loss: 0.4850 - val_accuracy: 0.7680\n",
      "Epoch 46/100\n",
      "141/141 [==============================] - 1s 4ms/step - loss: 0.4560 - accuracy: 0.7882 - val_loss: 0.4864 - val_accuracy: 0.7700\n",
      "Epoch 47/100\n",
      "141/141 [==============================] - 1s 5ms/step - loss: 0.4559 - accuracy: 0.7869 - val_loss: 0.4848 - val_accuracy: 0.7620\n",
      "Epoch 48/100\n",
      "141/141 [==============================] - 1s 5ms/step - loss: 0.4550 - accuracy: 0.7871 - val_loss: 0.4846 - val_accuracy: 0.7640\n",
      "Epoch 49/100\n",
      "141/141 [==============================] - 1s 4ms/step - loss: 0.4538 - accuracy: 0.7896 - val_loss: 0.4878 - val_accuracy: 0.7660\n",
      "Epoch 50/100\n",
      "141/141 [==============================] - 1s 4ms/step - loss: 0.4530 - accuracy: 0.7891 - val_loss: 0.4854 - val_accuracy: 0.7620\n"
     ]
    },
    {
     "name": "stdout",
     "output_type": "stream",
     "text": [
      "Epoch 51/100\n",
      "141/141 [==============================] - 1s 4ms/step - loss: 0.4513 - accuracy: 0.7918 - val_loss: 0.4881 - val_accuracy: 0.7560\n",
      "Epoch 52/100\n",
      "141/141 [==============================] - 1s 5ms/step - loss: 0.4510 - accuracy: 0.7918 - val_loss: 0.4855 - val_accuracy: 0.7640\n",
      "Epoch 53/100\n",
      "141/141 [==============================] - 1s 4ms/step - loss: 0.4498 - accuracy: 0.7900 - val_loss: 0.4853 - val_accuracy: 0.7580\n",
      "Epoch 54/100\n",
      "141/141 [==============================] - 1s 4ms/step - loss: 0.4499 - accuracy: 0.7918 - val_loss: 0.4846 - val_accuracy: 0.7640\n",
      "Epoch 55/100\n",
      "141/141 [==============================] - 1s 4ms/step - loss: 0.4480 - accuracy: 0.7931 - val_loss: 0.4862 - val_accuracy: 0.7600\n",
      "Epoch 56/100\n",
      "141/141 [==============================] - 1s 4ms/step - loss: 0.4471 - accuracy: 0.7924 - val_loss: 0.4871 - val_accuracy: 0.7580\n",
      "Epoch 57/100\n",
      "141/141 [==============================] - 1s 4ms/step - loss: 0.4473 - accuracy: 0.7956 - val_loss: 0.4849 - val_accuracy: 0.7620\n",
      "Epoch 58/100\n",
      "141/141 [==============================] - 1s 4ms/step - loss: 0.4452 - accuracy: 0.7953 - val_loss: 0.4865 - val_accuracy: 0.7580\n",
      "Epoch 59/100\n",
      "141/141 [==============================] - 1s 4ms/step - loss: 0.4443 - accuracy: 0.7971 - val_loss: 0.4862 - val_accuracy: 0.7560\n",
      "Epoch 60/100\n",
      "141/141 [==============================] - 1s 4ms/step - loss: 0.4436 - accuracy: 0.7960 - val_loss: 0.4855 - val_accuracy: 0.7600\n",
      "Epoch 61/100\n",
      "141/141 [==============================] - 1s 4ms/step - loss: 0.4420 - accuracy: 0.7976 - val_loss: 0.4870 - val_accuracy: 0.7500\n",
      "Epoch 62/100\n",
      "141/141 [==============================] - 1s 4ms/step - loss: 0.4412 - accuracy: 0.7982 - val_loss: 0.4876 - val_accuracy: 0.7580\n",
      "Epoch 63/100\n",
      "141/141 [==============================] - 0s 3ms/step - loss: 0.4402 - accuracy: 0.7944 - val_loss: 0.4858 - val_accuracy: 0.7520\n",
      "Epoch 64/100\n",
      "141/141 [==============================] - 1s 4ms/step - loss: 0.4395 - accuracy: 0.7964 - val_loss: 0.4863 - val_accuracy: 0.7520\n",
      "Epoch 65/100\n",
      "141/141 [==============================] - 0s 3ms/step - loss: 0.4389 - accuracy: 0.7973 - val_loss: 0.4902 - val_accuracy: 0.7540\n",
      "Epoch 66/100\n",
      "141/141 [==============================] - 0s 3ms/step - loss: 0.4378 - accuracy: 0.7964 - val_loss: 0.4872 - val_accuracy: 0.7540\n",
      "Epoch 67/100\n",
      "141/141 [==============================] - 0s 3ms/step - loss: 0.4369 - accuracy: 0.7973 - val_loss: 0.4880 - val_accuracy: 0.7560\n",
      "Epoch 68/100\n",
      "141/141 [==============================] - 1s 4ms/step - loss: 0.4354 - accuracy: 0.7971 - val_loss: 0.4866 - val_accuracy: 0.7560\n",
      "Epoch 69/100\n",
      "141/141 [==============================] - 1s 4ms/step - loss: 0.4349 - accuracy: 0.8016 - val_loss: 0.4866 - val_accuracy: 0.7500\n",
      "Epoch 70/100\n",
      "141/141 [==============================] - 0s 3ms/step - loss: 0.4347 - accuracy: 0.8002 - val_loss: 0.4889 - val_accuracy: 0.7520\n",
      "Epoch 71/100\n",
      "141/141 [==============================] - 1s 4ms/step - loss: 0.4325 - accuracy: 0.8047 - val_loss: 0.4924 - val_accuracy: 0.7580\n",
      "Epoch 72/100\n",
      "141/141 [==============================] - 1s 4ms/step - loss: 0.4331 - accuracy: 0.8011 - val_loss: 0.4907 - val_accuracy: 0.7520\n",
      "Epoch 73/100\n",
      "141/141 [==============================] - 1s 4ms/step - loss: 0.4310 - accuracy: 0.8027 - val_loss: 0.4891 - val_accuracy: 0.7480\n",
      "Epoch 74/100\n",
      "141/141 [==============================] - 1s 4ms/step - loss: 0.4297 - accuracy: 0.8033 - val_loss: 0.4880 - val_accuracy: 0.7500\n",
      "Epoch 75/100\n",
      "141/141 [==============================] - 1s 4ms/step - loss: 0.4288 - accuracy: 0.8062 - val_loss: 0.4876 - val_accuracy: 0.7520\n",
      "Epoch 76/100\n",
      "141/141 [==============================] - 0s 3ms/step - loss: 0.4277 - accuracy: 0.8076 - val_loss: 0.4878 - val_accuracy: 0.7520\n",
      "Epoch 77/100\n",
      "141/141 [==============================] - 0s 3ms/step - loss: 0.4272 - accuracy: 0.8031 - val_loss: 0.4887 - val_accuracy: 0.7560\n",
      "Epoch 78/100\n",
      "141/141 [==============================] - 0s 3ms/step - loss: 0.4260 - accuracy: 0.8078 - val_loss: 0.4908 - val_accuracy: 0.7580\n",
      "Epoch 79/100\n",
      "141/141 [==============================] - 0s 4ms/step - loss: 0.4249 - accuracy: 0.8076 - val_loss: 0.4899 - val_accuracy: 0.7580\n",
      "Epoch 80/100\n",
      "141/141 [==============================] - 1s 4ms/step - loss: 0.4240 - accuracy: 0.8062 - val_loss: 0.4899 - val_accuracy: 0.7540\n",
      "Epoch 81/100\n",
      "141/141 [==============================] - 0s 3ms/step - loss: 0.4240 - accuracy: 0.8098 - val_loss: 0.4897 - val_accuracy: 0.7520\n",
      "Epoch 82/100\n",
      "141/141 [==============================] - 0s 3ms/step - loss: 0.4225 - accuracy: 0.8082 - val_loss: 0.4919 - val_accuracy: 0.7560\n",
      "Epoch 83/100\n",
      "141/141 [==============================] - 0s 3ms/step - loss: 0.4218 - accuracy: 0.8100 - val_loss: 0.4951 - val_accuracy: 0.7540\n",
      "Epoch 84/100\n",
      "141/141 [==============================] - 0s 3ms/step - loss: 0.4196 - accuracy: 0.8093 - val_loss: 0.4916 - val_accuracy: 0.7560\n",
      "Epoch 85/100\n",
      "141/141 [==============================] - 1s 4ms/step - loss: 0.4202 - accuracy: 0.8100 - val_loss: 0.4915 - val_accuracy: 0.7500\n",
      "Epoch 86/100\n",
      "141/141 [==============================] - 1s 4ms/step - loss: 0.4185 - accuracy: 0.8116 - val_loss: 0.4933 - val_accuracy: 0.7500\n",
      "Epoch 87/100\n",
      "141/141 [==============================] - 1s 4ms/step - loss: 0.4177 - accuracy: 0.8122 - val_loss: 0.4933 - val_accuracy: 0.7540\n",
      "Epoch 88/100\n",
      "141/141 [==============================] - 0s 3ms/step - loss: 0.4162 - accuracy: 0.8144 - val_loss: 0.4946 - val_accuracy: 0.7460\n",
      "Epoch 89/100\n",
      "141/141 [==============================] - 0s 3ms/step - loss: 0.4146 - accuracy: 0.8142 - val_loss: 0.4939 - val_accuracy: 0.7540\n",
      "Epoch 90/100\n",
      "141/141 [==============================] - 1s 4ms/step - loss: 0.4139 - accuracy: 0.8176 - val_loss: 0.4961 - val_accuracy: 0.7600\n",
      "Epoch 91/100\n",
      "141/141 [==============================] - 1s 4ms/step - loss: 0.4132 - accuracy: 0.8144 - val_loss: 0.4938 - val_accuracy: 0.7580\n",
      "Epoch 92/100\n",
      "141/141 [==============================] - 0s 4ms/step - loss: 0.4122 - accuracy: 0.8138 - val_loss: 0.4937 - val_accuracy: 0.7580\n",
      "Epoch 93/100\n",
      "141/141 [==============================] - 1s 4ms/step - loss: 0.4104 - accuracy: 0.8169 - val_loss: 0.4949 - val_accuracy: 0.7480\n",
      "Epoch 94/100\n",
      "141/141 [==============================] - 0s 3ms/step - loss: 0.4096 - accuracy: 0.8180 - val_loss: 0.4951 - val_accuracy: 0.7540\n",
      "Epoch 95/100\n",
      "141/141 [==============================] - 1s 4ms/step - loss: 0.4094 - accuracy: 0.8171 - val_loss: 0.4962 - val_accuracy: 0.7540\n",
      "Epoch 96/100\n",
      "141/141 [==============================] - 1s 4ms/step - loss: 0.4082 - accuracy: 0.8169 - val_loss: 0.4959 - val_accuracy: 0.7560\n",
      "Epoch 97/100\n",
      "141/141 [==============================] - 1s 4ms/step - loss: 0.4066 - accuracy: 0.8178 - val_loss: 0.4988 - val_accuracy: 0.7580\n",
      "Epoch 98/100\n",
      "141/141 [==============================] - 1s 5ms/step - loss: 0.4051 - accuracy: 0.8207 - val_loss: 0.4970 - val_accuracy: 0.7560\n",
      "Epoch 99/100\n",
      "141/141 [==============================] - 1s 4ms/step - loss: 0.4048 - accuracy: 0.8196 - val_loss: 0.4982 - val_accuracy: 0.7520\n",
      "Epoch 100/100\n",
      "141/141 [==============================] - 1s 4ms/step - loss: 0.4027 - accuracy: 0.8202 - val_loss: 0.4995 - val_accuracy: 0.7600\n"
     ]
    },
    {
     "data": {
      "image/png": "[encoded data removed]",
      "text/plain": [
       "<Figure size 432x288 with 1 Axes>"
      ]
     },
     "metadata": {},
     "output_type": "display_data"
    },
    {
     "data": {
      "image/png": "[encoded data removed]",
      "text/plain": [
       "<Figure size 432x288 with 1 Axes>"
      ]
     },
     "metadata": {},
     "output_type": "display_data"
    },
    {
     "name": "stdout",
     "output_type": "stream",
     "text": [
      "42/42 [==============================] - 0s 3ms/step\n",
      "================================================\n",
      "Accuracy: 74.32%\n",
      "F1 Score: 0.819915\n",
      "Accuracy on mini_dem: 85.67%\n",
      "F1 Score mini_dem: 0.922799\n",
      "\n",
      "White FPR: 0.14214876033057852\n",
      "Hispanic FPR: 0.1582089552238806\n",
      "AA FPR: 0.21686746987951808\n",
      "Other FPR: 0.0\n"
     ]
    }
   ],
   "source": [
    "shallow_model = shallow_model()\n",
    "run(shallow_model, 'shallow2', epochs=100)"
   ]
  },
  {
   "cell_type": "code",
   "execution_count": 500,
   "id": "448d54de",
   "metadata": {},
   "outputs": [],
   "source": [
    "def recurrent_cnn():\n",
    "    embedded = keras.layers.Embedding(max_features, embedding_dim, weights=[embedding_matrix], trainable=False)\n",
    "\n",
    "    model = keras.Sequential([\n",
    "        embedded,\n",
    "        keras.layers.SpatialDropout1D(0.3),\n",
    "        keras.layers.Bidirectional(keras.layers.GRU(64, return_sequences=True)),\n",
    "        keras.layers.Convolution1D(64, 3, activation=\"relu\"),\n",
    "        keras.layers.GlobalMaxPool1D(),\n",
    "        keras.layers.Dense(25, activation=\"relu\"),\n",
    "        keras.layers.Dropout(0.4),\n",
    "        keras.layers.Dense(1, activation='sigmoid')])\n",
    "\n",
    "    model.compile(optimizer=tf.keras.optimizers.RMSprop(lr=1e-4),\n",
    "            loss=tf.losses.BinaryCrossentropy(from_logits=True),\n",
    "            metrics=['accuracy'])\n",
    "\n",
    "    print(model.summary())\n",
    "    \n",
    "    return model"
   ]
  },
  {
   "cell_type": "code",
   "execution_count": 501,
   "id": "f8fcd40c",
   "metadata": {
    "scrolled": true
   },
   "outputs": [
    {
     "name": "stdout",
     "output_type": "stream",
     "text": [
      "Model: \"sequential_44\"\n",
      "_________________________________________________________________\n",
      " Layer (type)                Output Shape              Param #   \n",
      "=================================================================\n",
      " embedding_44 (Embedding)    (None, None, 100)         1609700   \n",
      "                                                                 \n",
      " spatial_dropout1d_12 (Spati  (None, None, 100)        0         \n",
      " alDropout1D)                                                    \n",
      "                                                                 \n",
      " bidirectional_12 (Bidirecti  (None, None, 128)        63744     \n",
      " onal)                                                           \n",
      "                                                                 \n",
      " conv1d_12 (Conv1D)          (None, None, 64)          24640     \n",
      "                                                                 \n",
      " global_max_pooling1d_12 (Gl  (None, 64)               0         \n",
      " obalMaxPooling1D)                                               \n",
      "                                                                 \n",
      " dense_88 (Dense)            (None, 25)                1625      \n",
      "                                                                 \n",
      " dropout_12 (Dropout)        (None, 25)                0         \n",
      "                                                                 \n",
      " dense_89 (Dense)            (None, 1)                 26        \n",
      "                                                                 \n",
      "=================================================================\n",
      "Total params: 1,699,735\n",
      "Trainable params: 90,035\n",
      "Non-trainable params: 1,609,700\n",
      "_________________________________________________________________\n",
      "None\n",
      "Epoch 1/40\n",
      "141/141 [==============================] - 30s 119ms/step - loss: 0.6666 - accuracy: 0.6218 - val_loss: 0.6385 - val_accuracy: 0.6440\n",
      "Epoch 2/40\n",
      "141/141 [==============================] - 16s 111ms/step - loss: 0.6264 - accuracy: 0.6767 - val_loss: 0.6061 - val_accuracy: 0.7040\n",
      "Epoch 3/40\n",
      "141/141 [==============================] - 13s 95ms/step - loss: 0.5963 - accuracy: 0.6962 - val_loss: 0.5708 - val_accuracy: 0.7380\n",
      "Epoch 4/40\n",
      "141/141 [==============================] - 13s 93ms/step - loss: 0.5778 - accuracy: 0.7122 - val_loss: 0.5464 - val_accuracy: 0.7440\n",
      "Epoch 5/40\n",
      "141/141 [==============================] - 13s 93ms/step - loss: 0.5558 - accuracy: 0.7298 - val_loss: 0.5322 - val_accuracy: 0.7420\n",
      "Epoch 6/40\n",
      "141/141 [==============================] - 14s 97ms/step - loss: 0.5440 - accuracy: 0.7376 - val_loss: 0.5187 - val_accuracy: 0.7640\n",
      "Epoch 7/40\n",
      "141/141 [==============================] - 15s 108ms/step - loss: 0.5360 - accuracy: 0.7467 - val_loss: 0.5131 - val_accuracy: 0.7720\n",
      "Epoch 8/40\n",
      "141/141 [==============================] - 16s 116ms/step - loss: 0.5274 - accuracy: 0.7469 - val_loss: 0.4998 - val_accuracy: 0.7620\n",
      "Epoch 9/40\n",
      "141/141 [==============================] - 15s 106ms/step - loss: 0.5205 - accuracy: 0.7604 - val_loss: 0.4934 - val_accuracy: 0.7780\n",
      "Epoch 10/40\n",
      "141/141 [==============================] - 13s 93ms/step - loss: 0.5179 - accuracy: 0.7587 - val_loss: 0.4871 - val_accuracy: 0.7760\n",
      "Epoch 11/40\n",
      "141/141 [==============================] - 14s 97ms/step - loss: 0.5189 - accuracy: 0.7544 - val_loss: 0.4855 - val_accuracy: 0.7820\n",
      "Epoch 12/40\n",
      "141/141 [==============================] - 13s 96ms/step - loss: 0.5160 - accuracy: 0.7556 - val_loss: 0.4837 - val_accuracy: 0.7700\n",
      "Epoch 13/40\n",
      "141/141 [==============================] - 13s 95ms/step - loss: 0.5072 - accuracy: 0.7642 - val_loss: 0.4780 - val_accuracy: 0.7760\n",
      "Epoch 14/40\n",
      "141/141 [==============================] - 16s 111ms/step - loss: 0.5081 - accuracy: 0.7649 - val_loss: 0.4712 - val_accuracy: 0.7780\n",
      "Epoch 15/40\n",
      "141/141 [==============================] - 15s 104ms/step - loss: 0.4998 - accuracy: 0.7660 - val_loss: 0.4705 - val_accuracy: 0.7780\n",
      "Epoch 16/40\n",
      "141/141 [==============================] - 15s 103ms/step - loss: 0.4986 - accuracy: 0.7633 - val_loss: 0.4664 - val_accuracy: 0.7960\n",
      "Epoch 17/40\n",
      "141/141 [==============================] - 16s 111ms/step - loss: 0.4904 - accuracy: 0.7716 - val_loss: 0.4655 - val_accuracy: 0.7800\n",
      "Epoch 18/40\n",
      "141/141 [==============================] - 14s 99ms/step - loss: 0.4890 - accuracy: 0.7738 - val_loss: 0.4619 - val_accuracy: 0.7820\n",
      "Epoch 19/40\n",
      "141/141 [==============================] - 14s 102ms/step - loss: 0.4942 - accuracy: 0.7751 - val_loss: 0.4606 - val_accuracy: 0.7860\n",
      "Epoch 20/40\n",
      "141/141 [==============================] - 15s 110ms/step - loss: 0.4823 - accuracy: 0.7749 - val_loss: 0.4565 - val_accuracy: 0.7880\n",
      "Epoch 21/40\n",
      "141/141 [==============================] - 13s 96ms/step - loss: 0.4772 - accuracy: 0.7820 - val_loss: 0.4570 - val_accuracy: 0.7940\n",
      "Epoch 22/40\n",
      "141/141 [==============================] - 16s 113ms/step - loss: 0.4684 - accuracy: 0.7867 - val_loss: 0.4563 - val_accuracy: 0.7940\n",
      "Epoch 23/40\n",
      "141/141 [==============================] - 16s 114ms/step - loss: 0.4746 - accuracy: 0.7871 - val_loss: 0.4535 - val_accuracy: 0.7920\n",
      "Epoch 24/40\n",
      "141/141 [==============================] - 18s 129ms/step - loss: 0.4679 - accuracy: 0.7896 - val_loss: 0.4518 - val_accuracy: 0.7960\n",
      "Epoch 25/40\n",
      "141/141 [==============================] - 17s 120ms/step - loss: 0.4711 - accuracy: 0.7887 - val_loss: 0.4541 - val_accuracy: 0.7920\n",
      "Epoch 26/40\n",
      "141/141 [==============================] - 17s 119ms/step - loss: 0.4621 - accuracy: 0.7900 - val_loss: 0.4485 - val_accuracy: 0.7940\n",
      "Epoch 27/40\n",
      "141/141 [==============================] - 14s 102ms/step - loss: 0.4600 - accuracy: 0.7884 - val_loss: 0.4486 - val_accuracy: 0.7980\n",
      "Epoch 28/40\n",
      "141/141 [==============================] - 14s 102ms/step - loss: 0.4612 - accuracy: 0.7969 - val_loss: 0.4460 - val_accuracy: 0.7960\n",
      "Epoch 29/40\n",
      "141/141 [==============================] - 14s 101ms/step - loss: 0.4611 - accuracy: 0.7922 - val_loss: 0.4491 - val_accuracy: 0.8020\n",
      "Epoch 30/40\n",
      "141/141 [==============================] - 15s 103ms/step - loss: 0.4566 - accuracy: 0.7898 - val_loss: 0.4481 - val_accuracy: 0.7800\n",
      "Epoch 31/40\n",
      "141/141 [==============================] - 18s 128ms/step - loss: 0.4481 - accuracy: 0.7940 - val_loss: 0.4412 - val_accuracy: 0.7960\n",
      "Epoch 32/40\n",
      "141/141 [==============================] - 21s 151ms/step - loss: 0.4503 - accuracy: 0.8031 - val_loss: 0.4458 - val_accuracy: 0.7920\n",
      "Epoch 33/40\n",
      "141/141 [==============================] - 17s 120ms/step - loss: 0.4539 - accuracy: 0.7936 - val_loss: 0.4411 - val_accuracy: 0.7920\n",
      "Epoch 34/40\n",
      "141/141 [==============================] - 16s 112ms/step - loss: 0.4460 - accuracy: 0.7964 - val_loss: 0.4391 - val_accuracy: 0.7960\n",
      "Epoch 35/40\n",
      "141/141 [==============================] - 16s 115ms/step - loss: 0.4418 - accuracy: 0.8011 - val_loss: 0.4432 - val_accuracy: 0.8000\n",
      "Epoch 36/40\n",
      "141/141 [==============================] - 16s 114ms/step - loss: 0.4478 - accuracy: 0.7958 - val_loss: 0.4388 - val_accuracy: 0.8000\n",
      "Epoch 37/40\n",
      "141/141 [==============================] - 15s 110ms/step - loss: 0.4412 - accuracy: 0.8022 - val_loss: 0.4392 - val_accuracy: 0.8000\n",
      "Epoch 38/40\n",
      "141/141 [==============================] - 20s 144ms/step - loss: 0.4312 - accuracy: 0.7998 - val_loss: 0.4372 - val_accuracy: 0.7940\n",
      "Epoch 39/40\n",
      "141/141 [==============================] - 22s 153ms/step - loss: 0.4408 - accuracy: 0.8069 - val_loss: 0.4446 - val_accuracy: 0.8000\n",
      "Epoch 40/40\n",
      "141/141 [==============================] - 20s 144ms/step - loss: 0.4370 - accuracy: 0.7993 - val_loss: 0.4386 - val_accuracy: 0.8000\n"
     ]
    },
    {
     "data": {
      "image/png": "[encoded data removed]",
      "text/plain": [
       "<Figure size 432x288 with 1 Axes>"
      ]
     },
     "metadata": {},
     "output_type": "display_data"
    },
    {
     "data": {
      "image/png": "[encoded data removed]",
      "text/plain": [
       "<Figure size 432x288 with 1 Axes>"
      ]
     },
     "metadata": {},
     "output_type": "display_data"
    },
    {
     "name": "stdout",
     "output_type": "stream",
     "text": [
      "42/42 [==============================] - 6s 28ms/step\n",
      "================================================\n",
      "Accuracy: 78.47%\n",
      "F1 Score: 0.849921\n",
      "Accuracy on mini_dem: 86.04%\n",
      "F1 Score mini_dem: 0.924968\n",
      "\n",
      "White FPR: 0.1371900826446281\n",
      "Hispanic FPR: 0.14626865671641792\n",
      "AA FPR: 0.23493975903614459\n",
      "Other FPR: 0.0\n"
     ]
    }
   ],
   "source": [
    "run(recurrent_cnn(), 'recurrent_cnn_balanced', epochs=40)"
   ]
  },
  {
   "cell_type": "code",
   "execution_count": 532,
   "id": "7320ac1d",
   "metadata": {},
   "outputs": [],
   "source": [
    "def recurrent_cnn2():\n",
    "    embedded = keras.layers.Embedding(max_features, embedding_dim, weights=[embedding_matrix], trainable=False)\n",
    "\n",
    "    model = keras.Sequential([\n",
    "        embedded,\n",
    "        keras.layers.SpatialDropout1D(0.3),\n",
    "        keras.layers.Bidirectional(keras.layers.GRU(64,return_sequences=True)),\n",
    "        keras.layers.Bidirectional(keras.layers.GRU(64,return_sequences=True)),\n",
    "        keras.layers.Convolution1D(32, 3, activation=\"relu\"),\n",
    "        keras.layers.GlobalMaxPool1D(),\n",
    "        keras.layers.Dense(25, activation=\"relu\"),\n",
    "        keras.layers.Dropout(0.40),\n",
    "        keras.layers.Dense(1, activation='sigmoid')])\n",
    "\n",
    "    model.compile(optimizer=tf.keras.optimizers.RMSprop(lr=1e-4),\n",
    "            loss=tf.losses.BinaryCrossentropy(from_logits=True),\n",
    "            metrics=['accuracy'])\n",
    "\n",
    "    print(model.summary())\n",
    "    \n",
    "    return model"
   ]
  },
  {
   "cell_type": "code",
   "execution_count": 533,
   "id": "25493e3a",
   "metadata": {
    "scrolled": true
   },
   "outputs": [
    {
     "name": "stdout",
     "output_type": "stream",
     "text": [
      "Model: \"sequential_53\"\n",
      "_________________________________________________________________\n",
      " Layer (type)                Output Shape              Param #   \n",
      "=================================================================\n",
      " embedding_53 (Embedding)    (None, None, 100)         1609700   \n",
      "                                                                 \n",
      " spatial_dropout1d_16 (Spati  (None, None, 100)        0         \n",
      " alDropout1D)                                                    \n",
      "                                                                 \n",
      " bidirectional_17 (Bidirecti  (None, None, 128)        63744     \n",
      " onal)                                                           \n",
      "                                                                 \n",
      " bidirectional_18 (Bidirecti  (None, None, 128)        74496     \n",
      " onal)                                                           \n",
      "                                                                 \n",
      " conv1d_16 (Conv1D)          (None, None, 32)          12320     \n",
      "                                                                 \n",
      " global_max_pooling1d_16 (Gl  (None, 32)               0         \n",
      " obalMaxPooling1D)                                               \n",
      "                                                                 \n",
      " dense_106 (Dense)           (None, 25)                825       \n",
      "                                                                 \n",
      " dropout_16 (Dropout)        (None, 25)                0         \n",
      "                                                                 \n",
      " dense_107 (Dense)           (None, 1)                 26        \n",
      "                                                                 \n",
      "=================================================================\n",
      "Total params: 1,761,111\n",
      "Trainable params: 151,411\n",
      "Non-trainable params: 1,609,700\n",
      "_________________________________________________________________\n",
      "None\n",
      "Epoch 1/40\n",
      "141/141 [==============================] - 23s 106ms/step - loss: 0.6432 - accuracy: 0.6709 - val_loss: 0.6376 - val_accuracy: 0.6400\n",
      "Epoch 2/40\n",
      "141/141 [==============================] - 13s 96ms/step - loss: 0.6231 - accuracy: 0.6736 - val_loss: 0.6166 - val_accuracy: 0.6440\n",
      "Epoch 3/40\n",
      "141/141 [==============================] - 14s 101ms/step - loss: 0.6017 - accuracy: 0.6867 - val_loss: 0.5820 - val_accuracy: 0.6980\n",
      "Epoch 4/40\n",
      "141/141 [==============================] - 18s 125ms/step - loss: 0.5836 - accuracy: 0.7049 - val_loss: 0.5621 - val_accuracy: 0.7080\n",
      "Epoch 5/40\n",
      "141/141 [==============================] - 17s 117ms/step - loss: 0.5622 - accuracy: 0.7258 - val_loss: 0.5408 - val_accuracy: 0.7360\n",
      "Epoch 6/40\n",
      "141/141 [==============================] - 16s 113ms/step - loss: 0.5563 - accuracy: 0.7244 - val_loss: 0.5298 - val_accuracy: 0.7280\n",
      "Epoch 7/40\n",
      "141/141 [==============================] - 16s 115ms/step - loss: 0.5467 - accuracy: 0.7347 - val_loss: 0.5190 - val_accuracy: 0.7400\n",
      "Epoch 8/40\n",
      "141/141 [==============================] - 16s 114ms/step - loss: 0.5386 - accuracy: 0.7402 - val_loss: 0.5099 - val_accuracy: 0.7500\n",
      "Epoch 9/40\n",
      "141/141 [==============================] - 16s 110ms/step - loss: 0.5362 - accuracy: 0.7462 - val_loss: 0.5064 - val_accuracy: 0.7560\n",
      "Epoch 10/40\n",
      "141/141 [==============================] - 16s 112ms/step - loss: 0.5228 - accuracy: 0.7511 - val_loss: 0.4935 - val_accuracy: 0.7620\n",
      "Epoch 11/40\n",
      "141/141 [==============================] - 17s 118ms/step - loss: 0.5136 - accuracy: 0.7627 - val_loss: 0.4996 - val_accuracy: 0.7460\n",
      "Epoch 12/40\n",
      "141/141 [==============================] - 16s 113ms/step - loss: 0.5150 - accuracy: 0.7578 - val_loss: 0.4818 - val_accuracy: 0.7680\n",
      "Epoch 13/40\n",
      "141/141 [==============================] - 17s 118ms/step - loss: 0.5131 - accuracy: 0.7620 - val_loss: 0.4761 - val_accuracy: 0.7700\n",
      "Epoch 14/40\n",
      "141/141 [==============================] - 16s 114ms/step - loss: 0.5070 - accuracy: 0.7613 - val_loss: 0.4724 - val_accuracy: 0.7760\n",
      "Epoch 15/40\n",
      "141/141 [==============================] - 16s 115ms/step - loss: 0.5065 - accuracy: 0.7598 - val_loss: 0.4752 - val_accuracy: 0.7700\n",
      "Epoch 16/40\n",
      "141/141 [==============================] - 16s 116ms/step - loss: 0.5022 - accuracy: 0.7689 - val_loss: 0.4653 - val_accuracy: 0.7860\n",
      "Epoch 17/40\n",
      "141/141 [==============================] - 18s 125ms/step - loss: 0.4973 - accuracy: 0.7696 - val_loss: 0.4641 - val_accuracy: 0.7740\n",
      "Epoch 18/40\n",
      "141/141 [==============================] - 17s 123ms/step - loss: 0.4940 - accuracy: 0.7764 - val_loss: 0.4716 - val_accuracy: 0.7640\n",
      "Epoch 19/40\n",
      "141/141 [==============================] - 16s 115ms/step - loss: 0.4874 - accuracy: 0.7744 - val_loss: 0.4665 - val_accuracy: 0.7720\n",
      "Epoch 20/40\n",
      "141/141 [==============================] - 17s 118ms/step - loss: 0.4908 - accuracy: 0.7782 - val_loss: 0.4566 - val_accuracy: 0.7900\n",
      "Epoch 21/40\n",
      "141/141 [==============================] - 16s 113ms/step - loss: 0.4826 - accuracy: 0.7700 - val_loss: 0.4524 - val_accuracy: 0.7860\n",
      "Epoch 22/40\n",
      "141/141 [==============================] - 16s 114ms/step - loss: 0.4841 - accuracy: 0.7747 - val_loss: 0.4538 - val_accuracy: 0.7840\n",
      "Epoch 23/40\n",
      "141/141 [==============================] - 18s 124ms/step - loss: 0.4789 - accuracy: 0.7782 - val_loss: 0.4525 - val_accuracy: 0.7820\n",
      "Epoch 24/40\n",
      "141/141 [==============================] - 16s 115ms/step - loss: 0.4779 - accuracy: 0.7833 - val_loss: 0.4507 - val_accuracy: 0.7820\n",
      "Epoch 25/40\n",
      "141/141 [==============================] - 16s 116ms/step - loss: 0.4759 - accuracy: 0.7807 - val_loss: 0.4476 - val_accuracy: 0.7760\n",
      "Epoch 26/40\n",
      "141/141 [==============================] - 17s 118ms/step - loss: 0.4637 - accuracy: 0.7896 - val_loss: 0.4482 - val_accuracy: 0.7840\n",
      "Epoch 27/40\n",
      "141/141 [==============================] - 16s 113ms/step - loss: 0.4671 - accuracy: 0.7851 - val_loss: 0.4436 - val_accuracy: 0.7800\n",
      "Epoch 28/40\n",
      "141/141 [==============================] - 17s 118ms/step - loss: 0.4651 - accuracy: 0.7831 - val_loss: 0.4434 - val_accuracy: 0.7880\n",
      "Epoch 29/40\n",
      "141/141 [==============================] - 16s 115ms/step - loss: 0.4573 - accuracy: 0.7922 - val_loss: 0.4454 - val_accuracy: 0.7880\n",
      "Epoch 30/40\n",
      "141/141 [==============================] - 16s 115ms/step - loss: 0.4622 - accuracy: 0.7878 - val_loss: 0.4434 - val_accuracy: 0.7780\n",
      "Epoch 31/40\n",
      "141/141 [==============================] - 17s 119ms/step - loss: 0.4557 - accuracy: 0.7960 - val_loss: 0.4500 - val_accuracy: 0.7800\n",
      "Epoch 32/40\n",
      "141/141 [==============================] - 16s 115ms/step - loss: 0.4588 - accuracy: 0.7938 - val_loss: 0.4402 - val_accuracy: 0.7840\n",
      "Epoch 33/40\n",
      "141/141 [==============================] - 17s 117ms/step - loss: 0.4533 - accuracy: 0.7976 - val_loss: 0.4394 - val_accuracy: 0.7780\n",
      "Epoch 34/40\n",
      "141/141 [==============================] - 16s 112ms/step - loss: 0.4556 - accuracy: 0.7907 - val_loss: 0.4394 - val_accuracy: 0.7760\n",
      "Epoch 35/40\n",
      "141/141 [==============================] - 16s 113ms/step - loss: 0.4482 - accuracy: 0.7976 - val_loss: 0.4389 - val_accuracy: 0.7760\n",
      "Epoch 36/40\n",
      "141/141 [==============================] - 17s 117ms/step - loss: 0.4527 - accuracy: 0.7929 - val_loss: 0.4422 - val_accuracy: 0.7680\n",
      "Epoch 37/40\n",
      "141/141 [==============================] - 16s 115ms/step - loss: 0.4473 - accuracy: 0.7982 - val_loss: 0.4382 - val_accuracy: 0.7760\n",
      "Epoch 38/40\n",
      "141/141 [==============================] - 16s 115ms/step - loss: 0.4609 - accuracy: 0.7942 - val_loss: 0.4405 - val_accuracy: 0.7780\n",
      "Epoch 39/40\n",
      "141/141 [==============================] - 16s 114ms/step - loss: 0.4471 - accuracy: 0.7998 - val_loss: 0.4422 - val_accuracy: 0.7580\n",
      "Epoch 40/40\n",
      "141/141 [==============================] - 16s 115ms/step - loss: 0.4350 - accuracy: 0.8022 - val_loss: 0.4419 - val_accuracy: 0.7660\n"
     ]
    },
    {
     "data": {
      "image/png": "[encoded data removed]",
      "text/plain": [
       "<Figure size 432x288 with 1 Axes>"
      ]
     },
     "metadata": {},
     "output_type": "display_data"
    },
    {
     "data": {
      "image/png": "[encoded data removed]",
      "text/plain": [
       "<Figure size 432x288 with 1 Axes>"
      ]
     },
     "metadata": {},
     "output_type": "display_data"
    },
    {
     "name": "stdout",
     "output_type": "stream",
     "text": [
      "42/42 [==============================] - 2s 25ms/step\n",
      "================================================\n",
      "Accuracy: 76.89%\n",
      "F1 Score: 0.831683\n",
      "Accuracy on mini_dem: 82.43%\n",
      "F1 Score mini_dem: 0.903707\n",
      "\n",
      "White FPR: 0.17331759149940967\n",
      "Hispanic FPR: 0.18208955223880596\n",
      "AA FPR: 0.2891566265060241\n",
      "Other FPR: 0.0\n"
     ]
    }
   ],
   "source": [
    "run(recurrent_cnn2(), 'recurrent_cnn2_balanced', epochs=40)"
   ]
  },
  {
   "cell_type": "code",
   "execution_count": 483,
   "id": "721749d0",
   "metadata": {},
   "outputs": [
    {
     "data": {
      "text/plain": [
       "array([0.12, 0.38, 0.01, 0.49])"
      ]
     },
     "execution_count": 483,
     "metadata": {},
     "output_type": "execute_result"
    }
   ],
   "source": [
    "np.round(train.loc[max(indices)].probs, decimals=2)"
   ]
  },
  {
   "cell_type": "code",
   "execution_count": 496,
   "id": "52be8750",
   "metadata": {},
   "outputs": [
    {
     "name": "stdout",
     "output_type": "stream",
     "text": [
      "0.7326283987915407\n",
      "              precision    recall  f1-score   support\n",
      "\n",
      "         0.0       0.79      0.27      0.40       440\n",
      "         1.0       0.73      0.96      0.83       884\n",
      "\n",
      "    accuracy                           0.73      1324\n",
      "   macro avg       0.76      0.62      0.61      1324\n",
      "weighted avg       0.75      0.73      0.69      1324\n",
      "\n"
     ]
    }
   ],
   "source": [
    "xtr = train.loc[indices]['text']\n",
    "ytr = train.loc[indices]['label']\n",
    "\n",
    "xte = dev[\"text\"].values\n",
    "yte = np.array([0.0 if l==\"OFF\" else 1.0 for l in dev[\"label\"]])\n",
    "\n",
    "logr2 = Pipeline([\n",
    "    ('vectorizer', CountVectorizer()),\n",
    "    ('tfidf', TfidfTransformer()),\n",
    "    ('logreg', LogisticRegression(solver='liblinear', penalty='l2')),\n",
    "])\n",
    "\n",
    "logr2.fit(xtr, ytr)\n",
    "ypre = logr2.predict(xte)\n",
    "print(accuracy_score(yte, ypre))\n",
    "print(classification_report(yte, ypre))"
   ]
  },
  {
   "cell_type": "code",
   "execution_count": 497,
   "id": "03280b8c",
   "metadata": {},
   "outputs": [
    {
     "name": "stdout",
     "output_type": "stream",
     "text": [
      "Accuracy on mini_dem: 91.07%\n",
      "F1 Score mini_dem: 0.953256\n",
      "\n",
      "White FPR: 0.08311688311688312\n",
      "Hispanic FPR: 0.10746268656716418\n",
      "AA FPR: 0.19578313253012047\n",
      "Other FPR: 0.0\n"
     ]
    }
   ],
   "source": [
    "xtde = mini_demographic_dev[\"text\"].values\n",
    "ytde = mini_demographic_dev[\"bin_label\"].values\n",
    "\n",
    "y_pred_dev = logr2.predict(xtde)\n",
    "\n",
    "print(\"Accuracy on mini_dem: {:.2f}%\".format(accuracy_score(ytde, y_pred_dev) * 100))\n",
    "print(\"F1 Score mini_dem: {:.6f}\".format(f1_score(ytde, y_pred_dev)))\n",
    "\n",
    "mini_demographic_dev[\"pred_label\"] = [int(i) for i in y_pred_dev]\n",
    "\n",
    "white_df = mini_demographic_dev[mini_demographic_dev[\"demographic\"] == \"White\"]\n",
    "hispanic_df = mini_demographic_dev[mini_demographic_dev[\"demographic\"] == \"Hispanic\"]\n",
    "AA_df = mini_demographic_dev[mini_demographic_dev[\"demographic\"] == \"AA\"]\n",
    "other_df = mini_demographic_dev[mini_demographic_dev[\"demographic\"] == \"Other\"]\n",
    "\n",
    "white_fpr = get_fpr(white_df)\n",
    "hispanic_fpr = get_fpr(hispanic_df)\n",
    "AA_fpr = get_fpr(AA_df)\n",
    "other_fpr = get_fpr(other_df)\n",
    "\n",
    "print(\"\")\n",
    "print(\"White FPR:\", white_fpr)\n",
    "print(\"Hispanic FPR:\", hispanic_fpr)\n",
    "print(\"AA FPR:\", AA_fpr)\n",
    "print(\"Other FPR:\", other_fpr)"
   ]
  },
  {
   "cell_type": "code",
   "execution_count": 498,
   "id": "0d4601cb",
   "metadata": {},
   "outputs": [
    {
     "name": "stdout",
     "output_type": "stream",
     "text": [
      "0.709214501510574\n",
      "              precision    recall  f1-score   support\n",
      "\n",
      "         0.0       0.81      0.16      0.27       440\n",
      "         1.0       0.70      0.98      0.82       884\n",
      "\n",
      "    accuracy                           0.71      1324\n",
      "   macro avg       0.76      0.57      0.55      1324\n",
      "weighted avg       0.74      0.71      0.64      1324\n",
      "\n"
     ]
    }
   ],
   "source": [
    "xtr = train.loc[indices]['text']\n",
    "ytr = train.loc[indices]['label']\n",
    "\n",
    "xte = dev[\"text\"].values\n",
    "yte = np.array([0.0 if l==\"OFF\" else 1.0 for l in dev[\"label\"]])\n",
    "\n",
    "nb = Pipeline([\n",
    "    ('vectorizer', CountVectorizer()),\n",
    "    ('tfidf', TfidfTransformer()),\n",
    "    ('nb', MultinomialNB()),])\n",
    "\n",
    "nb.fit(xtr, ytr)\n",
    "ypre = nb.predict(xte)\n",
    "print(accuracy_score(yte, ypre))\n",
    "print(classification_report(yte, ypre))"
   ]
  },
  {
   "cell_type": "code",
   "execution_count": 499,
   "id": "e6396bc8",
   "metadata": {},
   "outputs": [
    {
     "name": "stdout",
     "output_type": "stream",
     "text": [
      "Accuracy on mini_dem: 93.75%\n",
      "F1 Score mini_dem: 0.967742\n",
      "\n",
      "White FPR: 0.0590318772136954\n",
      "Hispanic FPR: 0.056716417910447764\n",
      "AA FPR: 0.1355421686746988\n",
      "Other FPR: 0.01764705882352941\n"
     ]
    }
   ],
   "source": [
    "xtde = mini_demographic_dev[\"text\"].values\n",
    "ytde = mini_demographic_dev[\"bin_label\"].values\n",
    "\n",
    "y_pred_dev = nb.predict(xtde)\n",
    "\n",
    "print(\"Accuracy on mini_dem: {:.2f}%\".format(accuracy_score(ytde, y_pred_dev) * 100))\n",
    "print(\"F1 Score mini_dem: {:.6f}\".format(f1_score(ytde, y_pred_dev)))\n",
    "\n",
    "mini_demographic_dev[\"pred_label\"] = [int(i) for i in y_pred_dev]\n",
    "\n",
    "white_df = mini_demographic_dev[mini_demographic_dev[\"demographic\"] == \"White\"]\n",
    "hispanic_df = mini_demographic_dev[mini_demographic_dev[\"demographic\"] == \"Hispanic\"]\n",
    "AA_df = mini_demographic_dev[mini_demographic_dev[\"demographic\"] == \"AA\"]\n",
    "other_df = mini_demographic_dev[mini_demographic_dev[\"demographic\"] == \"Other\"]\n",
    "\n",
    "white_fpr = get_fpr(white_df)\n",
    "hispanic_fpr = get_fpr(hispanic_df)\n",
    "AA_fpr = get_fpr(AA_df)\n",
    "other_fpr = get_fpr(other_df)\n",
    "\n",
    "print(\"\")\n",
    "print(\"White FPR:\", white_fpr)\n",
    "print(\"Hispanic FPR:\", hispanic_fpr)\n",
    "print(\"AA FPR:\", AA_fpr)\n",
    "print(\"Other FPR:\", other_fpr)"
   ]
  },
  {
   "cell_type": "code",
   "execution_count": 519,
   "id": "258c44d2",
   "metadata": {},
   "outputs": [
    {
     "name": "stdout",
     "output_type": "stream",
     "text": [
      "[18:02:26] WARNING: /Users/runner/work/xgboost/xgboost/src/learner.cc:1115: Starting in XGBoost 1.3.0, the default evaluation metric used with the objective 'binary:logistic' was changed from 'error' to 'logloss'. Explicitly set eval_metric if you'd like to restore the old behavior.\n",
      "0.7515105740181269\n",
      "              precision    recall  f1-score   support\n",
      "\n",
      "         0.0       0.75      0.38      0.50       440\n",
      "         1.0       0.75      0.94      0.83       884\n",
      "\n",
      "    accuracy                           0.75      1324\n",
      "   macro avg       0.75      0.66      0.67      1324\n",
      "weighted avg       0.75      0.75      0.72      1324\n",
      "\n",
      "Accuracy on mini_dem: 92.09%\n",
      "F1 Score mini_dem: 0.958842\n",
      "\n",
      "White FPR: 0.07579693034238488\n",
      "Hispanic FPR: 0.08358208955223881\n",
      "AA FPR: 0.1566265060240964\n",
      "Other FPR: 0.0\n"
     ]
    }
   ],
   "source": [
    "xtr = train.loc[indices]['text']\n",
    "ytr = train.loc[indices]['label']\n",
    "\n",
    "xte = dev[\"text\"].values\n",
    "yte = np.array([0.0 if l==\"OFF\" else 1.0 for l in dev[\"label\"]])\n",
    "\n",
    "m = Pipeline([\n",
    "    ('vectorizer', CountVectorizer()),\n",
    "    ('tfidf', TfidfTransformer()),\n",
    "    ('m', XGBClassifier()),])\n",
    "\n",
    "m.fit(xtr, ytr)\n",
    "ypre = m.predict(xte)\n",
    "print(accuracy_score(yte, ypre))\n",
    "print(classification_report(yte, ypre))\n",
    "\n",
    "xtde = mini_demographic_dev[\"text\"].values\n",
    "ytde = mini_demographic_dev[\"bin_label\"].values\n",
    "\n",
    "y_pred_dev = m.predict(xtde)\n",
    "\n",
    "print(\"Accuracy on mini_dem: {:.2f}%\".format(accuracy_score(ytde, y_pred_dev) * 100))\n",
    "print(\"F1 Score mini_dem: {:.6f}\".format(f1_score(ytde, y_pred_dev)))\n",
    "\n",
    "mini_demographic_dev[\"pred_label\"] = [int(i) for i in y_pred_dev]\n",
    "\n",
    "white_df = mini_demographic_dev[mini_demographic_dev[\"demographic\"] == \"White\"]\n",
    "hispanic_df = mini_demographic_dev[mini_demographic_dev[\"demographic\"] == \"Hispanic\"]\n",
    "AA_df = mini_demographic_dev[mini_demographic_dev[\"demographic\"] == \"AA\"]\n",
    "other_df = mini_demographic_dev[mini_demographic_dev[\"demographic\"] == \"Other\"]\n",
    "\n",
    "white_fpr = get_fpr(white_df)\n",
    "hispanic_fpr = get_fpr(hispanic_df)\n",
    "AA_fpr = get_fpr(AA_df)\n",
    "other_fpr = get_fpr(other_df)\n",
    "\n",
    "print(\"\")\n",
    "print(\"White FPR:\", white_fpr)\n",
    "print(\"Hispanic FPR:\", hispanic_fpr)\n",
    "print(\"AA FPR:\", AA_fpr)\n",
    "print(\"Other FPR:\", other_fpr)"
   ]
  },
  {
   "cell_type": "code",
   "execution_count": 520,
   "id": "1864a4c3",
   "metadata": {},
   "outputs": [
    {
     "name": "stdout",
     "output_type": "stream",
     "text": [
      "0.7401812688821753\n",
      "              precision    recall  f1-score   support\n",
      "\n",
      "         0.0       0.83      0.27      0.41       440\n",
      "         1.0       0.73      0.97      0.83       884\n",
      "\n",
      "    accuracy                           0.74      1324\n",
      "   macro avg       0.78      0.62      0.62      1324\n",
      "weighted avg       0.76      0.74      0.69      1324\n",
      "\n",
      "Accuracy on mini_dem: 93.30%\n",
      "F1 Score mini_dem: 0.965320\n",
      "\n",
      "White FPR: 0.06233766233766234\n",
      "Hispanic FPR: 0.07462686567164178\n",
      "AA FPR: 0.1536144578313253\n",
      "Other FPR: 0.0\n"
     ]
    }
   ],
   "source": [
    "xtr = train.loc[indices]['text']\n",
    "ytr = train.loc[indices]['label']\n",
    "\n",
    "xte = dev[\"text\"].values\n",
    "yte = np.array([0.0 if l==\"OFF\" else 1.0 for l in dev[\"label\"]])\n",
    "\n",
    "m = Pipeline([\n",
    "    ('vectorizer', CountVectorizer()),\n",
    "    ('tfidf', TfidfTransformer()),\n",
    "    ('m', GradientBoostingClassifier()),])\n",
    "\n",
    "m.fit(xtr, ytr)\n",
    "ypre = m.predict(xte)\n",
    "print(accuracy_score(yte, ypre))\n",
    "print(classification_report(yte, ypre))\n",
    "\n",
    "xtde = mini_demographic_dev[\"text\"].values\n",
    "ytde = mini_demographic_dev[\"bin_label\"].values\n",
    "\n",
    "y_pred_dev = m.predict(xtde)\n",
    "\n",
    "print(\"Accuracy on mini_dem: {:.2f}%\".format(accuracy_score(ytde, y_pred_dev) * 100))\n",
    "print(\"F1 Score mini_dem: {:.6f}\".format(f1_score(ytde, y_pred_dev)))\n",
    "\n",
    "mini_demographic_dev[\"pred_label\"] = [int(i) for i in y_pred_dev]\n",
    "\n",
    "white_df = mini_demographic_dev[mini_demographic_dev[\"demographic\"] == \"White\"]\n",
    "hispanic_df = mini_demographic_dev[mini_demographic_dev[\"demographic\"] == \"Hispanic\"]\n",
    "AA_df = mini_demographic_dev[mini_demographic_dev[\"demographic\"] == \"AA\"]\n",
    "other_df = mini_demographic_dev[mini_demographic_dev[\"demographic\"] == \"Other\"]\n",
    "\n",
    "white_fpr = get_fpr(white_df)\n",
    "hispanic_fpr = get_fpr(hispanic_df)\n",
    "AA_fpr = get_fpr(AA_df)\n",
    "other_fpr = get_fpr(other_df)\n",
    "\n",
    "print(\"\")\n",
    "print(\"White FPR:\", white_fpr)\n",
    "print(\"Hispanic FPR:\", hispanic_fpr)\n",
    "print(\"AA FPR:\", AA_fpr)\n",
    "print(\"Other FPR:\", other_fpr)"
   ]
  },
  {
   "cell_type": "code",
   "execution_count": 521,
   "id": "01ff4bef",
   "metadata": {},
   "outputs": [
    {
     "name": "stdout",
     "output_type": "stream",
     "text": [
      "0.7326283987915407\n",
      "              precision    recall  f1-score   support\n",
      "\n",
      "         0.0       0.82      0.25      0.38       440\n",
      "         1.0       0.72      0.97      0.83       884\n",
      "\n",
      "    accuracy                           0.73      1324\n",
      "   macro avg       0.77      0.61      0.61      1324\n",
      "weighted avg       0.76      0.73      0.68      1324\n",
      "\n",
      "Accuracy on mini_dem: 92.29%\n",
      "F1 Score mini_dem: 0.959910\n",
      "\n",
      "White FPR: 0.07083825265643448\n",
      "Hispanic FPR: 0.09253731343283582\n",
      "AA FPR: 0.18072289156626506\n",
      "Other FPR: 0.0\n"
     ]
    }
   ],
   "source": [
    "xtr = train.loc[indices]['text']\n",
    "ytr = train.loc[indices]['label']\n",
    "\n",
    "xte = dev[\"text\"].values\n",
    "yte = np.array([0.0 if l==\"OFF\" else 1.0 for l in dev[\"label\"]])\n",
    "\n",
    "m = Pipeline([\n",
    "    ('vectorizer', CountVectorizer()),\n",
    "    ('tfidf', TfidfTransformer()),\n",
    "    ('m', SVC()),])\n",
    "\n",
    "m.fit(xtr, ytr)\n",
    "ypre = m.predict(xte)\n",
    "print(accuracy_score(yte, ypre))\n",
    "print(classification_report(yte, ypre))\n",
    "\n",
    "xtde = mini_demographic_dev[\"text\"].values\n",
    "ytde = mini_demographic_dev[\"bin_label\"].values\n",
    "\n",
    "y_pred_dev = m.predict(xtde)\n",
    "\n",
    "print(\"Accuracy on mini_dem: {:.2f}%\".format(accuracy_score(ytde, y_pred_dev) * 100))\n",
    "print(\"F1 Score mini_dem: {:.6f}\".format(f1_score(ytde, y_pred_dev)))\n",
    "\n",
    "mini_demographic_dev[\"pred_label\"] = [int(i) for i in y_pred_dev]\n",
    "\n",
    "white_df = mini_demographic_dev[mini_demographic_dev[\"demographic\"] == \"White\"]\n",
    "hispanic_df = mini_demographic_dev[mini_demographic_dev[\"demographic\"] == \"Hispanic\"]\n",
    "AA_df = mini_demographic_dev[mini_demographic_dev[\"demographic\"] == \"AA\"]\n",
    "other_df = mini_demographic_dev[mini_demographic_dev[\"demographic\"] == \"Other\"]\n",
    "\n",
    "white_fpr = get_fpr(white_df)\n",
    "hispanic_fpr = get_fpr(hispanic_df)\n",
    "AA_fpr = get_fpr(AA_df)\n",
    "other_fpr = get_fpr(other_df)\n",
    "\n",
    "print(\"\")\n",
    "print(\"White FPR:\", white_fpr)\n",
    "print(\"Hispanic FPR:\", hispanic_fpr)\n",
    "print(\"AA FPR:\", AA_fpr)\n",
    "print(\"Other FPR:\", other_fpr)"
   ]
  },
  {
   "cell_type": "code",
   "execution_count": 524,
   "id": "3f20a8eb",
   "metadata": {},
   "outputs": [
    {
     "name": "stdout",
     "output_type": "stream",
     "text": [
      "0.7477341389728097\n",
      "              precision    recall  f1-score   support\n",
      "\n",
      "         0.0       0.66      0.49      0.56       440\n",
      "         1.0       0.78      0.88      0.82       884\n",
      "\n",
      "    accuracy                           0.75      1324\n",
      "   macro avg       0.72      0.68      0.69      1324\n",
      "weighted avg       0.74      0.75      0.74      1324\n",
      "\n",
      "Accuracy on mini_dem: 81.90%\n",
      "F1 Score mini_dem: 0.900499\n",
      "\n",
      "White FPR: 0.17615112160566707\n",
      "Hispanic FPR: 0.18507462686567164\n",
      "AA FPR: 0.2891566265060241\n",
      "Other FPR: 0.08235294117647059\n"
     ]
    }
   ],
   "source": [
    "xtr = train.loc[indices]['text']\n",
    "ytr = train.loc[indices]['label']\n",
    "\n",
    "xte = dev[\"text\"].values\n",
    "yte = np.array([0.0 if l==\"OFF\" else 1.0 for l in dev[\"label\"]])\n",
    "\n",
    "m = Pipeline([\n",
    "    ('vectorizer', CountVectorizer()),\n",
    "    ('tfidf', TfidfTransformer()),\n",
    "    ('m', LinearSVC()),])\n",
    "\n",
    "m.fit(xtr, ytr)\n",
    "ypre = m.predict(xte)\n",
    "print(accuracy_score(yte, ypre))\n",
    "print(classification_report(yte, ypre))\n",
    "\n",
    "xtde = mini_demographic_dev[\"text\"].values\n",
    "ytde = mini_demographic_dev[\"bin_label\"].values\n",
    "\n",
    "y_pred_dev = m.predict(xtde)\n",
    "\n",
    "print(\"Accuracy on mini_dem: {:.2f}%\".format(accuracy_score(ytde, y_pred_dev) * 100))\n",
    "print(\"F1 Score mini_dem: {:.6f}\".format(f1_score(ytde, y_pred_dev)))\n",
    "\n",
    "mini_demographic_dev[\"pred_label\"] = [int(i) for i in y_pred_dev]\n",
    "\n",
    "white_df = mini_demographic_dev[mini_demographic_dev[\"demographic\"] == \"White\"]\n",
    "hispanic_df = mini_demographic_dev[mini_demographic_dev[\"demographic\"] == \"Hispanic\"]\n",
    "AA_df = mini_demographic_dev[mini_demographic_dev[\"demographic\"] == \"AA\"]\n",
    "other_df = mini_demographic_dev[mini_demographic_dev[\"demographic\"] == \"Other\"]\n",
    "\n",
    "white_fpr = get_fpr(white_df)\n",
    "hispanic_fpr = get_fpr(hispanic_df)\n",
    "AA_fpr = get_fpr(AA_df)\n",
    "other_fpr = get_fpr(other_df)\n",
    "\n",
    "print(\"\")\n",
    "print(\"White FPR:\", white_fpr)\n",
    "print(\"Hispanic FPR:\", hispanic_fpr)\n",
    "print(\"AA FPR:\", AA_fpr)\n",
    "print(\"Other FPR:\", other_fpr)"
   ]
  },
  {
   "cell_type": "code",
   "execution_count": null,
   "id": "d570bd0b",
   "metadata": {},
   "outputs": [],
   "source": []
  }
 ],
 "metadata": {
  "kernelspec": {
   "display_name": "Python 3",
   "language": "python",
   "name": "python3"
  },
  "language_info": {
   "codemirror_mode": {
    "name": "ipython",
    "version": 3
   },
   "file_extension": ".py",
   "mimetype": "text/x-python",
   "name": "python",
   "nbconvert_exporter": "python",
   "pygments_lexer": "ipython3",
   "version": "3.8.5"
  }
 },
 "nbformat": 4,
 "nbformat_minor": 5
}
